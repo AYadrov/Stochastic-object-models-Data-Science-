{
 "cells": [
  {
   "cell_type": "code",
   "execution_count": 1,
   "id": "sunset-affect",
   "metadata": {
    "slideshow": {
     "slide_type": "slide"
    }
   },
   "outputs": [],
   "source": [
    "import matplotlib.pyplot as plt\n",
    "import seaborn as sns\n",
    "\n",
    "from scipy.stats import shapiro\n",
    "from scipy.stats import mannwhitneyu\n",
    "from statistics import variance\n",
    "from scipy.stats import ansari\n",
    "from scipy.stats import bartlett\n",
    "from scipy.stats import levene\n",
    "from scipy.stats import ttest_ind\n",
    "from scipy.stats import kruskal\n",
    "from scipy.stats import fligner\n",
    "from scipy.stats import norm\n",
    "from scipy.stats import normaltest\n",
    "from scipy.stats import cauchy\n",
    "\n",
    "import numpy as np\n",
    "import random\n",
    "import pandas as pd\n",
    "\n",
    "%matplotlib inline"
   ]
  },
  {
   "cell_type": "markdown",
   "id": "gross-photography",
   "metadata": {
    "slideshow": {
     "slide_type": "slide"
    }
   },
   "source": [
    "### Начало работы с данными"
   ]
  },
  {
   "cell_type": "code",
   "execution_count": 2,
   "id": "cordless-librarian",
   "metadata": {
    "slideshow": {
     "slide_type": "slide"
    }
   },
   "outputs": [],
   "source": [
    "data = pd.read_csv('variant_21.csv', delimiter=',')"
   ]
  },
  {
   "cell_type": "code",
   "execution_count": 3,
   "id": "nutritional-melbourne",
   "metadata": {},
   "outputs": [
    {
     "name": "stdout",
     "output_type": "stream",
     "text": [
      "<class 'pandas.core.frame.DataFrame'>\n",
      "RangeIndex: 50 entries, 0 to 49\n",
      "Data columns (total 12 columns):\n",
      " #   Column      Non-Null Count  Dtype  \n",
      "---  ------      --------------  -----  \n",
      " 0   couple_1_1  50 non-null     float64\n",
      " 1   couple_1_2  50 non-null     float64\n",
      " 2   couple_2_1  50 non-null     float64\n",
      " 3   couple_2_2  50 non-null     float64\n",
      " 4   couple_3_1  50 non-null     float64\n",
      " 5   couple_3_2  50 non-null     float64\n",
      " 6   couple_4_1  50 non-null     float64\n",
      " 7   couple_4_2  50 non-null     float64\n",
      " 8   couple_5_1  50 non-null     float64\n",
      " 9   couple_5_2  50 non-null     float64\n",
      " 10  couple_6_1  50 non-null     float64\n",
      " 11  couple_6_2  50 non-null     float64\n",
      "dtypes: float64(12)\n",
      "memory usage: 4.8 KB\n"
     ]
    }
   ],
   "source": [
    "data.info()"
   ]
  },
  {
   "cell_type": "code",
   "execution_count": 4,
   "id": "exciting-background",
   "metadata": {},
   "outputs": [
    {
     "data": {
      "text/plain": [
       "False"
      ]
     },
     "execution_count": 4,
     "metadata": {},
     "output_type": "execute_result"
    }
   ],
   "source": [
    "data.isnull().any().any()"
   ]
  },
  {
   "cell_type": "code",
   "execution_count": 5,
   "id": "contrary-batch",
   "metadata": {},
   "outputs": [
    {
     "data": {
      "text/html": [
       "<div>\n",
       "<style scoped>\n",
       "    .dataframe tbody tr th:only-of-type {\n",
       "        vertical-align: middle;\n",
       "    }\n",
       "\n",
       "    .dataframe tbody tr th {\n",
       "        vertical-align: top;\n",
       "    }\n",
       "\n",
       "    .dataframe thead th {\n",
       "        text-align: right;\n",
       "    }\n",
       "</style>\n",
       "<table border=\"1\" class=\"dataframe\">\n",
       "  <thead>\n",
       "    <tr style=\"text-align: right;\">\n",
       "      <th></th>\n",
       "      <th>couple_1_1</th>\n",
       "      <th>couple_1_2</th>\n",
       "      <th>couple_2_1</th>\n",
       "      <th>couple_2_2</th>\n",
       "      <th>couple_3_1</th>\n",
       "      <th>couple_3_2</th>\n",
       "      <th>couple_4_1</th>\n",
       "      <th>couple_4_2</th>\n",
       "      <th>couple_5_1</th>\n",
       "      <th>couple_5_2</th>\n",
       "      <th>couple_6_1</th>\n",
       "      <th>couple_6_2</th>\n",
       "    </tr>\n",
       "  </thead>\n",
       "  <tbody>\n",
       "    <tr>\n",
       "      <th>count</th>\n",
       "      <td>50.000000</td>\n",
       "      <td>50.000000</td>\n",
       "      <td>50.000000</td>\n",
       "      <td>50.000000</td>\n",
       "      <td>50.000000</td>\n",
       "      <td>50.000000</td>\n",
       "      <td>50.000000</td>\n",
       "      <td>50.000000</td>\n",
       "      <td>50.000000</td>\n",
       "      <td>50.000000</td>\n",
       "      <td>50.000000</td>\n",
       "      <td>50.000000</td>\n",
       "    </tr>\n",
       "    <tr>\n",
       "      <th>mean</th>\n",
       "      <td>775.635434</td>\n",
       "      <td>766.829923</td>\n",
       "      <td>83.452896</td>\n",
       "      <td>233.229411</td>\n",
       "      <td>722.941320</td>\n",
       "      <td>130.006162</td>\n",
       "      <td>-33.837837</td>\n",
       "      <td>-58.018893</td>\n",
       "      <td>-784.995458</td>\n",
       "      <td>425.867556</td>\n",
       "      <td>-900.677113</td>\n",
       "      <td>-536.837795</td>\n",
       "    </tr>\n",
       "    <tr>\n",
       "      <th>std</th>\n",
       "      <td>723.759721</td>\n",
       "      <td>689.538728</td>\n",
       "      <td>473.807524</td>\n",
       "      <td>492.189693</td>\n",
       "      <td>659.370503</td>\n",
       "      <td>496.478515</td>\n",
       "      <td>687.843563</td>\n",
       "      <td>198.169704</td>\n",
       "      <td>190.821125</td>\n",
       "      <td>235.977289</td>\n",
       "      <td>652.300936</td>\n",
       "      <td>705.341225</td>\n",
       "    </tr>\n",
       "    <tr>\n",
       "      <th>min</th>\n",
       "      <td>-768.058127</td>\n",
       "      <td>-713.011684</td>\n",
       "      <td>-931.360521</td>\n",
       "      <td>-573.144450</td>\n",
       "      <td>-1035.425475</td>\n",
       "      <td>-1106.114668</td>\n",
       "      <td>-1662.822793</td>\n",
       "      <td>-511.865030</td>\n",
       "      <td>-1228.805040</td>\n",
       "      <td>31.271103</td>\n",
       "      <td>-2497.204738</td>\n",
       "      <td>-2476.110445</td>\n",
       "    </tr>\n",
       "    <tr>\n",
       "      <th>25%</th>\n",
       "      <td>377.854517</td>\n",
       "      <td>379.990232</td>\n",
       "      <td>-324.951431</td>\n",
       "      <td>-206.532975</td>\n",
       "      <td>341.184500</td>\n",
       "      <td>-133.742387</td>\n",
       "      <td>-514.995600</td>\n",
       "      <td>-187.091716</td>\n",
       "      <td>-921.954646</td>\n",
       "      <td>250.154991</td>\n",
       "      <td>-1238.601016</td>\n",
       "      <td>-1056.849040</td>\n",
       "    </tr>\n",
       "    <tr>\n",
       "      <th>50%</th>\n",
       "      <td>684.919910</td>\n",
       "      <td>683.713337</td>\n",
       "      <td>107.982036</td>\n",
       "      <td>212.902673</td>\n",
       "      <td>688.718863</td>\n",
       "      <td>66.728832</td>\n",
       "      <td>47.297954</td>\n",
       "      <td>-62.811078</td>\n",
       "      <td>-807.571331</td>\n",
       "      <td>452.756231</td>\n",
       "      <td>-884.701419</td>\n",
       "      <td>-441.127507</td>\n",
       "    </tr>\n",
       "    <tr>\n",
       "      <th>75%</th>\n",
       "      <td>1221.610174</td>\n",
       "      <td>1107.641868</td>\n",
       "      <td>460.172349</td>\n",
       "      <td>678.288065</td>\n",
       "      <td>1177.684993</td>\n",
       "      <td>500.567998</td>\n",
       "      <td>439.414392</td>\n",
       "      <td>108.887634</td>\n",
       "      <td>-654.115202</td>\n",
       "      <td>636.830310</td>\n",
       "      <td>-436.428596</td>\n",
       "      <td>81.101540</td>\n",
       "    </tr>\n",
       "    <tr>\n",
       "      <th>max</th>\n",
       "      <td>2515.911512</td>\n",
       "      <td>2206.246591</td>\n",
       "      <td>1058.396414</td>\n",
       "      <td>1053.279829</td>\n",
       "      <td>2031.441719</td>\n",
       "      <td>1305.924687</td>\n",
       "      <td>1345.064503</td>\n",
       "      <td>316.075344</td>\n",
       "      <td>-380.088833</td>\n",
       "      <td>793.554141</td>\n",
       "      <td>464.144555</td>\n",
       "      <td>627.127319</td>\n",
       "    </tr>\n",
       "  </tbody>\n",
       "</table>\n",
       "</div>"
      ],
      "text/plain": [
       "        couple_1_1   couple_1_2   couple_2_1   couple_2_2   couple_3_1  \\\n",
       "count    50.000000    50.000000    50.000000    50.000000    50.000000   \n",
       "mean    775.635434   766.829923    83.452896   233.229411   722.941320   \n",
       "std     723.759721   689.538728   473.807524   492.189693   659.370503   \n",
       "min    -768.058127  -713.011684  -931.360521  -573.144450 -1035.425475   \n",
       "25%     377.854517   379.990232  -324.951431  -206.532975   341.184500   \n",
       "50%     684.919910   683.713337   107.982036   212.902673   688.718863   \n",
       "75%    1221.610174  1107.641868   460.172349   678.288065  1177.684993   \n",
       "max    2515.911512  2206.246591  1058.396414  1053.279829  2031.441719   \n",
       "\n",
       "        couple_3_2   couple_4_1  couple_4_2   couple_5_1  couple_5_2  \\\n",
       "count    50.000000    50.000000   50.000000    50.000000   50.000000   \n",
       "mean    130.006162   -33.837837  -58.018893  -784.995458  425.867556   \n",
       "std     496.478515   687.843563  198.169704   190.821125  235.977289   \n",
       "min   -1106.114668 -1662.822793 -511.865030 -1228.805040   31.271103   \n",
       "25%    -133.742387  -514.995600 -187.091716  -921.954646  250.154991   \n",
       "50%      66.728832    47.297954  -62.811078  -807.571331  452.756231   \n",
       "75%     500.567998   439.414392  108.887634  -654.115202  636.830310   \n",
       "max    1305.924687  1345.064503  316.075344  -380.088833  793.554141   \n",
       "\n",
       "        couple_6_1   couple_6_2  \n",
       "count    50.000000    50.000000  \n",
       "mean   -900.677113  -536.837795  \n",
       "std     652.300936   705.341225  \n",
       "min   -2497.204738 -2476.110445  \n",
       "25%   -1238.601016 -1056.849040  \n",
       "50%    -884.701419  -441.127507  \n",
       "75%    -436.428596    81.101540  \n",
       "max     464.144555   627.127319  "
      ]
     },
     "execution_count": 5,
     "metadata": {},
     "output_type": "execute_result"
    }
   ],
   "source": [
    "data.describe()"
   ]
  },
  {
   "cell_type": "markdown",
   "id": "original-finnish",
   "metadata": {},
   "source": [
    "# 1.a О равенстве двух выборочных средних"
   ]
  },
  {
   "cell_type": "markdown",
   "id": "instructional-joseph",
   "metadata": {},
   "source": [
    "### Первым делом необходимо выдвинуть гипотизу: имеют ли выборки данных нормальное распределение"
   ]
  },
  {
   "cell_type": "markdown",
   "id": "compound-transparency",
   "metadata": {},
   "source": [
    "### Критерий Шапиро-Уилка"
   ]
  },
  {
   "cell_type": "code",
   "execution_count": 6,
   "id": "higher-actor",
   "metadata": {},
   "outputs": [
    {
     "name": "stdout",
     "output_type": "stream",
     "text": [
      "1) Пара - гипотеза верна, ShapiroResult(statistic=0.9813841581344604, pvalue=0.17016065120697021)\n",
      "2) Пара - гипотеза неверна, ShapiroResult(statistic=0.9681783318519592, pvalue=0.016061656177043915)\n",
      "3) Пара - гипотеза верна, ShapiroResult(statistic=0.986283004283905, pvalue=0.39124083518981934)\n",
      "4) Пара - гипотеза неверна, ShapiroResult(statistic=0.9647310972213745, pvalue=0.008869007229804993)\n",
      "5) Пара - гипотеза неверна, ShapiroResult(statistic=0.8774334788322449, pvalue=1.4155084215872193e-07)\n",
      "6) Пара - гипотеза верна, ShapiroResult(statistic=0.9831517934799194, pvalue=0.2320212423801422)\n"
     ]
    }
   ],
   "source": [
    "for i in range(1,7):\n",
    "    w = shapiro(data[['couple_'+str(i)+'_1','couple_'+str(i)+'_2']])\n",
    "    if w.pvalue> 0.05:\n",
    "        print(f\"{i}) Пара - гипотеза верна, {w}\")\n",
    "    else:\n",
    "        print(f\"{i}) Пара - гипотеза неверна, {w}\")"
   ]
  },
  {
   "cell_type": "markdown",
   "id": "synthetic-mozambique",
   "metadata": {},
   "source": [
    "### 1, 3 и 6 пары имеют нормальное распределение, 2, 4 и 5 нет"
   ]
  },
  {
   "cell_type": "markdown",
   "id": "sweet-listening",
   "metadata": {},
   "source": [
    "### Равенство дисперсий"
   ]
  },
  {
   "cell_type": "markdown",
   "id": "lasting-somerset",
   "metadata": {},
   "source": [
    "#### Критерий Бартлетта стоит применять для пар с нормальным законом распределения\n",
    "#### Критерий Флигнера стоит применять для пар, где данные не являются нормальными"
   ]
  },
  {
   "cell_type": "code",
   "execution_count": 7,
   "id": "surprising-supervisor",
   "metadata": {},
   "outputs": [
    {
     "name": "stdout",
     "output_type": "stream",
     "text": [
      "1) Пара - гипотеза верна, BartlettResult(statistic=0.11375341405309057, pvalue=0.7359107342345326)\n",
      "3) Пара - гипотеза неверна, BartlettResult(statistic=3.853907596943538, pvalue=0.04963023611801799)\n",
      "6) Пара - гипотеза верна, BartlettResult(statistic=0.29613410387521366, pvalue=0.5863162025004675)\n"
     ]
    }
   ],
   "source": [
    "w = bartlett(data['couple_1_1'], data['couple_1_2'])\n",
    "if w.pvalue > 0.05:\n",
    "    print(f\"1) Пара - гипотеза верна, {w}\")\n",
    "else:\n",
    "    print(f\"1) Пара - гипотеза неверна, {w}\")\n",
    "        \n",
    "w = bartlett(data['couple_3_1'], data['couple_3_2'])\n",
    "if w.pvalue > 0.05:\n",
    "    print(f\"3) Пара - гипотеза верна, {w}\")\n",
    "else:\n",
    "    print(f\"3) Пара - гипотеза неверна, {w}\")\n",
    "    \n",
    "w = bartlett(data['couple_6_1'], data['couple_6_2'])\n",
    "if w.pvalue > 0.05:\n",
    "    print(f\"6) Пара - гипотеза верна, {w}\")\n",
    "else:\n",
    "    print(f\"6) Пара - гипотеза неверна, {w}\")"
   ]
  },
  {
   "cell_type": "code",
   "execution_count": 8,
   "id": "inner-frost",
   "metadata": {},
   "outputs": [
    {
     "name": "stdout",
     "output_type": "stream",
     "text": [
      "2) Пара - гипотеза верна, FlignerResult(statistic=0.5389440100628246, pvalue=0.4628706926629077)\n",
      "4) Пара - гипотеза неверна, FlignerResult(statistic=31.85656281309129, pvalue=1.659878860857597e-08)\n",
      "5) Пара - гипотеза верна, FlignerResult(statistic=3.2303530279116908, pvalue=0.07228510455473039)\n"
     ]
    }
   ],
   "source": [
    "w = fligner(data['couple_2_1'], data['couple_2_2'])\n",
    "if w.pvalue > 0.05:\n",
    "    print(f\"2) Пара - гипотеза верна, {w}\")\n",
    "else:\n",
    "    print(f\"2) Пара - гипотеза неверна, {w}\")\n",
    "        \n",
    "w = fligner(data['couple_4_1'], data['couple_4_2'])\n",
    "if w.pvalue > 0.05:\n",
    "    print(f\"4) Пара - гипотеза верна, {w}\")\n",
    "else:\n",
    "    print(f\"4) Пара - гипотеза неверна, {w}\")\n",
    "    \n",
    "w = fligner(data['couple_5_1'], data['couple_5_2'])\n",
    "if w.pvalue > 0.05:\n",
    "    print(f\"5) Пара - гипотеза верна, {w}\")\n",
    "else:\n",
    "    print(f\"5) Пара - гипотеза неверна, {w}\")"
   ]
  },
  {
   "cell_type": "markdown",
   "id": "normal-purchase",
   "metadata": {},
   "source": [
    "### Только 3ая и 4ая пара не имеет равенство дисперсий"
   ]
  },
  {
   "cell_type": "markdown",
   "id": "confused-latest",
   "metadata": {},
   "source": [
    "### <ul>Имеем следующую картину:<li>1) Нормальное распределение, дисперсии равны</li><li>2) Ненормальное распределение, дисперсии равны</li><li>3) Нормальное распределение, дисперсии не равны</li><li>4) Ненормальное распределение, дисперсии не равны</li><li>5) Ненормальное распределение, дисперсии равны</li><li>6) Нормальное распределение, дисперсии равны</li></ul>"
   ]
  },
  {
   "cell_type": "markdown",
   "id": "suffering-piano",
   "metadata": {},
   "source": [
    "### Гипотеза о равенстве двух выборочных середин"
   ]
  },
  {
   "cell_type": "markdown",
   "id": "finite-joshua",
   "metadata": {},
   "source": [
    "#### z-test подходит для данных с нормальным распределением<br><br>t-критерий подходит для данных нормальным распределением и равенством дисперсий<br><br>U-критерий не имеет строгих ограничениий на вход"
   ]
  },
  {
   "cell_type": "markdown",
   "id": "resistant-happening",
   "metadata": {},
   "source": [
    "### <ul><li>1) t-test</li><li>2) U-test</li><li>3) z-test</li><li>4) U-test</li><li>5) U-test</li><li>6) t-test</li></ul>"
   ]
  },
  {
   "cell_type": "code",
   "execution_count": 9,
   "id": "hidden-keyboard",
   "metadata": {},
   "outputs": [],
   "source": [
    "def fisher(v1, v2):\n",
    "    return abs(np.mean(v1) - np.mean(v2)) / (np.var(v1) + np.var(v2))"
   ]
  },
  {
   "cell_type": "code",
   "execution_count": 10,
   "id": "inner-birthday",
   "metadata": {},
   "outputs": [
    {
     "name": "stdout",
     "output_type": "stream",
     "text": [
      "О равенстве двух выборочных середин: \n",
      "1) Пара - гипотеза верна, T-Test(statistic=0.06228643065223521, pvalue=0.9504615940126635)\n",
      "2) Пара - гипотеза верна, MannwhitneyuResult(statistic=1031.0, pvalue=0.06599513490398468)\n",
      "3) Пара - гипотеза неверна, FisherResult(pvalue=0.0008881125278742619)\n",
      "4) Пара - гипотеза верна, MannwhitneyuResult(statistic=1111.0, pvalue=0.16984092777033266)\n",
      "5) Пара - гипотеза неверна, MannwhitneyuResult(statistic=0.0, pvalue=3.533035965194466e-18)\n",
      "6) Пара - гипотеза неверна, T-Test(statistic=-2.677892462705494, pvalue=0.008688025670038681)\n"
     ]
    }
   ],
   "source": [
    "print('О равенстве двух выборочных середин: ')\n",
    "\n",
    "# 1 Пара\n",
    "stat, p = ttest_ind(data['couple_1_1'], data['couple_1_2'])\n",
    "if p > 0.05:\n",
    "    print(f\"1) Пара - гипотеза верна, T-Test(statistic={stat}, pvalue={p})\")\n",
    "else:\n",
    "    print(f\"1) Пара - гипотеза неверна, T-Test(statistic={stat}, pvalue={p})\")\n",
    "    \n",
    "# 2 Пара\n",
    "w = mannwhitneyu(data['couple_2_1'], data['couple_2_2'])\n",
    "if w.pvalue > 0.05:\n",
    "    print(f\"2) Пара - гипотеза верна, {w}\")\n",
    "else:\n",
    "    print(f\"2) Пара - гипотеза неверна, {w}\")\n",
    "    \n",
    "# 3 Пара\n",
    "p = fisher(data['couple_3_1'], data['couple_3_2'])\n",
    "if p > 0.05:\n",
    "    print(f\"3) Пара - гипотеза верна, FisherResult(pvalue={p})\")\n",
    "else:\n",
    "    print(f\"3) Пара - гипотеза неверна, FisherResult(pvalue={p})\")\n",
    "    \n",
    "# 4 Пара\n",
    "w = mannwhitneyu(data['couple_4_1'], data['couple_4_2'])\n",
    "if w.pvalue > 0.05:\n",
    "    print(f\"4) Пара - гипотеза верна, {w}\")\n",
    "else:\n",
    "    print(f\"4) Пара - гипотеза неверна, {w}\")\n",
    "   \n",
    "# 5 Пара\n",
    "w = mannwhitneyu(data['couple_5_1'], data['couple_5_2'])\n",
    "if w.pvalue > 0.05:\n",
    "    print(f\"5) Пара - гипотеза верна, {w}\")\n",
    "else:\n",
    "    print(f\"5) Пара - гипотеза неверна, {w}\")\n",
    "    \n",
    "# 6 Пара\n",
    "stat, p = ttest_ind(data['couple_6_1'], data['couple_6_2'])\n",
    "if p > 0.05:\n",
    "    print(f\"6) Пара - гипотеза верна, T-Test(statistic={stat}, pvalue={p})\")\n",
    "else:\n",
    "    print(f\"6) Пара - гипотеза неверна, T-Test(statistic={stat}, pvalue={p})\")\n"
   ]
  },
  {
   "cell_type": "markdown",
   "id": "measured-anatomy",
   "metadata": {},
   "source": [
    "### Учитывая, что пороговое значение в данном случае равно 0.05 можно сделать вывод, что 3, 5 и 6 пары не прошли гипотезу о равенстве двух выборочных средних. Остальные да"
   ]
  },
  {
   "cell_type": "markdown",
   "id": "stunning-layer",
   "metadata": {},
   "source": [
    "# 1.б О равенстве двух дисперсий"
   ]
  },
  {
   "cell_type": "markdown",
   "id": "moral-silicon",
   "metadata": {},
   "source": [
    "### Из прошлых итераций был сделан вывод, что 1, 3 и 6 пары имеют нормальное распределение, 2, 4 и 5 нет"
   ]
  },
  {
   "cell_type": "markdown",
   "id": "harmful-marriage",
   "metadata": {},
   "source": [
    "#### В качестве критерия для проверки однородности дисперсий был выбран критерий Бартлетта и Левене"
   ]
  },
  {
   "cell_type": "code",
   "execution_count": 11,
   "id": "conservative-receiver",
   "metadata": {},
   "outputs": [
    {
     "name": "stdout",
     "output_type": "stream",
     "text": [
      "1) Пара - гипотеза верна, BartlettResult(statistic=0.11375341405309057, pvalue=0.7359107342345326)\n",
      "3) Пара - гипотеза неверна, BartlettResult(statistic=3.853907596943538, pvalue=0.04963023611801799)\n",
      "6) Пара - гипотеза верна, BartlettResult(statistic=0.29613410387521366, pvalue=0.5863162025004675)\n"
     ]
    }
   ],
   "source": [
    "w = bartlett(data['couple_1_1'], data['couple_1_2'])\n",
    "if w.pvalue > 0.05:\n",
    "    print(f\"1) Пара - гипотеза верна, {w}\")\n",
    "else:\n",
    "    print(f\"1) Пара - гипотеза неверна, {w}\")\n",
    "    \n",
    "w = bartlett(data['couple_3_1'], data['couple_3_2'])\n",
    "if w.pvalue > 0.05:\n",
    "    print(f\"3) Пара - гипотеза верна, {w}\")\n",
    "else:\n",
    "    print(f\"3) Пара - гипотеза неверна, {w}\")\n",
    "    \n",
    "w = bartlett(data['couple_6_1'], data['couple_6_2'])\n",
    "if w.pvalue > 0.05:\n",
    "    print(f\"6) Пара - гипотеза верна, {w}\")\n",
    "else:\n",
    "    print(f\"6) Пара - гипотеза неверна, {w}\")"
   ]
  },
  {
   "cell_type": "code",
   "execution_count": 12,
   "id": "lyric-formula",
   "metadata": {},
   "outputs": [
    {
     "name": "stdout",
     "output_type": "stream",
     "text": [
      "2) Пара - гипотеза верна, LeveneResult(statistic=0.7472677179720804, pvalue=0.3894536654487185)\n",
      "4) Пара - гипотеза неверна, LeveneResult(statistic=42.594521776430085, pvalue=2.9831060319323948e-09)\n",
      "5) Пара - гипотеза верна, LeveneResult(statistic=3.6106038813930272, pvalue=0.060351748826751005)\n"
     ]
    }
   ],
   "source": [
    "w = levene(data['couple_2_1'], data['couple_2_2'])\n",
    "if w.pvalue > 0.05:\n",
    "    print(f\"2) Пара - гипотеза верна, {w}\")\n",
    "else:\n",
    "    print(f\"2) Пара - гипотеза неверна, {w}\")\n",
    "    \n",
    "w = levene(data['couple_4_1'], data['couple_4_2'])\n",
    "if w.pvalue > 0.05:\n",
    "    print(f\"4) Пара - гипотеза верна, {w}\")\n",
    "else:\n",
    "    print(f\"4) Пара - гипотеза неверна, {w}\")\n",
    "    \n",
    "w = levene(data['couple_5_1'], data['couple_5_2'])\n",
    "if w.pvalue > 0.05:\n",
    "    print(f\"5) Пара - гипотеза верна, {w}\")\n",
    "else:\n",
    "    print(f\"5) Пара - гипотеза неверна, {w}\")"
   ]
  },
  {
   "cell_type": "markdown",
   "id": "secondary-college",
   "metadata": {},
   "source": [
    "### Можно видеть, что только у 3 и 4 пары не наблюдается равенство дисперсий"
   ]
  },
  {
   "cell_type": "markdown",
   "id": "broad-crossing",
   "metadata": {},
   "source": [
    "# 2 О равенстве выборочных дисперсий"
   ]
  },
  {
   "cell_type": "markdown",
   "id": "systematic-applicant",
   "metadata": {},
   "source": [
    "### Критерий Шапиро-Уилка для 12 выборок"
   ]
  },
  {
   "cell_type": "code",
   "execution_count": 13,
   "id": "stable-globe",
   "metadata": {},
   "outputs": [
    {
     "name": "stdout",
     "output_type": "stream",
     "text": [
      "couple_1_1 Success: ShapiroResult(statistic=0.9843061566352844, pvalue=0.7414149045944214)\n",
      "couple_1_2 Success: ShapiroResult(statistic=0.9716731309890747, pvalue=0.2703684866428375)\n",
      "couple_2_1 Success: ShapiroResult(statistic=0.9776910543441772, pvalue=0.4592282474040985)\n",
      "couple_2_2 Fail: ShapiroResult(statistic=0.9360973834991455, pvalue=0.009470243938267231)\n",
      "couple_3_1 Success: ShapiroResult(statistic=0.9880667924880981, pvalue=0.8910117745399475)\n",
      "couple_3_2 Success: ShapiroResult(statistic=0.9858101010322571, pvalue=0.8058080077171326)\n",
      "couple_4_1 Success: ShapiroResult(statistic=0.9772307276725769, pvalue=0.44198542833328247)\n",
      "couple_4_2 Success: ShapiroResult(statistic=0.9806411266326904, pvalue=0.5793011784553528)\n",
      "couple_5_1 Success: ShapiroResult(statistic=0.9830685257911682, pvalue=0.6864559650421143)\n",
      "couple_5_2 Fail: ShapiroResult(statistic=0.9272206425666809, pvalue=0.004343959502875805)\n",
      "couple_6_1 Success: ShapiroResult(statistic=0.9793826341629028, pvalue=0.5262274742126465)\n",
      "couple_6_2 Success: ShapiroResult(statistic=0.9697122573852539, pvalue=0.22529202699661255)\n"
     ]
    }
   ],
   "source": [
    "for i in range(1, 7):\n",
    "    for j in range(1,3):\n",
    "        w = shapiro(data['couple_'+str(i)+'_'+str(j)])\n",
    "        if w.pvalue > 0.05:\n",
    "            print(f\"couple_{i}_{j} Success: {w}\")\n",
    "        else:\n",
    "            print(f\"couple_{i}_{j} Fail: {w}\")"
   ]
  },
  {
   "cell_type": "markdown",
   "id": "ceramic-reality",
   "metadata": {},
   "source": [
    "### Пары 2_2 и 5_2 распределены не по нормальному закону распределения"
   ]
  },
  {
   "cell_type": "code",
   "execution_count": 14,
   "id": "lesser-passing",
   "metadata": {},
   "outputs": [
    {
     "name": "stdout",
     "output_type": "stream",
     "text": [
      "Гипотеза неверна, BartlettResult(statistic=151.3594785945711, pvalue=4.6107549875034515e-28)\n",
      "Гипотеза неверна, LeveneResult(statistic=42.624159481700865, pvalue=2.951781415941758e-09)\n"
     ]
    }
   ],
   "source": [
    "# Для выборок с нормальным распределением\n",
    "w = bartlett(data['couple_1_1'], data['couple_1_2'], data['couple_2_1'], data['couple_3_1'], data['couple_3_2'],\n",
    "             data['couple_4_1'], data['couple_4_2'], data['couple_5_1'], data['couple_6_1'], data['couple_6_2'])\n",
    "if w.pvalue > 0.05:\n",
    "    print(f\"Гипотеза верна, {w}\")\n",
    "else:\n",
    "    print(f\"Гипотеза неверна, {w}\")\n",
    "        \n",
    "        \n",
    "        \n",
    "# Для выборок не с нормальным распределением\n",
    "w = levene(data['couple_2_2'], data['couple_5_2'])\n",
    "if w.pvalue > 0.05:\n",
    "    print(f\"Гипотеза верна, {w}\")\n",
    "else:\n",
    "    print(f\"Гипотеза неверна, {w}\")"
   ]
  },
  {
   "cell_type": "markdown",
   "id": "negative-adult",
   "metadata": {},
   "source": [
    "### Можно видеть, что в обоих случаях для нормального и ненормального закона распределения дисперсии не равны."
   ]
  },
  {
   "cell_type": "markdown",
   "id": "olympic-armenia",
   "metadata": {},
   "source": [
    "# 3 Задание, 21 вариант. Распределение Коши"
   ]
  },
  {
   "cell_type": "markdown",
   "id": "lyric-immunology",
   "metadata": {},
   "source": [
    "### Построение нормального распределения"
   ]
  },
  {
   "cell_type": "code",
   "execution_count": 15,
   "id": "significant-vulnerability",
   "metadata": {},
   "outputs": [],
   "source": [
    "n = 100\n",
    "mu, sigma = 0.5, 0.1\n",
    "just_normal = np.random.normal(mu, sigma, n)"
   ]
  },
  {
   "cell_type": "code",
   "execution_count": 16,
   "id": "looking-gross",
   "metadata": {},
   "outputs": [
    {
     "data": {
      "text/plain": [
       "<seaborn.axisgrid.FacetGrid at 0x1814253c3c8>"
      ]
     },
     "execution_count": 16,
     "metadata": {},
     "output_type": "execute_result"
    },
    {
     "data": {
      "image/png": "[encoded data removed]",
      "text/plain": [
       "<Figure size 360x360 with 1 Axes>"
      ]
     },
     "metadata": {},
     "output_type": "display_data"
    }
   ],
   "source": [
    "sns.set_theme(style=\"whitegrid\")\n",
    "sns.displot(x=just_normal, kind=\"kde\")"
   ]
  },
  {
   "cell_type": "markdown",
   "id": "revised-charge",
   "metadata": {},
   "source": [
    "### Для проверки нормальности распределения воспользуемся критериями согласия Шапиро-Уилка и Ralph D’Agostino."
   ]
  },
  {
   "cell_type": "code",
   "execution_count": 17,
   "id": "textile-spine",
   "metadata": {},
   "outputs": [
    {
     "data": {
      "text/plain": [
       "ShapiroResult(statistic=0.9847652912139893, pvalue=0.305417001247406)"
      ]
     },
     "execution_count": 17,
     "metadata": {},
     "output_type": "execute_result"
    }
   ],
   "source": [
    "shapiro(just_normal)"
   ]
  },
  {
   "cell_type": "code",
   "execution_count": 18,
   "id": "affected-valuation",
   "metadata": {},
   "outputs": [
    {
     "data": {
      "text/plain": [
       "NormaltestResult(statistic=4.371740468272137, pvalue=0.11237989426867719)"
      ]
     },
     "execution_count": 18,
     "metadata": {},
     "output_type": "execute_result"
    }
   ],
   "source": [
    "normaltest(just_normal)"
   ]
  },
  {
   "cell_type": "markdown",
   "id": "looking-tribe",
   "metadata": {},
   "source": [
    "## Формирование новых данных"
   ]
  },
  {
   "cell_type": "code",
   "execution_count": 19,
   "id": "mobile-healthcare",
   "metadata": {},
   "outputs": [],
   "source": [
    "def third_task(n, mu, sigma, scale, loc): # Функция, которая будет формировать выборки для заданных параметров и \n",
    "                                          # строить графики зависимости pvalue для выборок от p\n",
    "    x = np.zeros((n,n))\n",
    "    p = np.arange(0, 1, 0.01)\n",
    "    \n",
    "    for i in range (len(p)):\n",
    "        choice = np.random.uniform(0, 1, n)\n",
    "        for j in range(n):\n",
    "            if choice[j] > p[i]:\n",
    "                x[i][j] = cauchy.rvs(loc=loc, scale=scale, size=1)\n",
    "            else:\n",
    "                x[i][j] = np.random.normal(mu, sigma**2, 1)\n",
    "    pvalue = np.zeros(len(p))\n",
    "    \n",
    "    for i in range(len(p)):\n",
    "        result = shapiro(x[i])\n",
    "        pvalue[i] = float(result.pvalue)\n",
    "        \n",
    "    plt.figure(figsize=(5,5))\n",
    "    sns.lineplot(x=p, y=pvalue).set_title(\"Shapiro. Зависимость pvalue от p\")\n",
    "    plt.show()\n",
    "    \n",
    "    pvalue = np.zeros(len(p))\n",
    "    \n",
    "    for i in range(len(p)):\n",
    "        result = normaltest(x[i])\n",
    "        pvalue[i] = result.pvalue\n",
    "        \n",
    "    plt.figure(figsize=(5,5))\n",
    "    sns.lineplot(x=p, y=pvalue).set_title(\"Ralph D’Agostino. Зависимость pvalue от p\")\n",
    "    plt.show()"
   ]
  },
  {
   "cell_type": "markdown",
   "id": "adverse-rental",
   "metadata": {},
   "source": [
    "### Параметры для распределения Коши: scale = 2.5, loc = 100"
   ]
  },
  {
   "cell_type": "code",
   "execution_count": 20,
   "id": "russian-indian",
   "metadata": {},
   "outputs": [
    {
     "data": {
      "image/png": "[encoded data removed]",
      "text/plain": [
       "<Figure size 360x360 with 1 Axes>"
      ]
     },
     "metadata": {},
     "output_type": "display_data"
    },
    {
     "data": {
      "image/png": "[encoded data removed]",
      "text/plain": [
       "<Figure size 360x360 with 1 Axes>"
      ]
     },
     "metadata": {},
     "output_type": "display_data"
    }
   ],
   "source": [
    "n = 100\n",
    "mu, sigma = 0.5, 0.1\n",
    "scale, loc = 2.5, 1000\n",
    "third_task(n, mu, sigma, scale, loc)"
   ]
  },
  {
   "cell_type": "markdown",
   "id": "renewable-binary",
   "metadata": {},
   "source": [
    "### Параметры для распределения Коши: scale = 0.5, loc = 100"
   ]
  },
  {
   "cell_type": "code",
   "execution_count": 21,
   "id": "continued-nursery",
   "metadata": {},
   "outputs": [
    {
     "data": {
      "image/png": "[encoded data removed]",
      "text/plain": [
       "<Figure size 360x360 with 1 Axes>"
      ]
     },
     "metadata": {},
     "output_type": "display_data"
    },
    {
     "data": {
      "image/png": "[encoded data removed]",
      "text/plain": [
       "<Figure size 360x360 with 1 Axes>"
      ]
     },
     "metadata": {},
     "output_type": "display_data"
    }
   ],
   "source": [
    "n = 100\n",
    "mu, sigma = 0.5, 0.1\n",
    "scale, loc = 0.5, 100\n",
    "third_task(n, mu, sigma, scale, loc)"
   ]
  },
  {
   "cell_type": "markdown",
   "id": "quality-optics",
   "metadata": {},
   "source": [
    "### Параметры для распределения Коши: scale = 0.5, loc = 0"
   ]
  },
  {
   "cell_type": "code",
   "execution_count": 22,
   "id": "eight-moscow",
   "metadata": {},
   "outputs": [
    {
     "data": {
      "image/png": "[encoded data removed]",
      "text/plain": [
       "<Figure size 360x360 with 1 Axes>"
      ]
     },
     "metadata": {},
     "output_type": "display_data"
    },
    {
     "data": {
      "image/png": "[encoded data removed]",
      "text/plain": [
       "<Figure size 360x360 with 1 Axes>"
      ]
     },
     "metadata": {},
     "output_type": "display_data"
    }
   ],
   "source": [
    "n = 100\n",
    "mu, sigma = 0.5, 0.1\n",
    "scale, loc = 0.5, 0\n",
    "third_task(n, mu, sigma, scale, loc)"
   ]
  },
  {
   "cell_type": "markdown",
   "id": "impressive-sheffield",
   "metadata": {},
   "source": [
    "### scale = 5, loc = 1000"
   ]
  },
  {
   "cell_type": "code",
   "execution_count": 23,
   "id": "senior-crawford",
   "metadata": {},
   "outputs": [
    {
     "data": {
      "image/png": "[encoded data removed]",
      "text/plain": [
       "<Figure size 360x360 with 1 Axes>"
      ]
     },
     "metadata": {},
     "output_type": "display_data"
    },
    {
     "data": {
      "image/png": "[encoded data removed]",
      "text/plain": [
       "<Figure size 360x360 with 1 Axes>"
      ]
     },
     "metadata": {},
     "output_type": "display_data"
    }
   ],
   "source": [
    "n = 100\n",
    "mu, sigma = 0.5, 0.1\n",
    "scale, loc = 5, 1000\n",
    "third_task(n, mu, sigma, scale, loc)"
   ]
  },
  {
   "cell_type": "markdown",
   "id": "persistent-indication",
   "metadata": {},
   "source": [
    "### scale = 0.1, loc = 1000"
   ]
  },
  {
   "cell_type": "code",
   "execution_count": 24,
   "id": "finite-rouge",
   "metadata": {},
   "outputs": [
    {
     "data": {
      "image/png": "[encoded data removed]",
      "text/plain": [
       "<Figure size 360x360 with 1 Axes>"
      ]
     },
     "metadata": {},
     "output_type": "display_data"
    },
    {
     "data": {
      "image/png": "[encoded data removed]",
      "text/plain": [
       "<Figure size 360x360 with 1 Axes>"
      ]
     },
     "metadata": {},
     "output_type": "display_data"
    }
   ],
   "source": [
    "n = 100\n",
    "mu, sigma = 0.5, 0.1\n",
    "scale, loc = 0.1, 1000\n",
    "third_task(n, mu, sigma, scale, loc)"
   ]
  },
  {
   "cell_type": "markdown",
   "id": "legendary-consultancy",
   "metadata": {},
   "source": [
    "### По 3-ему заданию можно сделать следующий вывод, что параметры для распределения Коши почти не имеют влияния на дальнейшие тесты со стороны критериев согласия. Наибольшее влияние исключительно имеет шаг p. Чем шаг больше к 1 - тем больше вероятность, что выборка будет иметь нормальное распределение. Даже где шаг 0.99 не дает точного шанса, что выборка будет иметь нормальное распределение. То есть даже, возможно, одна точка , которая будет иметь распределение Коши, а не нормальное из выборки в 100 точек будет веской причины для критерия, чтобы отклонить нулевую гипотезу. \n",
    "### Также можно сделать выводы о критериях. Они довольно разные. Анализ показал, что в некоторых моментах pvalue у критерия Шапиро-Уилка и Ральф-Д'Агустино совершенно разные. Также в некоторых моментах критерий Шапиро-Уилка не видит подтверждения нулевой гипотезе, Д'Агустино имеет. Критерии работают по разным принципам, но для меня всё же более надежным остается критерий Шапиро-Уилка. В качестве критерия согласия я бы использовал именно его для небольших выборог, а для больших - его модифицированную версию."
   ]
  },
  {
   "cell_type": "code",
   "execution_count": null,
   "id": "lovely-concentration",
   "metadata": {},
   "outputs": [],
   "source": []
  }
 ],
 "metadata": {
  "kernelspec": {
   "display_name": "Python 3",
   "language": "python",
   "name": "python3"
  },
  "language_info": {
   "codemirror_mode": {
    "name": "ipython",
    "version": 3
   },
   "file_extension": ".py",
   "mimetype": "text/x-python",
   "name": "python",
   "nbconvert_exporter": "python",
   "pygments_lexer": "ipython3",
   "version": "3.7.7"
  }
 },
 "nbformat": 4,
 "nbformat_minor": 5
}
