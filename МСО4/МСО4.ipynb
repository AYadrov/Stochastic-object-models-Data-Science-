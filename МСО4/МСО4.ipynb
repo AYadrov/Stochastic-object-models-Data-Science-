{
 "cells": [
  {
   "cell_type": "code",
   "execution_count": 1,
   "id": "located-engine",
   "metadata": {},
   "outputs": [],
   "source": [
    "import matplotlib.pyplot as plt\n",
    "import seaborn as sns\n",
    "import numpy as np\n",
    "import pandas as pd\n",
    "import xlrd\n",
    "\n",
    "from statsmodels.stats.multicomp import pairwise_tukeyhsd, MultiComparison\n",
    "import scipy.stats as st"
   ]
  },
  {
   "cell_type": "code",
   "execution_count": 2,
   "id": "proprietary-truth",
   "metadata": {},
   "outputs": [],
   "source": [
    "data = pd.read_excel('Diet.xlsx', engine='openpyxl')"
   ]
  },
  {
   "cell_type": "code",
   "execution_count": 3,
   "id": "sustained-visitor",
   "metadata": {},
   "outputs": [
    {
     "data": {
      "text/plain": [
       "False"
      ]
     },
     "execution_count": 3,
     "metadata": {},
     "output_type": "execute_result"
    }
   ],
   "source": [
    "data.isnull().any().any()"
   ]
  },
  {
   "cell_type": "code",
   "execution_count": 4,
   "id": "blind-alias",
   "metadata": {},
   "outputs": [
    {
     "data": {
      "text/html": [
       "<div>\n",
       "<style scoped>\n",
       "    .dataframe tbody tr th:only-of-type {\n",
       "        vertical-align: middle;\n",
       "    }\n",
       "\n",
       "    .dataframe tbody tr th {\n",
       "        vertical-align: top;\n",
       "    }\n",
       "\n",
       "    .dataframe thead th {\n",
       "        text-align: right;\n",
       "    }\n",
       "</style>\n",
       "<table border=\"1\" class=\"dataframe\">\n",
       "  <thead>\n",
       "    <tr style=\"text-align: right;\">\n",
       "      <th></th>\n",
       "      <th>gender</th>\n",
       "      <th>Diet</th>\n",
       "      <th>weight</th>\n",
       "      <th>weight6weeks</th>\n",
       "    </tr>\n",
       "  </thead>\n",
       "  <tbody>\n",
       "    <tr>\n",
       "      <th>0</th>\n",
       "      <td>M</td>\n",
       "      <td>B</td>\n",
       "      <td>60</td>\n",
       "      <td>60.0</td>\n",
       "    </tr>\n",
       "    <tr>\n",
       "      <th>1</th>\n",
       "      <td>M</td>\n",
       "      <td>B</td>\n",
       "      <td>103</td>\n",
       "      <td>103.0</td>\n",
       "    </tr>\n",
       "    <tr>\n",
       "      <th>2</th>\n",
       "      <td>F</td>\n",
       "      <td>A</td>\n",
       "      <td>58</td>\n",
       "      <td>54.2</td>\n",
       "    </tr>\n",
       "    <tr>\n",
       "      <th>3</th>\n",
       "      <td>F</td>\n",
       "      <td>A</td>\n",
       "      <td>60</td>\n",
       "      <td>54.0</td>\n",
       "    </tr>\n",
       "    <tr>\n",
       "      <th>4</th>\n",
       "      <td>F</td>\n",
       "      <td>A</td>\n",
       "      <td>64</td>\n",
       "      <td>63.3</td>\n",
       "    </tr>\n",
       "  </tbody>\n",
       "</table>\n",
       "</div>"
      ],
      "text/plain": [
       "  gender Diet  weight  weight6weeks\n",
       "0      M    B      60          60.0\n",
       "1      M    B     103         103.0\n",
       "2      F    A      58          54.2\n",
       "3      F    A      60          54.0\n",
       "4      F    A      64          63.3"
      ]
     },
     "execution_count": 4,
     "metadata": {},
     "output_type": "execute_result"
    }
   ],
   "source": [
    "data.head()"
   ]
  },
  {
   "cell_type": "code",
   "execution_count": 5,
   "id": "moral-majority",
   "metadata": {},
   "outputs": [
    {
     "name": "stdout",
     "output_type": "stream",
     "text": [
      "<class 'pandas.core.frame.DataFrame'>\n",
      "RangeIndex: 78 entries, 0 to 77\n",
      "Data columns (total 4 columns):\n",
      " #   Column        Non-Null Count  Dtype  \n",
      "---  ------        --------------  -----  \n",
      " 0   gender        78 non-null     object \n",
      " 1   Diet          78 non-null     object \n",
      " 2   weight        78 non-null     int64  \n",
      " 3   weight6weeks  78 non-null     float64\n",
      "dtypes: float64(1), int64(1), object(2)\n",
      "memory usage: 2.6+ KB\n"
     ]
    }
   ],
   "source": [
    "data.info()"
   ]
  },
  {
   "cell_type": "code",
   "execution_count": 6,
   "id": "infectious-particle",
   "metadata": {},
   "outputs": [
    {
     "data": {
      "text/plain": [
       "F    43\n",
       "M    35\n",
       "Name: gender, dtype: int64"
      ]
     },
     "execution_count": 6,
     "metadata": {},
     "output_type": "execute_result"
    }
   ],
   "source": [
    "data['gender'].value_counts()"
   ]
  },
  {
   "cell_type": "code",
   "execution_count": 7,
   "id": "tender-telephone",
   "metadata": {},
   "outputs": [
    {
     "data": {
      "text/plain": [
       "C    27\n",
       "B    27\n",
       "A    24\n",
       "Name: Diet, dtype: int64"
      ]
     },
     "execution_count": 7,
     "metadata": {},
     "output_type": "execute_result"
    }
   ],
   "source": [
    "data['Diet'].value_counts()"
   ]
  },
  {
   "cell_type": "code",
   "execution_count": 8,
   "id": "assigned-vietnam",
   "metadata": {},
   "outputs": [],
   "source": [
    "data = data.assign(delta = data['weight'] - data['weight6weeks'])"
   ]
  },
  {
   "cell_type": "code",
   "execution_count": 9,
   "id": "swiss-festival",
   "metadata": {},
   "outputs": [
    {
     "data": {
      "text/html": [
       "<div>\n",
       "<style scoped>\n",
       "    .dataframe tbody tr th:only-of-type {\n",
       "        vertical-align: middle;\n",
       "    }\n",
       "\n",
       "    .dataframe tbody tr th {\n",
       "        vertical-align: top;\n",
       "    }\n",
       "\n",
       "    .dataframe thead th {\n",
       "        text-align: right;\n",
       "    }\n",
       "</style>\n",
       "<table border=\"1\" class=\"dataframe\">\n",
       "  <thead>\n",
       "    <tr style=\"text-align: right;\">\n",
       "      <th></th>\n",
       "      <th>gender</th>\n",
       "      <th>Diet</th>\n",
       "      <th>weight</th>\n",
       "      <th>weight6weeks</th>\n",
       "      <th>delta</th>\n",
       "    </tr>\n",
       "  </thead>\n",
       "  <tbody>\n",
       "    <tr>\n",
       "      <th>0</th>\n",
       "      <td>M</td>\n",
       "      <td>B</td>\n",
       "      <td>60</td>\n",
       "      <td>60.0</td>\n",
       "      <td>0.0</td>\n",
       "    </tr>\n",
       "    <tr>\n",
       "      <th>1</th>\n",
       "      <td>M</td>\n",
       "      <td>B</td>\n",
       "      <td>103</td>\n",
       "      <td>103.0</td>\n",
       "      <td>0.0</td>\n",
       "    </tr>\n",
       "    <tr>\n",
       "      <th>2</th>\n",
       "      <td>F</td>\n",
       "      <td>A</td>\n",
       "      <td>58</td>\n",
       "      <td>54.2</td>\n",
       "      <td>3.8</td>\n",
       "    </tr>\n",
       "    <tr>\n",
       "      <th>3</th>\n",
       "      <td>F</td>\n",
       "      <td>A</td>\n",
       "      <td>60</td>\n",
       "      <td>54.0</td>\n",
       "      <td>6.0</td>\n",
       "    </tr>\n",
       "    <tr>\n",
       "      <th>4</th>\n",
       "      <td>F</td>\n",
       "      <td>A</td>\n",
       "      <td>64</td>\n",
       "      <td>63.3</td>\n",
       "      <td>0.7</td>\n",
       "    </tr>\n",
       "  </tbody>\n",
       "</table>\n",
       "</div>"
      ],
      "text/plain": [
       "  gender Diet  weight  weight6weeks  delta\n",
       "0      M    B      60          60.0    0.0\n",
       "1      M    B     103         103.0    0.0\n",
       "2      F    A      58          54.2    3.8\n",
       "3      F    A      60          54.0    6.0\n",
       "4      F    A      64          63.3    0.7"
      ]
     },
     "execution_count": 9,
     "metadata": {},
     "output_type": "execute_result"
    }
   ],
   "source": [
    "data.head()"
   ]
  },
  {
   "cell_type": "markdown",
   "id": "geographic-lesson",
   "metadata": {},
   "source": [
    "### 1. Проверка предпосылок, лежащих в основе дисперсионного анализа"
   ]
  },
  {
   "cell_type": "markdown",
   "id": "developed-gender",
   "metadata": {},
   "source": [
    "*если значения зависимой переменной в каждой экспериментальной группе распределены нормально, то нормально будут распределены и значения остатков соответствующей линейной модели.*"
   ]
  },
  {
   "cell_type": "code",
   "execution_count": 10,
   "id": "protective-treatment",
   "metadata": {},
   "outputs": [
    {
     "data": {
      "text/plain": [
       "ShapiroResult(statistic=0.9899073839187622, pvalue=0.8019384145736694)"
      ]
     },
     "execution_count": 10,
     "metadata": {},
     "output_type": "execute_result"
    }
   ],
   "source": [
    "st.shapiro(data['delta'])"
   ]
  },
  {
   "cell_type": "markdown",
   "id": "rapid-princess",
   "metadata": {},
   "source": [
    "Данные имеют нормальное распределение"
   ]
  },
  {
   "cell_type": "markdown",
   "id": "extra-daughter",
   "metadata": {},
   "source": [
    "Проверим гипотезы об однородности распределений"
   ]
  },
  {
   "cell_type": "code",
   "execution_count": 11,
   "id": "caring-valuation",
   "metadata": {},
   "outputs": [
    {
     "data": {
      "text/plain": [
       "BartlettResult(statistic=0.073364459569544, pvalue=0.7864996762413055)"
      ]
     },
     "execution_count": 11,
     "metadata": {},
     "output_type": "execute_result"
    }
   ],
   "source": [
    "st.bartlett(data['delta'][data['gender']=='M'], data['delta'][data['gender']=='F'])"
   ]
  },
  {
   "cell_type": "code",
   "execution_count": 12,
   "id": "industrial-coupon",
   "metadata": {},
   "outputs": [
    {
     "data": {
      "text/plain": [
       "BartlettResult(statistic=0.337454630479139, pvalue=0.8447392194944549)"
      ]
     },
     "execution_count": 12,
     "metadata": {},
     "output_type": "execute_result"
    }
   ],
   "source": [
    "st.bartlett(data['delta'][data['Diet']=='A'], data['delta'][data['Diet']=='B'], data['delta'][data['Diet']=='C'])"
   ]
  },
  {
   "cell_type": "markdown",
   "id": "effective-stewart",
   "metadata": {},
   "source": [
    "Дисперсии однородны, нулевая гипотеза принимается в обоих случаях"
   ]
  },
  {
   "cell_type": "code",
   "execution_count": 13,
   "id": "center-packet",
   "metadata": {},
   "outputs": [
    {
     "data": {
      "image/png": "[encoded data removed]",
      "text/plain": [
       "<Figure size 360x360 with 1 Axes>"
      ]
     },
     "metadata": {
      "needs_background": "light"
     },
     "output_type": "display_data"
    },
    {
     "data": {
      "image/png": "[encoded data removed]",
      "text/plain": [
       "<Figure size 360x360 with 1 Axes>"
      ]
     },
     "metadata": {
      "needs_background": "light"
     },
     "output_type": "display_data"
    }
   ],
   "source": [
    "temp_data = pd.melt(data,\n",
    "                    id_vars=['gender', 'Diet'],\n",
    "                    value_vars=['delta'],\n",
    "                    value_name='Weight')\n",
    "\n",
    "plt.figure(figsize=(5,5))\n",
    "ax = sns.boxplot(x=\"gender\", y=\"Weight\", data=temp_data, palette=\"Set1\")\n",
    "plt.show()\n",
    "\n",
    "plt.figure(figsize=(5,5))\n",
    "ax = sns.boxplot(x=\"Diet\", y=\"Weight\", data=temp_data, palette=\"Set1\")\n",
    "plt.show()"
   ]
  },
  {
   "cell_type": "markdown",
   "id": "played-start",
   "metadata": {},
   "source": [
    "### 2. Средние значения и стандартные отклонения"
   ]
  },
  {
   "cell_type": "code",
   "execution_count": 14,
   "id": "norwegian-documentary",
   "metadata": {},
   "outputs": [
    {
     "name": "stdout",
     "output_type": "stream",
     "text": [
      "Среднее значение в группе Male - 3.7857142857142856\n",
      "Среднее значение в группе Female - 3.893023255813953\n",
      "\n",
      "Стандартное отклонение в группе Male - 2.5923120245551186\n",
      "Стандартное отклонение в группе Female - 2.4864652550509208\n",
      "\n",
      "Среднее значение в группе с диетой A - 3.2999999999999994\n",
      "Среднее значение в группе с диетой B - 3.025925925925926\n",
      "Среднее значение в группе с диетой C - 5.148148148148147\n",
      "\n",
      "Стандартное отклонение в группе с диетой A - 2.1929812280698306\n",
      "Стандартное отклонение в группе с диетой B - 2.476196694244443\n",
      "Стандартное отклонение в группе с диетой C - 2.350787160580136\n",
      "\n"
     ]
    }
   ],
   "source": [
    "print(f\"Среднее значение в группе Male - {np.mean(data['delta'][data['gender']=='M'])}\")\n",
    "print(f\"Среднее значение в группе Female - {np.mean(data['delta'][data['gender']=='F'])}\\n\")\n",
    "\n",
    "print(f\"Стандартное отклонение в группе Male - {np.std(data['delta'][data['gender']=='M'])}\")\n",
    "print(f\"Стандартное отклонение в группе Female - {np.std(data['delta'][data['gender']=='F'])}\\n\")\n",
    "\n",
    "print(f\"Среднее значение в группе с диетой A - {np.mean(data['delta'][data['Diet']=='A'])}\")\n",
    "print(f\"Среднее значение в группе с диетой B - {np.mean(data['delta'][data['Diet']=='B'])}\")\n",
    "print(f\"Среднее значение в группе с диетой C - {np.mean(data['delta'][data['Diet']=='C'])}\\n\")\n",
    "\n",
    "print(f\"Стандартное отклонение в группе с диетой A - {np.std(data['delta'][data['Diet']=='A'])}\")\n",
    "print(f\"Стандартное отклонение в группе с диетой B - {np.std(data['delta'][data['Diet']=='B'])}\")\n",
    "print(f\"Стандартное отклонение в группе с диетой C - {np.std(data['delta'][data['Diet']=='C'])}\\n\")"
   ]
  },
  {
   "cell_type": "markdown",
   "id": "moved-floating",
   "metadata": {},
   "source": [
    "### 3. Тест на межгрупповые различия с учетом межфакторного воздействия и без"
   ]
  },
  {
   "cell_type": "markdown",
   "id": "visible-peeing",
   "metadata": {},
   "source": [
    "#### 3.1 Однофакторный дисперсионный анализ"
   ]
  },
  {
   "cell_type": "markdown",
   "id": "loving-secret",
   "metadata": {},
   "source": [
    "Проверка влияния фактора 𝐴 на изменение математических ожиданий. Здача может быть сведена к сравнению дисперсий 𝜎̂𝐴^2 и 𝜎̂0^2. "
   ]
  },
  {
   "cell_type": "code",
   "execution_count": 15,
   "id": "closing-complaint",
   "metadata": {},
   "outputs": [],
   "source": [
    "def assessing_var(data):  # Оценка дисперсии\n",
    "    var = 0\n",
    "    mean = np.mean(data)\n",
    "    for i in range(len(data)):\n",
    "        var += (float(list(data)[i]) - mean)**2\n",
    "    var *= float(1)/(len(data)-1)\n",
    "    return var"
   ]
  },
  {
   "cell_type": "code",
   "execution_count": 16,
   "id": "differential-satisfaction",
   "metadata": {},
   "outputs": [
    {
     "name": "stdout",
     "output_type": "stream",
     "text": [
      "1.0626252533275282\n"
     ]
    }
   ],
   "source": [
    "print(assessing_var(data['delta'].loc[data['gender']=='M']) / assessing_var(data['delta']))"
   ]
  },
  {
   "cell_type": "code",
   "execution_count": 17,
   "id": "fallen-huntington",
   "metadata": {},
   "outputs": [
    {
     "name": "stdout",
     "output_type": "stream",
     "text": [
      "0.9723002821195583\n"
     ]
    }
   ],
   "source": [
    "print(assessing_var(data['delta'].loc[data['gender']=='F']) / assessing_var(data['delta']))"
   ]
  },
  {
   "cell_type": "markdown",
   "id": "tough-blame",
   "metadata": {},
   "source": [
    "Иначе можно просто проверить гипотезу о равенстве средних $H_0: m_1=m_2=...=m_k$"
   ]
  },
  {
   "cell_type": "code",
   "execution_count": 18,
   "id": "swedish-speech",
   "metadata": {},
   "outputs": [
    {
     "name": "stdout",
     "output_type": "stream",
     "text": [
      "p-value: 0.8548\n",
      "Нулевая гипотеза принимается\n"
     ]
    }
   ],
   "source": [
    "_, p = st.f_oneway(data['delta'].loc[data['gender']=='F'], data['delta'].loc[data['gender']=='M'])\n",
    "print(f'p-value: {p:.4f}')\n",
    "\n",
    "alpha = 0.05\n",
    "\n",
    "if p >= alpha:\n",
    "    print(f'Нулевая гипотеза принимается')\n",
    "else:\n",
    "    print(f'Нулевая гипотеза отвергается')"
   ]
  },
  {
   "cell_type": "markdown",
   "id": "swiss-economy",
   "metadata": {},
   "source": [
    "Как можно видеть, фактор гендера не особо влияет на изменение в весе. То есть можно сказать, что пол человека никак не будет влиять на похудение, <b>исходя из однофакторного анализа</b>"
   ]
  },
  {
   "cell_type": "code",
   "execution_count": 19,
   "id": "ordinary-submission",
   "metadata": {},
   "outputs": [
    {
     "name": "stdout",
     "output_type": "stream",
     "text": [
      "0.7708496697154525\n"
     ]
    }
   ],
   "source": [
    "print(assessing_var(data['delta'].loc[data['Diet']=='A']) / assessing_var(data['delta']))"
   ]
  },
  {
   "cell_type": "code",
   "execution_count": 20,
   "id": "conscious-departure",
   "metadata": {},
   "outputs": [
    {
     "name": "stdout",
     "output_type": "stream",
     "text": [
      "0.9780862460105499\n"
     ]
    }
   ],
   "source": [
    "print(assessing_var(data['delta'].loc[data['Diet']=='B']) / assessing_var(data['delta']))"
   ]
  },
  {
   "cell_type": "code",
   "execution_count": 21,
   "id": "aging-share",
   "metadata": {},
   "outputs": [
    {
     "name": "stdout",
     "output_type": "stream",
     "text": [
      "0.8815226852229571\n"
     ]
    }
   ],
   "source": [
    "print(assessing_var(data['delta'].loc[data['Diet']=='C']) / assessing_var(data['delta']))"
   ]
  },
  {
   "cell_type": "code",
   "execution_count": 22,
   "id": "british-prefix",
   "metadata": {},
   "outputs": [
    {
     "name": "stdout",
     "output_type": "stream",
     "text": [
      "p-value: 0.0032\n",
      "Нулевая гипотеза отвергается\n"
     ]
    }
   ],
   "source": [
    "_, p = st.f_oneway(data['delta'].loc[data['Diet']=='A'], \n",
    "                   data['delta'].loc[data['Diet']=='B'],\n",
    "                   data['delta'].loc[data['Diet']=='C'])\n",
    "print(f'p-value: {p:.4f}')\n",
    "\n",
    "alpha = 0.05\n",
    "\n",
    "if p >= alpha:\n",
    "    print(f'Нулевая гипотеза принимается')\n",
    "else:\n",
    "    print(f'Нулевая гипотеза отвергается')"
   ]
  },
  {
   "cell_type": "markdown",
   "id": "breathing-promotion",
   "metadata": {},
   "source": [
    "Здесь же в данном случае выбор диеты влиял на похудение. Влияние фактора выбора диеты является значительным"
   ]
  },
  {
   "cell_type": "markdown",
   "id": "specified-region",
   "metadata": {},
   "source": [
    "Выясним как группы различаются между собой\n",
    "\n",
    "Воспользуемся критерием Тьюки"
   ]
  },
  {
   "cell_type": "code",
   "execution_count": 23,
   "id": "rational-dakota",
   "metadata": {},
   "outputs": [
    {
     "name": "stdout",
     "output_type": "stream",
     "text": [
      "Multiple Comparison of Means - Tukey HSD, FWER=0.05\n",
      "===================================================\n",
      "group1 group2 meandiff p-adj   lower  upper  reject\n",
      "---------------------------------------------------\n",
      "     A      B  -0.2741    0.9 -1.8806 1.3325  False\n",
      "     A      C   1.8481 0.0201  0.2416 3.4547   True\n",
      "     B      C   2.1222 0.0048  0.5636 3.6808   True\n",
      "---------------------------------------------------\n"
     ]
    },
    {
     "name": "stderr",
     "output_type": "stream",
     "text": [
      "c:\\users\\user\\appdata\\local\\programs\\python\\python37\\lib\\site-packages\\statsmodels\\sandbox\\stats\\multicomp.py:775: UserWarning: FixedFormatter should only be used together with FixedLocator\n",
      "  ax1.set_yticklabels(np.insert(self.groupsunique.astype(str), 0, ''))\n"
     ]
    },
    {
     "data": {
      "image/png": "[encoded data removed]",
      "text/plain": [
       "<Figure size 720x432 with 1 Axes>"
      ]
     },
     "metadata": {
      "needs_background": "light"
     },
     "output_type": "display_data"
    }
   ],
   "source": [
    "# Создадим экземпляр класса MultiComparison и передадим параметры из data\n",
    "MultiComp = MultiComparison(data['delta'], data['Diet'])\n",
    "# вычислим значение критерия Тьюки с уровнем значимости 0.05\n",
    "alpha = 0.05\n",
    "results = MultiComp.tukeyhsd(alpha)\n",
    "\n",
    "# результат\n",
    "print(results.summary())\n",
    "# визуализируем\n",
    "fig = results.plot_simultaneous(xlabel='Значение зависимой переменной')\n",
    "fig.get_axes()[0].title.set_text('Средние значения')"
   ]
  },
  {
   "cell_type": "markdown",
   "id": "attended-indonesian",
   "metadata": {},
   "source": [
    "Теперь мы можем сделать вывод, что по сути диета A и B не имеют разного влияния на сброс веса. Об этом можно было догадываться из прошлых итераций, но теперь точно стало видно - ответ False (гипотеза о равенстве средних подтвердилась). Но между тем диета 'C' имеет влияние, различное от двух предыдущих."
   ]
  },
  {
   "cell_type": "markdown",
   "id": "further-technical",
   "metadata": {},
   "source": [
    "#### 3.2 Двухфакторный дисперсионный анализ"
   ]
  },
  {
   "cell_type": "code",
   "execution_count": 24,
   "id": "visible-grove",
   "metadata": {},
   "outputs": [
    {
     "data": {
      "text/html": [
       "<div>\n",
       "<style scoped>\n",
       "    .dataframe tbody tr th:only-of-type {\n",
       "        vertical-align: middle;\n",
       "    }\n",
       "\n",
       "    .dataframe tbody tr th {\n",
       "        vertical-align: top;\n",
       "    }\n",
       "\n",
       "    .dataframe thead th {\n",
       "        text-align: right;\n",
       "    }\n",
       "</style>\n",
       "<table border=\"1\" class=\"dataframe\">\n",
       "  <thead>\n",
       "    <tr style=\"text-align: right;\">\n",
       "      <th></th>\n",
       "      <th>gender</th>\n",
       "      <th>Diet</th>\n",
       "      <th>Delta</th>\n",
       "    </tr>\n",
       "  </thead>\n",
       "  <tbody>\n",
       "    <tr>\n",
       "      <th>0</th>\n",
       "      <td>M</td>\n",
       "      <td>B</td>\n",
       "      <td>0.0</td>\n",
       "    </tr>\n",
       "    <tr>\n",
       "      <th>1</th>\n",
       "      <td>M</td>\n",
       "      <td>B</td>\n",
       "      <td>0.0</td>\n",
       "    </tr>\n",
       "    <tr>\n",
       "      <th>2</th>\n",
       "      <td>F</td>\n",
       "      <td>A</td>\n",
       "      <td>3.8</td>\n",
       "    </tr>\n",
       "    <tr>\n",
       "      <th>3</th>\n",
       "      <td>F</td>\n",
       "      <td>A</td>\n",
       "      <td>6.0</td>\n",
       "    </tr>\n",
       "    <tr>\n",
       "      <th>4</th>\n",
       "      <td>F</td>\n",
       "      <td>A</td>\n",
       "      <td>0.7</td>\n",
       "    </tr>\n",
       "    <tr>\n",
       "      <th>...</th>\n",
       "      <td>...</td>\n",
       "      <td>...</td>\n",
       "      <td>...</td>\n",
       "    </tr>\n",
       "    <tr>\n",
       "      <th>73</th>\n",
       "      <td>M</td>\n",
       "      <td>C</td>\n",
       "      <td>2.8</td>\n",
       "    </tr>\n",
       "    <tr>\n",
       "      <th>74</th>\n",
       "      <td>M</td>\n",
       "      <td>C</td>\n",
       "      <td>4.1</td>\n",
       "    </tr>\n",
       "    <tr>\n",
       "      <th>75</th>\n",
       "      <td>M</td>\n",
       "      <td>C</td>\n",
       "      <td>5.3</td>\n",
       "    </tr>\n",
       "    <tr>\n",
       "      <th>76</th>\n",
       "      <td>M</td>\n",
       "      <td>C</td>\n",
       "      <td>9.2</td>\n",
       "    </tr>\n",
       "    <tr>\n",
       "      <th>77</th>\n",
       "      <td>M</td>\n",
       "      <td>C</td>\n",
       "      <td>6.1</td>\n",
       "    </tr>\n",
       "  </tbody>\n",
       "</table>\n",
       "<p>78 rows × 3 columns</p>\n",
       "</div>"
      ],
      "text/plain": [
       "   gender Diet  Delta\n",
       "0       M    B    0.0\n",
       "1       M    B    0.0\n",
       "2       F    A    3.8\n",
       "3       F    A    6.0\n",
       "4       F    A    0.7\n",
       "..    ...  ...    ...\n",
       "73      M    C    2.8\n",
       "74      M    C    4.1\n",
       "75      M    C    5.3\n",
       "76      M    C    9.2\n",
       "77      M    C    6.1\n",
       "\n",
       "[78 rows x 3 columns]"
      ]
     },
     "execution_count": 24,
     "metadata": {},
     "output_type": "execute_result"
    }
   ],
   "source": [
    "temp_data = pd.melt(data,\n",
    "                    id_vars=['gender', 'Diet'],\n",
    "                    value_vars=['delta'],\n",
    "                    value_name='Delta')\n",
    "del temp_data['variable']\n",
    "temp_data\n"
   ]
  },
  {
   "cell_type": "code",
   "execution_count": 25,
   "id": "maritime-class",
   "metadata": {},
   "outputs": [],
   "source": [
    "from bioinfokit.analys import stat\n",
    "res = stat()"
   ]
  },
  {
   "cell_type": "code",
   "execution_count": 26,
   "id": "advisory-paradise",
   "metadata": {},
   "outputs": [
    {
     "name": "stdout",
     "output_type": "stream",
     "text": [
      "    group1  group2      Diff     Lower     Upper   q-value   p-value\n",
      "0   (M, B)  (M, A)  0.173077 -2.747292  3.093446  0.245388  0.900000\n",
      "1   (M, B)  (M, C)  0.756410 -2.023004  3.535824  1.126822  0.900000\n",
      "2   (M, B)  (F, B)  0.869780 -1.804407  3.543967  1.346694  0.900000\n",
      "3   (M, B)  (F, A)  0.426923 -2.247264  3.101110  0.661012  0.900000\n",
      "4   (M, B)  (F, C)  2.403077 -0.227841  5.033995  3.781914  0.093072\n",
      "5   (M, A)  (M, C)  0.583333 -2.389471  3.556137  0.812460  0.900000\n",
      "6   (M, A)  (F, B)  1.042857 -1.831807  3.917522  1.502066  0.892905\n",
      "7   (M, A)  (F, A)  0.600000 -2.274664  3.474664  0.864202  0.900000\n",
      "8   (M, A)  (F, C)  2.230000 -0.604457  5.064457  3.257513  0.206189\n",
      "9   (M, C)  (F, B)  1.626190 -1.105161  4.357542  2.465160  0.506967\n",
      "10  (M, C)  (F, A)  1.183333 -1.548018  3.914685  1.793828  0.775988\n",
      "11  (M, C)  (F, C)  1.646667 -1.042336  4.335669  2.535513  0.477610\n",
      "12  (F, B)  (F, A)  0.442857 -2.181340  3.067055  0.698745  0.900000\n",
      "13  (F, B)  (F, C)  3.272857  0.692767  5.852947  5.252226  0.005170\n",
      "14  (F, A)  (F, C)  2.830000  0.249910  5.410090  4.541537  0.023311\n"
     ]
    }
   ],
   "source": [
    "res.tukey_hsd(df=temp_data, \n",
    "              res_var='Delta', \n",
    "              xfac_var=['gender','Diet'], \n",
    "              anova_model='Delta ~ C(gender) + C(Diet) + C(gender):C(Diet)')\n",
    "result = res.tukey_summary\n",
    "print(result)"
   ]
  },
  {
   "cell_type": "code",
   "execution_count": 27,
   "id": "chicken-threat",
   "metadata": {},
   "outputs": [],
   "source": [
    "import plotly\n",
    "import plotly.graph_objs as go"
   ]
  },
  {
   "cell_type": "code",
   "execution_count": 28,
   "id": "actual-cedar",
   "metadata": {},
   "outputs": [
    {
     "data": {
      "text/plain": [
       "'3DPlot.html'"
      ]
     },
     "execution_count": 28,
     "metadata": {},
     "output_type": "execute_result"
    }
   ],
   "source": [
    "fig1 = go.Scatter3d(x=data['gender'],\n",
    "                    y=data['Diet'],\n",
    "                    z=data['delta'],\n",
    "                    marker=dict(opacity=0.9,\n",
    "                                reversescale=True,\n",
    "                                colorscale='Blues',\n",
    "                                size=5),\n",
    "                    line=dict (width=0.02),\n",
    "                    mode='markers')\n",
    "\n",
    "#Make Plot.ly Layout\n",
    "mylayout = go.Layout(scene=dict(xaxis=dict( title=\"Gender\"),\n",
    "                                yaxis=dict( title=\"Type of Diet\"),\n",
    "                                zaxis=dict(title=\"Delta of weight\")),)\n",
    "\n",
    "#Plot and save html\n",
    "plotly.offline.plot({\"data\": [fig1],\n",
    "                     \"layout\": mylayout},\n",
    "                     auto_open=True,\n",
    "                     filename=(\"3DPlot.html\"))"
   ]
  },
  {
   "cell_type": "markdown",
   "id": "suitable-access",
   "metadata": {},
   "source": [
    "Теперь уже можно сделать вывод, что и пол влияет на общий показатель. Для женщин следует применять диету 'C'. Остальные параметры прошли пороговое значение. Из графика тожно можно сделать вывод, что величины диет {A,B} и {C} распределены не одинаково. В мужском же случае это особо не влияет, есть выбросы из статистики, но это всего лишь 2 мужчин, кому диета 'C' дала результаты больше, чем средние показатели в диете 'A' и 'B'. Стоит также обратить внимание, что и с диетой 'A' и 'B' у мужчин есть аномальные значения\n",
    "\n",
    "Это говорит о том, что исходя из однофакторного анализа мы сделали ошибочный вывод. На самом деле пол влияет на результат."
   ]
  },
  {
   "cell_type": "markdown",
   "id": "boxed-somalia",
   "metadata": {},
   "source": [
    "Чтобы подтвердить нашу гипотезу проведем однофакторный анализ для зависимой переменной, но где будут данные только по мужскому полу"
   ]
  },
  {
   "cell_type": "code",
   "execution_count": 29,
   "id": "strategic-inspiration",
   "metadata": {},
   "outputs": [
    {
     "name": "stdout",
     "output_type": "stream",
     "text": [
      "Multiple Comparison of Means - Tukey HSD, FWER=0.05\n",
      "===================================================\n",
      "group1 group2 meandiff p-adj   lower  upper  reject\n",
      "---------------------------------------------------\n",
      "     A      B  -0.1731    0.9 -2.9519 2.6058  False\n",
      "     A      C   0.5833 0.8593 -2.2454 3.4121  False\n",
      "     B      C   0.7564 0.7475 -1.8883 3.4011  False\n",
      "---------------------------------------------------\n"
     ]
    },
    {
     "name": "stderr",
     "output_type": "stream",
     "text": [
      "c:\\users\\user\\appdata\\local\\programs\\python\\python37\\lib\\site-packages\\statsmodels\\sandbox\\stats\\multicomp.py:775: UserWarning:\n",
      "\n",
      "FixedFormatter should only be used together with FixedLocator\n",
      "\n"
     ]
    },
    {
     "data": {
      "image/png": "[encoded data removed]",
      "text/plain": [
       "<Figure size 720x432 with 1 Axes>"
      ]
     },
     "metadata": {
      "needs_background": "light"
     },
     "output_type": "display_data"
    }
   ],
   "source": [
    "# Создадим экземпляр класса MultiComparison и передадим параметры из data\n",
    "MultiComp = MultiComparison(data['delta'][data['gender']=='M'], data['Diet'][data['gender']=='M'])\n",
    "# вычислим значение критерия Тьюки с уровнем значимости 0.05\n",
    "alpha = 0.05\n",
    "results = MultiComp.tukeyhsd(alpha)\n",
    "\n",
    "# результат\n",
    "print(results.summary())\n",
    "# визуализируем\n",
    "fig = results.plot_simultaneous(xlabel='Значение зависимой переменной для мужского пола')\n",
    "fig.get_axes()[0].title.set_text('Средние значения')"
   ]
  },
  {
   "cell_type": "markdown",
   "id": "equivalent-enough",
   "metadata": {},
   "source": [
    "Оказывается, действительно, выбор диеты для мужчин не имеет серьёзного влияния, тест провалился, везде значение False."
   ]
  },
  {
   "cell_type": "code",
   "execution_count": null,
   "id": "hollywood-heritage",
   "metadata": {},
   "outputs": [],
   "source": []
  }
 ],
 "metadata": {
  "kernelspec": {
   "display_name": "Python 3",
   "language": "python",
   "name": "python3"
  },
  "language_info": {
   "codemirror_mode": {
    "name": "ipython",
    "version": 3
   },
   "file_extension": ".py",
   "mimetype": "text/x-python",
   "name": "python",
   "nbconvert_exporter": "python",
   "pygments_lexer": "ipython3",
   "version": "3.7.7"
  }
 },
 "nbformat": 4,
 "nbformat_minor": 5
}
