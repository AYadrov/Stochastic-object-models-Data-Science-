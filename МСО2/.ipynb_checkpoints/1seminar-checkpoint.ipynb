{
 "cells": [
  {
   "cell_type": "markdown",
   "metadata": {},
   "source": [
    "# Предварительный анализ данных"
   ]
  },
  {
   "cell_type": "code",
   "execution_count": 1,
   "metadata": {},
   "outputs": [],
   "source": [
    "import matplotlib.pyplot as plt\n",
    "import seaborn as sns\n",
    "import pandas as pd\n",
    "import numpy as np\n",
    "from collections import Counter\n",
    "from sklearn.preprocessing import LabelEncoder, OneHotEncoder, MinMaxScaler, StandardScaler\n",
    "from sklearn.impute import *\n",
    "from scipy.stats import sigmaclip\n",
    "\n",
    "%matplotlib inline"
   ]
  },
  {
   "cell_type": "code",
   "execution_count": 2,
   "metadata": {},
   "outputs": [
    {
     "name": "stdout",
     "output_type": "stream",
     "text": [
      "<class 'pandas.core.frame.DataFrame'>\n",
      "RangeIndex: 1000 entries, 0 to 999\n",
      "Data columns (total 5 columns):\n",
      " #   Column                     Non-Null Count  Dtype  \n",
      "---  ------                     --------------  -----  \n",
      " 0   cat15_programmingLanguage  981 non-null    object \n",
      " 1   cat4_income                980 non-null    object \n",
      " 2   num1_9                     1000 non-null   float64\n",
      " 3   num2_9                     952 non-null    float64\n",
      " 4   num3_9                     970 non-null    object \n",
      "dtypes: float64(2), object(3)\n",
      "memory usage: 39.2+ KB\n"
     ]
    },
    {
     "data": {
      "text/html": [
       "<div>\n",
       "<style scoped>\n",
       "    .dataframe tbody tr th:only-of-type {\n",
       "        vertical-align: middle;\n",
       "    }\n",
       "\n",
       "    .dataframe tbody tr th {\n",
       "        vertical-align: top;\n",
       "    }\n",
       "\n",
       "    .dataframe thead th {\n",
       "        text-align: right;\n",
       "    }\n",
       "</style>\n",
       "<table border=\"1\" class=\"dataframe\">\n",
       "  <thead>\n",
       "    <tr style=\"text-align: right;\">\n",
       "      <th></th>\n",
       "      <th>cat15_programmingLanguage</th>\n",
       "      <th>cat4_income</th>\n",
       "      <th>num1_9</th>\n",
       "      <th>num2_9</th>\n",
       "      <th>num3_9</th>\n",
       "    </tr>\n",
       "  </thead>\n",
       "  <tbody>\n",
       "    <tr>\n",
       "      <th>0</th>\n",
       "      <td>C++</td>\n",
       "      <td>$40,001 - $50,000</td>\n",
       "      <td>38.394563</td>\n",
       "      <td>-310.892227</td>\n",
       "      <td>475.769166</td>\n",
       "    </tr>\n",
       "    <tr>\n",
       "      <th>1</th>\n",
       "      <td>C++</td>\n",
       "      <td>$40,001 - $50,000</td>\n",
       "      <td>-9999.000000</td>\n",
       "      <td>-68.997463</td>\n",
       "      <td>333.541193</td>\n",
       "    </tr>\n",
       "    <tr>\n",
       "      <th>2</th>\n",
       "      <td>C++</td>\n",
       "      <td>$40,001 - $50,000</td>\n",
       "      <td>441.196689</td>\n",
       "      <td>450.783312</td>\n",
       "      <td>450.809984</td>\n",
       "    </tr>\n",
       "    <tr>\n",
       "      <th>3</th>\n",
       "      <td>C++</td>\n",
       "      <td>Below $30,001</td>\n",
       "      <td>210.914486</td>\n",
       "      <td>202.884884</td>\n",
       "      <td>442.997016</td>\n",
       "    </tr>\n",
       "    <tr>\n",
       "      <th>4</th>\n",
       "      <td>C++</td>\n",
       "      <td>-</td>\n",
       "      <td>-285.346725</td>\n",
       "      <td>NaN</td>\n",
       "      <td>376.479737</td>\n",
       "    </tr>\n",
       "  </tbody>\n",
       "</table>\n",
       "</div>"
      ],
      "text/plain": [
       "  cat15_programmingLanguage        cat4_income       num1_9      num2_9  \\\n",
       "0                       C++  $40,001 - $50,000    38.394563 -310.892227   \n",
       "1                       C++  $40,001 - $50,000 -9999.000000  -68.997463   \n",
       "2                       C++  $40,001 - $50,000   441.196689  450.783312   \n",
       "3                       C++      Below $30,001   210.914486  202.884884   \n",
       "4                       C++                  -  -285.346725         NaN   \n",
       "\n",
       "       num3_9  \n",
       "0  475.769166  \n",
       "1  333.541193  \n",
       "2  450.809984  \n",
       "3  442.997016  \n",
       "4  376.479737  "
      ]
     },
     "execution_count": 2,
     "metadata": {},
     "output_type": "execute_result"
    }
   ],
   "source": [
    "data = pd.read_excel(\"practice_dataframe.xlsx\",engine='openpyxl')\n",
    "data = data[['cat15_programmingLanguage', 'cat4_income', 'num1_9', 'num2_9', 'num3_9']]\n",
    "data.info()\n",
    "data.head()"
   ]
  },
  {
   "cell_type": "code",
   "execution_count": 3,
   "metadata": {},
   "outputs": [
    {
     "data": {
      "text/html": [
       "<div>\n",
       "<style scoped>\n",
       "    .dataframe tbody tr th:only-of-type {\n",
       "        vertical-align: middle;\n",
       "    }\n",
       "\n",
       "    .dataframe tbody tr th {\n",
       "        vertical-align: top;\n",
       "    }\n",
       "\n",
       "    .dataframe thead th {\n",
       "        text-align: right;\n",
       "    }\n",
       "</style>\n",
       "<table border=\"1\" class=\"dataframe\">\n",
       "  <thead>\n",
       "    <tr style=\"text-align: right;\">\n",
       "      <th></th>\n",
       "      <th>cat15_programmingLanguage</th>\n",
       "      <th>cat4_income</th>\n",
       "      <th>num1_9</th>\n",
       "      <th>num2_9</th>\n",
       "      <th>num3_9</th>\n",
       "    </tr>\n",
       "  </thead>\n",
       "  <tbody>\n",
       "    <tr>\n",
       "      <th>0</th>\n",
       "      <td>C++</td>\n",
       "      <td>$40,001 - $50,000</td>\n",
       "      <td>38.394563</td>\n",
       "      <td>-310.892227</td>\n",
       "      <td>475.769166</td>\n",
       "    </tr>\n",
       "    <tr>\n",
       "      <th>1</th>\n",
       "      <td>C++</td>\n",
       "      <td>$40,001 - $50,000</td>\n",
       "      <td>-9999.000000</td>\n",
       "      <td>-68.997463</td>\n",
       "      <td>333.541193</td>\n",
       "    </tr>\n",
       "    <tr>\n",
       "      <th>2</th>\n",
       "      <td>C++</td>\n",
       "      <td>$40,001 - $50,000</td>\n",
       "      <td>441.196689</td>\n",
       "      <td>450.783312</td>\n",
       "      <td>450.809984</td>\n",
       "    </tr>\n",
       "    <tr>\n",
       "      <th>3</th>\n",
       "      <td>C++</td>\n",
       "      <td>Below $30,001</td>\n",
       "      <td>210.914486</td>\n",
       "      <td>202.884884</td>\n",
       "      <td>442.997016</td>\n",
       "    </tr>\n",
       "    <tr>\n",
       "      <th>4</th>\n",
       "      <td>C++</td>\n",
       "      <td>-</td>\n",
       "      <td>-285.346725</td>\n",
       "      <td>NaN</td>\n",
       "      <td>376.479737</td>\n",
       "    </tr>\n",
       "  </tbody>\n",
       "</table>\n",
       "</div>"
      ],
      "text/plain": [
       "  cat15_programmingLanguage        cat4_income       num1_9      num2_9  \\\n",
       "0                       C++  $40,001 - $50,000    38.394563 -310.892227   \n",
       "1                       C++  $40,001 - $50,000 -9999.000000  -68.997463   \n",
       "2                       C++  $40,001 - $50,000   441.196689  450.783312   \n",
       "3                       C++      Below $30,001   210.914486  202.884884   \n",
       "4                       C++                  -  -285.346725         NaN   \n",
       "\n",
       "       num3_9  \n",
       "0  475.769166  \n",
       "1  333.541193  \n",
       "2  450.809984  \n",
       "3  442.997016  \n",
       "4  376.479737  "
      ]
     },
     "execution_count": 3,
     "metadata": {},
     "output_type": "execute_result"
    }
   ],
   "source": [
    "data['cat15_programmingLanguage'] = data['cat15_programmingLanguage'].replace({'c' : 'C'})\n",
    "data['cat15_programmingLanguage'] = data['cat15_programmingLanguage'].replace({'js' : 'JS'})\n",
    "data.head()"
   ]
  },
  {
   "cell_type": "markdown",
   "metadata": {},
   "source": [
    "### 1-2 задания."
   ]
  },
  {
   "cell_type": "markdown",
   "metadata": {},
   "source": [
    "#### cat15_programmingLanguage"
   ]
  },
  {
   "cell_type": "code",
   "execution_count": 4,
   "metadata": {},
   "outputs": [
    {
     "data": {
      "image/png": "[encoded data removed]",
      "text/plain": [
       "<Figure size 432x288 with 1 Axes>"
      ]
     },
     "metadata": {},
     "output_type": "display_data"
    }
   ],
   "source": [
    "data['cat15_programmingLanguage'] = data['cat15_programmingLanguage'].replace({' ' : 'No info'})\n",
    "data['cat15_programmingLanguage'] = data['cat15_programmingLanguage'].replace({'-' : 'No info'})\n",
    "counts = Counter(data['cat15_programmingLanguage'].dropna())\n",
    "plt.pie(counts.values(), labels=counts.keys())\n",
    "plt.show()"
   ]
  },
  {
   "cell_type": "code",
   "execution_count": 5,
   "metadata": {},
   "outputs": [
    {
     "data": {
      "image/png": "[encoded data removed]",
      "text/plain": [
       "<Figure size 432x288 with 1 Axes>"
      ]
     },
     "metadata": {
      "needs_background": "light"
     },
     "output_type": "display_data"
    }
   ],
   "source": [
    "counts = Counter(data['cat15_programmingLanguage'].dropna())\n",
    "plt.bar(counts.keys(), counts.values())\n",
    "plt.show()"
   ]
  },
  {
   "cell_type": "markdown",
   "metadata": {},
   "source": [
    "#### cat4_income"
   ]
  },
  {
   "cell_type": "code",
   "execution_count": 6,
   "metadata": {},
   "outputs": [
    {
     "data": {
      "image/png": "[encoded data removed]",
      "text/plain": [
       "<Figure size 432x288 with 1 Axes>"
      ]
     },
     "metadata": {},
     "output_type": "display_data"
    }
   ],
   "source": [
    "data['cat4_income'] = data['cat4_income'].replace({'below $30,001' : 'Below $30,001'})\n",
    "data['cat4_income'] = data['cat4_income'].replace({' ' : 'No info'})\n",
    "data['cat4_income'] = data['cat4_income'].replace({'-' : 'No info'})\n",
    "counts = Counter(data['cat4_income'].dropna())\n",
    "plt.pie(counts.values(), labels=counts.keys())\n",
    "plt.show()"
   ]
  },
  {
   "cell_type": "code",
   "execution_count": 7,
   "metadata": {},
   "outputs": [
    {
     "data": {
      "image/png": "[encoded data removed]",
      "text/plain": [
       "<Figure size 792x288 with 1 Axes>"
      ]
     },
     "metadata": {
      "needs_background": "light"
     },
     "output_type": "display_data"
    }
   ],
   "source": [
    "counts = Counter(data['cat4_income'].dropna())\n",
    "figure, axes = plt.subplots()\n",
    "axes.bar(counts.keys(), counts.values())\n",
    "figure.set_figwidth(11)\n",
    "plt.show()"
   ]
  },
  {
   "cell_type": "markdown",
   "metadata": {},
   "source": [
    "#### num1_9"
   ]
  },
  {
   "cell_type": "code",
   "execution_count": 8,
   "metadata": {},
   "outputs": [
    {
     "data": {
      "image/png": "[encoded data removed]",
      "text/plain": [
       "<Figure size 360x360 with 1 Axes>"
      ]
     },
     "metadata": {
      "needs_background": "light"
     },
     "output_type": "display_data"
    }
   ],
   "source": [
    "sns.displot(data['num1_9'].dropna(), kde=True, height=5)\n",
    "plt.title('Гистограмма')\n",
    "plt.xlabel('Название по x')\n",
    "plt.ylabel('Название по y')\n",
    "plt.show()"
   ]
  },
  {
   "cell_type": "code",
   "execution_count": 9,
   "metadata": {},
   "outputs": [
    {
     "data": {
      "image/png": "[encoded data removed]",
      "text/plain": [
       "<Figure size 432x288 with 1 Axes>"
      ]
     },
     "metadata": {
      "needs_background": "light"
     },
     "output_type": "display_data"
    }
   ],
   "source": [
    "sns.boxplot(data=data['num1_9'].dropna())\n",
    "plt.title('Ящик с усами')\n",
    "plt.xlabel('Название по x')\n",
    "plt.ylabel('Название по y')\n",
    "plt.show()"
   ]
  },
  {
   "cell_type": "markdown",
   "metadata": {},
   "source": [
    "#### num2_9"
   ]
  },
  {
   "cell_type": "code",
   "execution_count": 10,
   "metadata": {},
   "outputs": [
    {
     "data": {
      "image/png": "[encoded data removed]",
      "text/plain": [
       "<Figure size 360x360 with 1 Axes>"
      ]
     },
     "metadata": {
      "needs_background": "light"
     },
     "output_type": "display_data"
    }
   ],
   "source": [
    "sns.displot(data['num2_9'].dropna(), kde=True, height=5)\n",
    "plt.title('Гистограмма')\n",
    "plt.xlabel('Название по x')\n",
    "plt.ylabel('Название по y')\n",
    "plt.show()"
   ]
  },
  {
   "cell_type": "code",
   "execution_count": 11,
   "metadata": {},
   "outputs": [
    {
     "data": {
      "image/png": "[encoded data removed]",
      "text/plain": [
       "<Figure size 432x288 with 1 Axes>"
      ]
     },
     "metadata": {
      "needs_background": "light"
     },
     "output_type": "display_data"
    }
   ],
   "source": [
    "sns.boxplot(data=data['num2_9'].dropna())\n",
    "plt.title('Ящик с усами')\n",
    "plt.xlabel('Название по x')\n",
    "plt.ylabel('Название по y')\n",
    "plt.show()"
   ]
  },
  {
   "cell_type": "markdown",
   "metadata": {},
   "source": [
    "#### num3_9"
   ]
  },
  {
   "cell_type": "code",
   "execution_count": 12,
   "metadata": {},
   "outputs": [
    {
     "data": {
      "image/png": "[encoded data removed]",
      "text/plain": [
       "<Figure size 360x360 with 1 Axes>"
      ]
     },
     "metadata": {
      "needs_background": "light"
     },
     "output_type": "display_data"
    }
   ],
   "source": [
    "data['num3_9'] = data['num3_9'].replace({' ' : np.nan})\n",
    "data['num3_9'] = data['num3_9'].replace({'-' : np.nan})\n",
    "data['num3_9'] = pd.to_numeric(data['num3_9'])\n",
    "sns.displot(data['num3_9'].dropna(), kde=True, height=5)\n",
    "plt.title('Гистограмма')\n",
    "plt.xlabel('Название по x')\n",
    "plt.ylabel('Название по y')\n",
    "plt.show()"
   ]
  },
  {
   "cell_type": "code",
   "execution_count": 13,
   "metadata": {},
   "outputs": [
    {
     "data": {
      "image/png": "[encoded data removed]",
      "text/plain": [
       "<Figure size 432x288 with 1 Axes>"
      ]
     },
     "metadata": {
      "needs_background": "light"
     },
     "output_type": "display_data"
    }
   ],
   "source": [
    "sns.boxplot(data=data['num3_9'].dropna())\n",
    "plt.title('Ящик с усами')\n",
    "plt.xlabel('Название по x')\n",
    "plt.ylabel('Название по y')\n",
    "plt.show()"
   ]
  },
  {
   "cell_type": "markdown",
   "metadata": {},
   "source": [
    "### 3 задание."
   ]
  },
  {
   "cell_type": "markdown",
   "metadata": {},
   "source": [
    "#### num1_9"
   ]
  },
  {
   "cell_type": "markdown",
   "metadata": {},
   "source": [
    "#### Метод сигм."
   ]
  },
  {
   "cell_type": "code",
   "execution_count": 14,
   "metadata": {},
   "outputs": [
    {
     "name": "stdout",
     "output_type": "stream",
     "text": [
      "Границы метода сигм: [-586.5015898  1154.65175889]\n",
      "Кол-во аномальных значений = 61\n"
     ]
    }
   ],
   "source": [
    "c, low, up = sigmaclip(data['num1_9'], 3, 3)\n",
    "sigma_boundaries = np.array([low, up])\n",
    "print(f\"Границы метода сигм: {sigma_boundaries}\")\n",
    "number = len(data['num1_9'][data['num1_9'] > up]) + len(data['num1_9'][data['num1_9'] < low])\n",
    "print(f\"Кол-во аномальных значений = {number}\")"
   ]
  },
  {
   "cell_type": "markdown",
   "metadata": {},
   "source": [
    "#### Метод квартилей."
   ]
  },
  {
   "cell_type": "code",
   "execution_count": 15,
   "metadata": {},
   "outputs": [
    {
     "name": "stdout",
     "output_type": "stream",
     "text": [
      "Нижний квартиль = 42.13055\n",
      "Медиана = 253.45602\n",
      "Верхний квартиль = 472.81075\n"
     ]
    }
   ],
   "source": [
    "q1 = np.quantile(data['num1_9'], 0.25)\n",
    "m = np.median(data['num1_9'])\n",
    "q3 = np.quantile(data['num1_9'], 0.75)\n",
    "\n",
    "print(f\"Нижний квартиль = {q1:.5f}\")\n",
    "print(f\"Медиана = {m:.5f}\")\n",
    "print(f\"Верхний квартиль = {q3:.5f}\")"
   ]
  },
  {
   "cell_type": "markdown",
   "metadata": {},
   "source": [
    "Внутренние границ"
   ]
  },
  {
   "cell_type": "code",
   "execution_count": 16,
   "metadata": {},
   "outputs": [
    {
     "name": "stdout",
     "output_type": "stream",
     "text": [
      "Внутренние границы метода квартилей: [-603.88976373 1118.83106321]\n"
     ]
    }
   ],
   "source": [
    "internal_boundaries = np.array([q1 - 1.5 * (q3 - q1), q3 + 1.5 * (q3 - q1)])\n",
    "print(f\"Внутренние границы метода квартилей: {internal_boundaries}\")"
   ]
  },
  {
   "cell_type": "markdown",
   "metadata": {},
   "source": [
    "Внешние границы"
   ]
  },
  {
   "cell_type": "code",
   "execution_count": 17,
   "metadata": {},
   "outputs": [
    {
     "name": "stdout",
     "output_type": "stream",
     "text": [
      "Внешние границы метода квартилей: [-1249.91007383  1764.85137331]\n"
     ]
    }
   ],
   "source": [
    "external_boundaries = np.array([q1 - 3 * (q3 - q1), q3 + 3 * (q3 - q1)])\n",
    "print(f\"Внешние границы метода квартилей: {external_boundaries}\")"
   ]
  },
  {
   "cell_type": "markdown",
   "metadata": {},
   "source": [
    "Отбросим значения, которые не попали в границы метода сигм"
   ]
  },
  {
   "cell_type": "code",
   "execution_count": 18,
   "metadata": {},
   "outputs": [],
   "source": [
    "data.drop(data[data['num1_9'] < low].index, inplace=True)\n",
    "data.drop(data[data['num1_9'] > up].index, inplace=True)"
   ]
  },
  {
   "cell_type": "markdown",
   "metadata": {},
   "source": [
    "#### num2_9"
   ]
  },
  {
   "cell_type": "code",
   "execution_count": 19,
   "metadata": {},
   "outputs": [
    {
     "name": "stdout",
     "output_type": "stream",
     "text": [
      "Границы метода сигм: [-1053.33980504  1323.84688565]\n",
      "Кол-во аномальных значений = 32\n"
     ]
    }
   ],
   "source": [
    "c, low, up = sigmaclip(data['num2_9'].dropna(), 3, 3)\n",
    "sigma_boundaries = np.array([low, up])\n",
    "print(f\"Границы метода сигм: {sigma_boundaries}\")\n",
    "number = len(data['num2_9'][data['num2_9'] > up]) + len(data['num2_9'][data['num2_9'] < low])\n",
    "print(f\"Кол-во аномальных значений = {number}\")\n",
    "\n",
    "data.drop(data[data['num2_9'] < low].index, inplace=True)\n",
    "data.drop(data[data['num2_9'] > up].index, inplace=True)"
   ]
  },
  {
   "cell_type": "markdown",
   "metadata": {},
   "source": [
    "#### num3_9"
   ]
  },
  {
   "cell_type": "code",
   "execution_count": 20,
   "metadata": {},
   "outputs": [
    {
     "name": "stdout",
     "output_type": "stream",
     "text": [
      "Границы метода сигм: [158.98831498 568.47144554]\n",
      "Кол-во аномальных значений = 15\n"
     ]
    }
   ],
   "source": [
    "c, low, up = sigmaclip(data['num3_9'].dropna(), 3, 3)\n",
    "sigma_boundaries = np.array([low, up])\n",
    "print(f\"Границы метода сигм: {sigma_boundaries}\")\n",
    "number = len(data['num3_9'][data['num3_9'] > up]) + len(data['num3_9'][data['num3_9'] < low])\n",
    "print(f\"Кол-во аномальных значений = {number}\")\n",
    "\n",
    "data.drop(data[data['num3_9'] < low].index, inplace=True)\n",
    "data.drop(data[data['num3_9'] > up].index, inplace=True)"
   ]
  },
  {
   "cell_type": "markdown",
   "metadata": {},
   "source": [
    "### 3 задание."
   ]
  },
  {
   "cell_type": "markdown",
   "metadata": {},
   "source": [
    "#### Метод k-ближайших соседей."
   ]
  },
  {
   "cell_type": "code",
   "execution_count": 21,
   "metadata": {},
   "outputs": [
    {
     "data": {
      "text/plain": [
       "C++       397\n",
       "Java      203\n",
       "C         165\n",
       "           53\n",
       "JS         53\n",
       "Python     21\n",
       "Name: cat15_programmingLanguage, dtype: int64"
      ]
     },
     "execution_count": 21,
     "metadata": {},
     "output_type": "execute_result"
    }
   ],
   "source": [
    "data['cat15_programmingLanguage'] = data['cat15_programmingLanguage'].replace({'No info' : ''})\n",
    "data['cat15_programmingLanguage'] = data['cat15_programmingLanguage'].replace({np.nan : ''})\n",
    "data['cat15_programmingLanguage'].value_counts()"
   ]
  },
  {
   "cell_type": "code",
   "execution_count": 22,
   "metadata": {},
   "outputs": [
    {
     "data": {
      "text/html": [
       "<div>\n",
       "<style scoped>\n",
       "    .dataframe tbody tr th:only-of-type {\n",
       "        vertical-align: middle;\n",
       "    }\n",
       "\n",
       "    .dataframe tbody tr th {\n",
       "        vertical-align: top;\n",
       "    }\n",
       "\n",
       "    .dataframe thead th {\n",
       "        text-align: right;\n",
       "    }\n",
       "</style>\n",
       "<table border=\"1\" class=\"dataframe\">\n",
       "  <thead>\n",
       "    <tr style=\"text-align: right;\">\n",
       "      <th></th>\n",
       "      <th>cat15_programmingLanguage</th>\n",
       "      <th>cat4_income</th>\n",
       "      <th>num1_9</th>\n",
       "      <th>num2_9</th>\n",
       "      <th>num3_9</th>\n",
       "      <th>0</th>\n",
       "      <th>1</th>\n",
       "      <th>2</th>\n",
       "      <th>3</th>\n",
       "      <th>4</th>\n",
       "      <th>5</th>\n",
       "    </tr>\n",
       "  </thead>\n",
       "  <tbody>\n",
       "    <tr>\n",
       "      <th>0</th>\n",
       "      <td>C++</td>\n",
       "      <td>$40,001 - $50,000</td>\n",
       "      <td>38.394563</td>\n",
       "      <td>-310.892227</td>\n",
       "      <td>475.769166</td>\n",
       "      <td>0.0</td>\n",
       "      <td>0.0</td>\n",
       "      <td>1.0</td>\n",
       "      <td>0.0</td>\n",
       "      <td>0.0</td>\n",
       "      <td>0.0</td>\n",
       "    </tr>\n",
       "    <tr>\n",
       "      <th>2</th>\n",
       "      <td>C++</td>\n",
       "      <td>$40,001 - $50,000</td>\n",
       "      <td>441.196689</td>\n",
       "      <td>450.783312</td>\n",
       "      <td>450.809984</td>\n",
       "      <td>0.0</td>\n",
       "      <td>0.0</td>\n",
       "      <td>1.0</td>\n",
       "      <td>0.0</td>\n",
       "      <td>0.0</td>\n",
       "      <td>0.0</td>\n",
       "    </tr>\n",
       "    <tr>\n",
       "      <th>3</th>\n",
       "      <td>C++</td>\n",
       "      <td>Below $30,001</td>\n",
       "      <td>210.914486</td>\n",
       "      <td>202.884884</td>\n",
       "      <td>442.997016</td>\n",
       "      <td>0.0</td>\n",
       "      <td>0.0</td>\n",
       "      <td>1.0</td>\n",
       "      <td>0.0</td>\n",
       "      <td>0.0</td>\n",
       "      <td>0.0</td>\n",
       "    </tr>\n",
       "    <tr>\n",
       "      <th>4</th>\n",
       "      <td>C++</td>\n",
       "      <td>No info</td>\n",
       "      <td>-285.346725</td>\n",
       "      <td>NaN</td>\n",
       "      <td>376.479737</td>\n",
       "      <td>0.0</td>\n",
       "      <td>0.0</td>\n",
       "      <td>1.0</td>\n",
       "      <td>0.0</td>\n",
       "      <td>0.0</td>\n",
       "      <td>0.0</td>\n",
       "    </tr>\n",
       "    <tr>\n",
       "      <th>5</th>\n",
       "      <td>C++</td>\n",
       "      <td>$40,001 - $50,000</td>\n",
       "      <td>252.856543</td>\n",
       "      <td>260.750638</td>\n",
       "      <td>454.622471</td>\n",
       "      <td>0.0</td>\n",
       "      <td>1.0</td>\n",
       "      <td>0.0</td>\n",
       "      <td>0.0</td>\n",
       "      <td>0.0</td>\n",
       "      <td>0.0</td>\n",
       "    </tr>\n",
       "    <tr>\n",
       "      <th>...</th>\n",
       "      <td>...</td>\n",
       "      <td>...</td>\n",
       "      <td>...</td>\n",
       "      <td>...</td>\n",
       "      <td>...</td>\n",
       "      <td>...</td>\n",
       "      <td>...</td>\n",
       "      <td>...</td>\n",
       "      <td>...</td>\n",
       "      <td>...</td>\n",
       "      <td>...</td>\n",
       "    </tr>\n",
       "    <tr>\n",
       "      <th>994</th>\n",
       "      <td>C++</td>\n",
       "      <td>$40,001 - $50,000</td>\n",
       "      <td>42.429616</td>\n",
       "      <td>203.949187</td>\n",
       "      <td>430.263875</td>\n",
       "      <td>NaN</td>\n",
       "      <td>NaN</td>\n",
       "      <td>NaN</td>\n",
       "      <td>NaN</td>\n",
       "      <td>NaN</td>\n",
       "      <td>NaN</td>\n",
       "    </tr>\n",
       "    <tr>\n",
       "      <th>995</th>\n",
       "      <td>JS</td>\n",
       "      <td>$30,001 - $40,000</td>\n",
       "      <td>824.065303</td>\n",
       "      <td>426.900079</td>\n",
       "      <td>393.041594</td>\n",
       "      <td>NaN</td>\n",
       "      <td>NaN</td>\n",
       "      <td>NaN</td>\n",
       "      <td>NaN</td>\n",
       "      <td>NaN</td>\n",
       "      <td>NaN</td>\n",
       "    </tr>\n",
       "    <tr>\n",
       "      <th>997</th>\n",
       "      <td>Java</td>\n",
       "      <td>$30,001 - $40,000</td>\n",
       "      <td>-14.932614</td>\n",
       "      <td>471.835574</td>\n",
       "      <td>NaN</td>\n",
       "      <td>NaN</td>\n",
       "      <td>NaN</td>\n",
       "      <td>NaN</td>\n",
       "      <td>NaN</td>\n",
       "      <td>NaN</td>\n",
       "      <td>NaN</td>\n",
       "    </tr>\n",
       "    <tr>\n",
       "      <th>998</th>\n",
       "      <td>C</td>\n",
       "      <td>Below $30,001</td>\n",
       "      <td>374.417925</td>\n",
       "      <td>480.725687</td>\n",
       "      <td>269.025970</td>\n",
       "      <td>NaN</td>\n",
       "      <td>NaN</td>\n",
       "      <td>NaN</td>\n",
       "      <td>NaN</td>\n",
       "      <td>NaN</td>\n",
       "      <td>NaN</td>\n",
       "    </tr>\n",
       "    <tr>\n",
       "      <th>999</th>\n",
       "      <td>Python</td>\n",
       "      <td>Below $30,001</td>\n",
       "      <td>-182.579076</td>\n",
       "      <td>369.474244</td>\n",
       "      <td>386.110874</td>\n",
       "      <td>NaN</td>\n",
       "      <td>NaN</td>\n",
       "      <td>NaN</td>\n",
       "      <td>NaN</td>\n",
       "      <td>NaN</td>\n",
       "      <td>NaN</td>\n",
       "    </tr>\n",
       "  </tbody>\n",
       "</table>\n",
       "<p>892 rows × 11 columns</p>\n",
       "</div>"
      ],
      "text/plain": [
       "    cat15_programmingLanguage         cat4_income      num1_9      num2_9  \\\n",
       "0                         C++   $40,001 - $50,000   38.394563 -310.892227   \n",
       "2                         C++   $40,001 - $50,000  441.196689  450.783312   \n",
       "3                         C++       Below $30,001  210.914486  202.884884   \n",
       "4                         C++             No info -285.346725         NaN   \n",
       "5                         C++   $40,001 - $50,000  252.856543  260.750638   \n",
       "..                        ...                 ...         ...         ...   \n",
       "994                       C++   $40,001 - $50,000   42.429616  203.949187   \n",
       "995                        JS  $30,001 - $40,000   824.065303  426.900079   \n",
       "997                      Java  $30,001 - $40,000   -14.932614  471.835574   \n",
       "998                         C       Below $30,001  374.417925  480.725687   \n",
       "999                    Python       Below $30,001 -182.579076  369.474244   \n",
       "\n",
       "         num3_9    0    1    2    3    4    5  \n",
       "0    475.769166  0.0  0.0  1.0  0.0  0.0  0.0  \n",
       "2    450.809984  0.0  0.0  1.0  0.0  0.0  0.0  \n",
       "3    442.997016  0.0  0.0  1.0  0.0  0.0  0.0  \n",
       "4    376.479737  0.0  0.0  1.0  0.0  0.0  0.0  \n",
       "5    454.622471  0.0  1.0  0.0  0.0  0.0  0.0  \n",
       "..          ...  ...  ...  ...  ...  ...  ...  \n",
       "994  430.263875  NaN  NaN  NaN  NaN  NaN  NaN  \n",
       "995  393.041594  NaN  NaN  NaN  NaN  NaN  NaN  \n",
       "997         NaN  NaN  NaN  NaN  NaN  NaN  NaN  \n",
       "998  269.025970  NaN  NaN  NaN  NaN  NaN  NaN  \n",
       "999  386.110874  NaN  NaN  NaN  NaN  NaN  NaN  \n",
       "\n",
       "[892 rows x 11 columns]"
      ]
     },
     "execution_count": 22,
     "metadata": {},
     "output_type": "execute_result"
    }
   ],
   "source": [
    "enc = OneHotEncoder()\n",
    "enc_df = pd.DataFrame(enc.fit_transform(data[['cat15_programmingLanguage']]).toarray())\n",
    "data = data.join(enc_df)\n",
    "data"
   ]
  },
  {
   "cell_type": "code",
   "execution_count": 23,
   "metadata": {},
   "outputs": [
    {
     "data": {
      "text/html": [
       "<div>\n",
       "<style scoped>\n",
       "    .dataframe tbody tr th:only-of-type {\n",
       "        vertical-align: middle;\n",
       "    }\n",
       "\n",
       "    .dataframe tbody tr th {\n",
       "        vertical-align: top;\n",
       "    }\n",
       "\n",
       "    .dataframe thead th {\n",
       "        text-align: right;\n",
       "    }\n",
       "</style>\n",
       "<table border=\"1\" class=\"dataframe\">\n",
       "  <thead>\n",
       "    <tr style=\"text-align: right;\">\n",
       "      <th></th>\n",
       "      <th>cat15_programmingLanguage</th>\n",
       "      <th>cat4_income</th>\n",
       "      <th>num1_9</th>\n",
       "      <th>num2_9</th>\n",
       "      <th>num3_9</th>\n",
       "      <th>0</th>\n",
       "      <th>1</th>\n",
       "      <th>2</th>\n",
       "      <th>3</th>\n",
       "      <th>4</th>\n",
       "      <th>5</th>\n",
       "    </tr>\n",
       "  </thead>\n",
       "  <tbody>\n",
       "    <tr>\n",
       "      <th>0</th>\n",
       "      <td>C++</td>\n",
       "      <td>$40,001 - $50,000</td>\n",
       "      <td>38.394563</td>\n",
       "      <td>-310.892227</td>\n",
       "      <td>475.769166</td>\n",
       "      <td>0.0</td>\n",
       "      <td>0.0</td>\n",
       "      <td>1.0</td>\n",
       "      <td>0.0</td>\n",
       "      <td>0.0</td>\n",
       "      <td>0.0</td>\n",
       "    </tr>\n",
       "    <tr>\n",
       "      <th>2</th>\n",
       "      <td>C++</td>\n",
       "      <td>$40,001 - $50,000</td>\n",
       "      <td>441.196689</td>\n",
       "      <td>450.783312</td>\n",
       "      <td>450.809984</td>\n",
       "      <td>0.0</td>\n",
       "      <td>0.0</td>\n",
       "      <td>1.0</td>\n",
       "      <td>0.0</td>\n",
       "      <td>0.0</td>\n",
       "      <td>0.0</td>\n",
       "    </tr>\n",
       "    <tr>\n",
       "      <th>3</th>\n",
       "      <td>C++</td>\n",
       "      <td>Below $30,001</td>\n",
       "      <td>210.914486</td>\n",
       "      <td>202.884884</td>\n",
       "      <td>442.997016</td>\n",
       "      <td>0.0</td>\n",
       "      <td>0.0</td>\n",
       "      <td>1.0</td>\n",
       "      <td>0.0</td>\n",
       "      <td>0.0</td>\n",
       "      <td>0.0</td>\n",
       "    </tr>\n",
       "    <tr>\n",
       "      <th>4</th>\n",
       "      <td>C++</td>\n",
       "      <td>No info</td>\n",
       "      <td>-285.346725</td>\n",
       "      <td>NaN</td>\n",
       "      <td>376.479737</td>\n",
       "      <td>0.0</td>\n",
       "      <td>0.0</td>\n",
       "      <td>1.0</td>\n",
       "      <td>0.0</td>\n",
       "      <td>0.0</td>\n",
       "      <td>0.0</td>\n",
       "    </tr>\n",
       "    <tr>\n",
       "      <th>5</th>\n",
       "      <td>C++</td>\n",
       "      <td>$40,001 - $50,000</td>\n",
       "      <td>252.856543</td>\n",
       "      <td>260.750638</td>\n",
       "      <td>454.622471</td>\n",
       "      <td>0.0</td>\n",
       "      <td>1.0</td>\n",
       "      <td>0.0</td>\n",
       "      <td>0.0</td>\n",
       "      <td>0.0</td>\n",
       "      <td>0.0</td>\n",
       "    </tr>\n",
       "    <tr>\n",
       "      <th>...</th>\n",
       "      <td>...</td>\n",
       "      <td>...</td>\n",
       "      <td>...</td>\n",
       "      <td>...</td>\n",
       "      <td>...</td>\n",
       "      <td>...</td>\n",
       "      <td>...</td>\n",
       "      <td>...</td>\n",
       "      <td>...</td>\n",
       "      <td>...</td>\n",
       "      <td>...</td>\n",
       "    </tr>\n",
       "    <tr>\n",
       "      <th>994</th>\n",
       "      <td>C++</td>\n",
       "      <td>$40,001 - $50,000</td>\n",
       "      <td>42.429616</td>\n",
       "      <td>203.949187</td>\n",
       "      <td>430.263875</td>\n",
       "      <td>NaN</td>\n",
       "      <td>None</td>\n",
       "      <td>None</td>\n",
       "      <td>None</td>\n",
       "      <td>None</td>\n",
       "      <td>None</td>\n",
       "    </tr>\n",
       "    <tr>\n",
       "      <th>995</th>\n",
       "      <td>JS</td>\n",
       "      <td>$30,001 - $40,000</td>\n",
       "      <td>824.065303</td>\n",
       "      <td>426.900079</td>\n",
       "      <td>393.041594</td>\n",
       "      <td>NaN</td>\n",
       "      <td>None</td>\n",
       "      <td>None</td>\n",
       "      <td>None</td>\n",
       "      <td>None</td>\n",
       "      <td>None</td>\n",
       "    </tr>\n",
       "    <tr>\n",
       "      <th>997</th>\n",
       "      <td>Java</td>\n",
       "      <td>$30,001 - $40,000</td>\n",
       "      <td>-14.932614</td>\n",
       "      <td>471.835574</td>\n",
       "      <td>NaN</td>\n",
       "      <td>NaN</td>\n",
       "      <td>None</td>\n",
       "      <td>None</td>\n",
       "      <td>None</td>\n",
       "      <td>None</td>\n",
       "      <td>None</td>\n",
       "    </tr>\n",
       "    <tr>\n",
       "      <th>998</th>\n",
       "      <td>C</td>\n",
       "      <td>Below $30,001</td>\n",
       "      <td>374.417925</td>\n",
       "      <td>480.725687</td>\n",
       "      <td>269.025970</td>\n",
       "      <td>NaN</td>\n",
       "      <td>None</td>\n",
       "      <td>None</td>\n",
       "      <td>None</td>\n",
       "      <td>None</td>\n",
       "      <td>None</td>\n",
       "    </tr>\n",
       "    <tr>\n",
       "      <th>999</th>\n",
       "      <td>Python</td>\n",
       "      <td>Below $30,001</td>\n",
       "      <td>-182.579076</td>\n",
       "      <td>369.474244</td>\n",
       "      <td>386.110874</td>\n",
       "      <td>NaN</td>\n",
       "      <td>None</td>\n",
       "      <td>None</td>\n",
       "      <td>None</td>\n",
       "      <td>None</td>\n",
       "      <td>None</td>\n",
       "    </tr>\n",
       "  </tbody>\n",
       "</table>\n",
       "<p>892 rows × 11 columns</p>\n",
       "</div>"
      ],
      "text/plain": [
       "    cat15_programmingLanguage         cat4_income      num1_9      num2_9  \\\n",
       "0                         C++   $40,001 - $50,000   38.394563 -310.892227   \n",
       "2                         C++   $40,001 - $50,000  441.196689  450.783312   \n",
       "3                         C++       Below $30,001  210.914486  202.884884   \n",
       "4                         C++             No info -285.346725         NaN   \n",
       "5                         C++   $40,001 - $50,000  252.856543  260.750638   \n",
       "..                        ...                 ...         ...         ...   \n",
       "994                       C++   $40,001 - $50,000   42.429616  203.949187   \n",
       "995                        JS  $30,001 - $40,000   824.065303  426.900079   \n",
       "997                      Java  $30,001 - $40,000   -14.932614  471.835574   \n",
       "998                         C       Below $30,001  374.417925  480.725687   \n",
       "999                    Python       Below $30,001 -182.579076  369.474244   \n",
       "\n",
       "         num3_9    0     1     2     3     4     5  \n",
       "0    475.769166  0.0   0.0   1.0   0.0   0.0   0.0  \n",
       "2    450.809984  0.0   0.0   1.0   0.0   0.0   0.0  \n",
       "3    442.997016  0.0   0.0   1.0   0.0   0.0   0.0  \n",
       "4    376.479737  0.0   0.0   1.0   0.0   0.0   0.0  \n",
       "5    454.622471  0.0   1.0   0.0   0.0   0.0   0.0  \n",
       "..          ...  ...   ...   ...   ...   ...   ...  \n",
       "994  430.263875  NaN  None  None  None  None  None  \n",
       "995  393.041594  NaN  None  None  None  None  None  \n",
       "997         NaN  NaN  None  None  None  None  None  \n",
       "998  269.025970  NaN  None  None  None  None  None  \n",
       "999  386.110874  NaN  None  None  None  None  None  \n",
       "\n",
       "[892 rows x 11 columns]"
      ]
     },
     "execution_count": 23,
     "metadata": {},
     "output_type": "execute_result"
    }
   ],
   "source": [
    "# Где поле 0 = 1 - ставим None в полях 1 и 2\n",
    "data.loc[data[0] == 1, [1, 2, 3, 4, 5]] = None\n",
    "# Где NaN - ставим тоже None для дальнейшей корректной работы\n",
    "data[1] = data[1].replace({np.nan: None})\n",
    "data[2] = data[2].replace({np.nan: None})\n",
    "data[3] = data[3].replace({np.nan: None})\n",
    "data[4] = data[4].replace({np.nan: None})\n",
    "data[5] = data[5].replace({np.nan: None})\n",
    "data"
   ]
  },
  {
   "cell_type": "code",
   "execution_count": 24,
   "metadata": {},
   "outputs": [
    {
     "data": {
      "text/html": [
       "<div>\n",
       "<style scoped>\n",
       "    .dataframe tbody tr th:only-of-type {\n",
       "        vertical-align: middle;\n",
       "    }\n",
       "\n",
       "    .dataframe tbody tr th {\n",
       "        vertical-align: top;\n",
       "    }\n",
       "\n",
       "    .dataframe thead th {\n",
       "        text-align: right;\n",
       "    }\n",
       "</style>\n",
       "<table border=\"1\" class=\"dataframe\">\n",
       "  <thead>\n",
       "    <tr style=\"text-align: right;\">\n",
       "      <th></th>\n",
       "      <th>cat15_programmingLanguage</th>\n",
       "      <th>cat4_income</th>\n",
       "      <th>num1_9</th>\n",
       "      <th>num2_9</th>\n",
       "      <th>num3_9</th>\n",
       "      <th>0</th>\n",
       "      <th>1</th>\n",
       "      <th>2</th>\n",
       "      <th>3</th>\n",
       "      <th>4</th>\n",
       "      <th>5</th>\n",
       "    </tr>\n",
       "  </thead>\n",
       "  <tbody>\n",
       "    <tr>\n",
       "      <th>0</th>\n",
       "      <td>C++</td>\n",
       "      <td>$40,001 - $50,000</td>\n",
       "      <td>38.394563</td>\n",
       "      <td>-310.892227</td>\n",
       "      <td>475.769166</td>\n",
       "      <td>0.0</td>\n",
       "      <td>0.0</td>\n",
       "      <td>1.0</td>\n",
       "      <td>0.0</td>\n",
       "      <td>0.0</td>\n",
       "      <td>0.0</td>\n",
       "    </tr>\n",
       "    <tr>\n",
       "      <th>2</th>\n",
       "      <td>C++</td>\n",
       "      <td>$40,001 - $50,000</td>\n",
       "      <td>441.196689</td>\n",
       "      <td>450.783312</td>\n",
       "      <td>450.809984</td>\n",
       "      <td>0.0</td>\n",
       "      <td>0.0</td>\n",
       "      <td>1.0</td>\n",
       "      <td>0.0</td>\n",
       "      <td>0.0</td>\n",
       "      <td>0.0</td>\n",
       "    </tr>\n",
       "    <tr>\n",
       "      <th>3</th>\n",
       "      <td>C++</td>\n",
       "      <td>Below $30,001</td>\n",
       "      <td>210.914486</td>\n",
       "      <td>202.884884</td>\n",
       "      <td>442.997016</td>\n",
       "      <td>0.0</td>\n",
       "      <td>0.0</td>\n",
       "      <td>1.0</td>\n",
       "      <td>0.0</td>\n",
       "      <td>0.0</td>\n",
       "      <td>0.0</td>\n",
       "    </tr>\n",
       "    <tr>\n",
       "      <th>4</th>\n",
       "      <td>C++</td>\n",
       "      <td>No info</td>\n",
       "      <td>-285.346725</td>\n",
       "      <td>NaN</td>\n",
       "      <td>376.479737</td>\n",
       "      <td>0.0</td>\n",
       "      <td>0.0</td>\n",
       "      <td>1.0</td>\n",
       "      <td>0.0</td>\n",
       "      <td>0.0</td>\n",
       "      <td>0.0</td>\n",
       "    </tr>\n",
       "    <tr>\n",
       "      <th>5</th>\n",
       "      <td>C++</td>\n",
       "      <td>$40,001 - $50,000</td>\n",
       "      <td>252.856543</td>\n",
       "      <td>260.750638</td>\n",
       "      <td>454.622471</td>\n",
       "      <td>0.0</td>\n",
       "      <td>1.0</td>\n",
       "      <td>0.0</td>\n",
       "      <td>0.0</td>\n",
       "      <td>0.0</td>\n",
       "      <td>0.0</td>\n",
       "    </tr>\n",
       "    <tr>\n",
       "      <th>...</th>\n",
       "      <td>...</td>\n",
       "      <td>...</td>\n",
       "      <td>...</td>\n",
       "      <td>...</td>\n",
       "      <td>...</td>\n",
       "      <td>...</td>\n",
       "      <td>...</td>\n",
       "      <td>...</td>\n",
       "      <td>...</td>\n",
       "      <td>...</td>\n",
       "      <td>...</td>\n",
       "    </tr>\n",
       "    <tr>\n",
       "      <th>994</th>\n",
       "      <td>C++</td>\n",
       "      <td>$40,001 - $50,000</td>\n",
       "      <td>42.429616</td>\n",
       "      <td>203.949187</td>\n",
       "      <td>430.263875</td>\n",
       "      <td>0.0</td>\n",
       "      <td>None</td>\n",
       "      <td>None</td>\n",
       "      <td>None</td>\n",
       "      <td>None</td>\n",
       "      <td>None</td>\n",
       "    </tr>\n",
       "    <tr>\n",
       "      <th>995</th>\n",
       "      <td>JS</td>\n",
       "      <td>$30,001 - $40,000</td>\n",
       "      <td>824.065303</td>\n",
       "      <td>426.900079</td>\n",
       "      <td>393.041594</td>\n",
       "      <td>0.0</td>\n",
       "      <td>None</td>\n",
       "      <td>None</td>\n",
       "      <td>None</td>\n",
       "      <td>None</td>\n",
       "      <td>None</td>\n",
       "    </tr>\n",
       "    <tr>\n",
       "      <th>997</th>\n",
       "      <td>Java</td>\n",
       "      <td>$30,001 - $40,000</td>\n",
       "      <td>-14.932614</td>\n",
       "      <td>471.835574</td>\n",
       "      <td>NaN</td>\n",
       "      <td>0.0</td>\n",
       "      <td>None</td>\n",
       "      <td>None</td>\n",
       "      <td>None</td>\n",
       "      <td>None</td>\n",
       "      <td>None</td>\n",
       "    </tr>\n",
       "    <tr>\n",
       "      <th>998</th>\n",
       "      <td>C</td>\n",
       "      <td>Below $30,001</td>\n",
       "      <td>374.417925</td>\n",
       "      <td>480.725687</td>\n",
       "      <td>269.025970</td>\n",
       "      <td>0.0</td>\n",
       "      <td>None</td>\n",
       "      <td>None</td>\n",
       "      <td>None</td>\n",
       "      <td>None</td>\n",
       "      <td>None</td>\n",
       "    </tr>\n",
       "    <tr>\n",
       "      <th>999</th>\n",
       "      <td>Python</td>\n",
       "      <td>Below $30,001</td>\n",
       "      <td>-182.579076</td>\n",
       "      <td>369.474244</td>\n",
       "      <td>386.110874</td>\n",
       "      <td>0.0</td>\n",
       "      <td>None</td>\n",
       "      <td>None</td>\n",
       "      <td>None</td>\n",
       "      <td>None</td>\n",
       "      <td>None</td>\n",
       "    </tr>\n",
       "  </tbody>\n",
       "</table>\n",
       "<p>892 rows × 11 columns</p>\n",
       "</div>"
      ],
      "text/plain": [
       "    cat15_programmingLanguage         cat4_income      num1_9      num2_9  \\\n",
       "0                         C++   $40,001 - $50,000   38.394563 -310.892227   \n",
       "2                         C++   $40,001 - $50,000  441.196689  450.783312   \n",
       "3                         C++       Below $30,001  210.914486  202.884884   \n",
       "4                         C++             No info -285.346725         NaN   \n",
       "5                         C++   $40,001 - $50,000  252.856543  260.750638   \n",
       "..                        ...                 ...         ...         ...   \n",
       "994                       C++   $40,001 - $50,000   42.429616  203.949187   \n",
       "995                        JS  $30,001 - $40,000   824.065303  426.900079   \n",
       "997                      Java  $30,001 - $40,000   -14.932614  471.835574   \n",
       "998                         C       Below $30,001  374.417925  480.725687   \n",
       "999                    Python       Below $30,001 -182.579076  369.474244   \n",
       "\n",
       "         num3_9    0     1     2     3     4     5  \n",
       "0    475.769166  0.0   0.0   1.0   0.0   0.0   0.0  \n",
       "2    450.809984  0.0   0.0   1.0   0.0   0.0   0.0  \n",
       "3    442.997016  0.0   0.0   1.0   0.0   0.0   0.0  \n",
       "4    376.479737  0.0   0.0   1.0   0.0   0.0   0.0  \n",
       "5    454.622471  0.0   1.0   0.0   0.0   0.0   0.0  \n",
       "..          ...  ...   ...   ...   ...   ...   ...  \n",
       "994  430.263875  0.0  None  None  None  None  None  \n",
       "995  393.041594  0.0  None  None  None  None  None  \n",
       "997         NaN  0.0  None  None  None  None  None  \n",
       "998  269.025970  0.0  None  None  None  None  None  \n",
       "999  386.110874  0.0  None  None  None  None  None  \n",
       "\n",
       "[892 rows x 11 columns]"
      ]
     },
     "execution_count": 24,
     "metadata": {},
     "output_type": "execute_result"
    }
   ],
   "source": [
    "data[0] = data[0].replace({any: 0, np.nan: 0, None: 0})\n",
    "data"
   ]
  },
  {
   "cell_type": "code",
   "execution_count": 25,
   "metadata": {},
   "outputs": [],
   "source": [
    "from sklearn.impute import KNNImputer"
   ]
  },
  {
   "cell_type": "code",
   "execution_count": 26,
   "metadata": {},
   "outputs": [
    {
     "data": {
      "text/html": [
       "<div>\n",
       "<style scoped>\n",
       "    .dataframe tbody tr th:only-of-type {\n",
       "        vertical-align: middle;\n",
       "    }\n",
       "\n",
       "    .dataframe tbody tr th {\n",
       "        vertical-align: top;\n",
       "    }\n",
       "\n",
       "    .dataframe thead th {\n",
       "        text-align: right;\n",
       "    }\n",
       "</style>\n",
       "<table border=\"1\" class=\"dataframe\">\n",
       "  <thead>\n",
       "    <tr style=\"text-align: right;\">\n",
       "      <th></th>\n",
       "      <th>cat15_programmingLanguage</th>\n",
       "      <th>cat4_income</th>\n",
       "      <th>num1_9</th>\n",
       "      <th>num2_9</th>\n",
       "      <th>num3_9</th>\n",
       "      <th>0</th>\n",
       "      <th>1</th>\n",
       "      <th>2</th>\n",
       "      <th>3</th>\n",
       "      <th>4</th>\n",
       "      <th>5</th>\n",
       "    </tr>\n",
       "  </thead>\n",
       "  <tbody>\n",
       "    <tr>\n",
       "      <th>0</th>\n",
       "      <td>C++</td>\n",
       "      <td>$40,001 - $50,000</td>\n",
       "      <td>38.394563</td>\n",
       "      <td>-310.892227</td>\n",
       "      <td>475.769166</td>\n",
       "      <td>0.0</td>\n",
       "      <td>0.00000</td>\n",
       "      <td>1.000000</td>\n",
       "      <td>0.000000</td>\n",
       "      <td>0.000000</td>\n",
       "      <td>0.000000</td>\n",
       "    </tr>\n",
       "    <tr>\n",
       "      <th>2</th>\n",
       "      <td>C++</td>\n",
       "      <td>$40,001 - $50,000</td>\n",
       "      <td>441.196689</td>\n",
       "      <td>450.783312</td>\n",
       "      <td>450.809984</td>\n",
       "      <td>0.0</td>\n",
       "      <td>0.00000</td>\n",
       "      <td>1.000000</td>\n",
       "      <td>0.000000</td>\n",
       "      <td>0.000000</td>\n",
       "      <td>0.000000</td>\n",
       "    </tr>\n",
       "    <tr>\n",
       "      <th>3</th>\n",
       "      <td>C++</td>\n",
       "      <td>Below $30,001</td>\n",
       "      <td>210.914486</td>\n",
       "      <td>202.884884</td>\n",
       "      <td>442.997016</td>\n",
       "      <td>0.0</td>\n",
       "      <td>0.00000</td>\n",
       "      <td>1.000000</td>\n",
       "      <td>0.000000</td>\n",
       "      <td>0.000000</td>\n",
       "      <td>0.000000</td>\n",
       "    </tr>\n",
       "    <tr>\n",
       "      <th>4</th>\n",
       "      <td>C++</td>\n",
       "      <td>No info</td>\n",
       "      <td>-285.346725</td>\n",
       "      <td>NaN</td>\n",
       "      <td>376.479737</td>\n",
       "      <td>0.0</td>\n",
       "      <td>0.00000</td>\n",
       "      <td>1.000000</td>\n",
       "      <td>0.000000</td>\n",
       "      <td>0.000000</td>\n",
       "      <td>0.000000</td>\n",
       "    </tr>\n",
       "    <tr>\n",
       "      <th>5</th>\n",
       "      <td>C++</td>\n",
       "      <td>$40,001 - $50,000</td>\n",
       "      <td>252.856543</td>\n",
       "      <td>260.750638</td>\n",
       "      <td>454.622471</td>\n",
       "      <td>0.0</td>\n",
       "      <td>1.00000</td>\n",
       "      <td>0.000000</td>\n",
       "      <td>0.000000</td>\n",
       "      <td>0.000000</td>\n",
       "      <td>0.000000</td>\n",
       "    </tr>\n",
       "    <tr>\n",
       "      <th>...</th>\n",
       "      <td>...</td>\n",
       "      <td>...</td>\n",
       "      <td>...</td>\n",
       "      <td>...</td>\n",
       "      <td>...</td>\n",
       "      <td>...</td>\n",
       "      <td>...</td>\n",
       "      <td>...</td>\n",
       "      <td>...</td>\n",
       "      <td>...</td>\n",
       "      <td>...</td>\n",
       "    </tr>\n",
       "    <tr>\n",
       "      <th>994</th>\n",
       "      <td>C++</td>\n",
       "      <td>$40,001 - $50,000</td>\n",
       "      <td>42.429616</td>\n",
       "      <td>203.949187</td>\n",
       "      <td>430.263875</td>\n",
       "      <td>0.0</td>\n",
       "      <td>0.19385</td>\n",
       "      <td>0.471925</td>\n",
       "      <td>0.062834</td>\n",
       "      <td>0.243316</td>\n",
       "      <td>0.028075</td>\n",
       "    </tr>\n",
       "    <tr>\n",
       "      <th>995</th>\n",
       "      <td>JS</td>\n",
       "      <td>$30,001 - $40,000</td>\n",
       "      <td>824.065303</td>\n",
       "      <td>426.900079</td>\n",
       "      <td>393.041594</td>\n",
       "      <td>0.0</td>\n",
       "      <td>0.19385</td>\n",
       "      <td>0.471925</td>\n",
       "      <td>0.062834</td>\n",
       "      <td>0.243316</td>\n",
       "      <td>0.028075</td>\n",
       "    </tr>\n",
       "    <tr>\n",
       "      <th>997</th>\n",
       "      <td>Java</td>\n",
       "      <td>$30,001 - $40,000</td>\n",
       "      <td>-14.932614</td>\n",
       "      <td>471.835574</td>\n",
       "      <td>NaN</td>\n",
       "      <td>0.0</td>\n",
       "      <td>0.19385</td>\n",
       "      <td>0.471925</td>\n",
       "      <td>0.062834</td>\n",
       "      <td>0.243316</td>\n",
       "      <td>0.028075</td>\n",
       "    </tr>\n",
       "    <tr>\n",
       "      <th>998</th>\n",
       "      <td>C</td>\n",
       "      <td>Below $30,001</td>\n",
       "      <td>374.417925</td>\n",
       "      <td>480.725687</td>\n",
       "      <td>269.025970</td>\n",
       "      <td>0.0</td>\n",
       "      <td>0.19385</td>\n",
       "      <td>0.471925</td>\n",
       "      <td>0.062834</td>\n",
       "      <td>0.243316</td>\n",
       "      <td>0.028075</td>\n",
       "    </tr>\n",
       "    <tr>\n",
       "      <th>999</th>\n",
       "      <td>Python</td>\n",
       "      <td>Below $30,001</td>\n",
       "      <td>-182.579076</td>\n",
       "      <td>369.474244</td>\n",
       "      <td>386.110874</td>\n",
       "      <td>0.0</td>\n",
       "      <td>0.19385</td>\n",
       "      <td>0.471925</td>\n",
       "      <td>0.062834</td>\n",
       "      <td>0.243316</td>\n",
       "      <td>0.028075</td>\n",
       "    </tr>\n",
       "  </tbody>\n",
       "</table>\n",
       "<p>892 rows × 11 columns</p>\n",
       "</div>"
      ],
      "text/plain": [
       "    cat15_programmingLanguage         cat4_income      num1_9      num2_9  \\\n",
       "0                         C++   $40,001 - $50,000   38.394563 -310.892227   \n",
       "2                         C++   $40,001 - $50,000  441.196689  450.783312   \n",
       "3                         C++       Below $30,001  210.914486  202.884884   \n",
       "4                         C++             No info -285.346725         NaN   \n",
       "5                         C++   $40,001 - $50,000  252.856543  260.750638   \n",
       "..                        ...                 ...         ...         ...   \n",
       "994                       C++   $40,001 - $50,000   42.429616  203.949187   \n",
       "995                        JS  $30,001 - $40,000   824.065303  426.900079   \n",
       "997                      Java  $30,001 - $40,000   -14.932614  471.835574   \n",
       "998                         C       Below $30,001  374.417925  480.725687   \n",
       "999                    Python       Below $30,001 -182.579076  369.474244   \n",
       "\n",
       "         num3_9    0        1         2         3         4         5  \n",
       "0    475.769166  0.0  0.00000  1.000000  0.000000  0.000000  0.000000  \n",
       "2    450.809984  0.0  0.00000  1.000000  0.000000  0.000000  0.000000  \n",
       "3    442.997016  0.0  0.00000  1.000000  0.000000  0.000000  0.000000  \n",
       "4    376.479737  0.0  0.00000  1.000000  0.000000  0.000000  0.000000  \n",
       "5    454.622471  0.0  1.00000  0.000000  0.000000  0.000000  0.000000  \n",
       "..          ...  ...      ...       ...       ...       ...       ...  \n",
       "994  430.263875  0.0  0.19385  0.471925  0.062834  0.243316  0.028075  \n",
       "995  393.041594  0.0  0.19385  0.471925  0.062834  0.243316  0.028075  \n",
       "997         NaN  0.0  0.19385  0.471925  0.062834  0.243316  0.028075  \n",
       "998  269.025970  0.0  0.19385  0.471925  0.062834  0.243316  0.028075  \n",
       "999  386.110874  0.0  0.19385  0.471925  0.062834  0.243316  0.028075  \n",
       "\n",
       "[892 rows x 11 columns]"
      ]
     },
     "execution_count": 26,
     "metadata": {},
     "output_type": "execute_result"
    }
   ],
   "source": [
    "knn_imputer = KNNImputer()\n",
    "inputed_df = knn_imputer.fit_transform(data[[1, 2, 3, 4, 5]])\n",
    "data[1] = inputed_df[:, 0] # нулевая колонка у нас v1_scaled, которую и хотим заполнить\n",
    "data[2] = inputed_df[:, 1]\n",
    "data[3] = inputed_df[:, 2]\n",
    "data[4] = inputed_df[:, 3]\n",
    "data[5] = inputed_df[:, 4]\n",
    "data"
   ]
  },
  {
   "cell_type": "code",
   "execution_count": 39,
   "metadata": {},
   "outputs": [
    {
     "ename": "TypeError",
     "evalue": "'>' not supported between instances of 'int' and 'str'",
     "output_type": "error",
     "traceback": [
      "\u001b[1;31m---------------------------------------------------------------------------\u001b[0m",
      "\u001b[1;31mTypeError\u001b[0m                                 Traceback (most recent call last)",
      "\u001b[1;32m<ipython-input-39-455bdb63f3be>\u001b[0m in \u001b[0;36m<module>\u001b[1;34m\u001b[0m\n\u001b[0;32m      3\u001b[0m \u001b[1;31m# data\u001b[0m\u001b[1;33m\u001b[0m\u001b[1;33m\u001b[0m\u001b[1;33m\u001b[0m\u001b[0m\n\u001b[0;32m      4\u001b[0m \u001b[1;32mfor\u001b[0m \u001b[0mi\u001b[0m \u001b[1;32min\u001b[0m \u001b[0mrange\u001b[0m \u001b[1;33m(\u001b[0m\u001b[1;36m1\u001b[0m\u001b[1;33m,\u001b[0m \u001b[1;36m6\u001b[0m\u001b[1;33m)\u001b[0m\u001b[1;33m:\u001b[0m\u001b[1;33m\u001b[0m\u001b[1;33m\u001b[0m\u001b[0m\n\u001b[1;32m----> 5\u001b[1;33m     \u001b[0mdata\u001b[0m\u001b[1;33m.\u001b[0m\u001b[0mloc\u001b[0m\u001b[1;33m[\u001b[0m\u001b[0mmax\u001b[0m\u001b[1;33m(\u001b[0m\u001b[0mdata\u001b[0m\u001b[1;33m[\u001b[0m\u001b[1;36m1\u001b[0m\u001b[1;33m:\u001b[0m\u001b[1;36m5\u001b[0m\u001b[1;33m]\u001b[0m\u001b[1;33m)\u001b[0m \u001b[1;33m==\u001b[0m \u001b[0mint\u001b[0m\u001b[1;33m(\u001b[0m\u001b[0mdata\u001b[0m\u001b[1;33m[\u001b[0m\u001b[0mi\u001b[0m\u001b[1;33m]\u001b[0m\u001b[1;33m)\u001b[0m\u001b[1;33m,\u001b[0m \u001b[0mi\u001b[0m\u001b[1;33m]\u001b[0m \u001b[1;33m=\u001b[0m \u001b[1;36m1\u001b[0m\u001b[1;33m\u001b[0m\u001b[1;33m\u001b[0m\u001b[0m\n\u001b[0m\u001b[0;32m      6\u001b[0m     \u001b[1;32mif\u001b[0m \u001b[1;33m(\u001b[0m\u001b[0mmax\u001b[0m\u001b[1;33m(\u001b[0m\u001b[0mdata\u001b[0m\u001b[1;33m[\u001b[0m\u001b[1;36m1\u001b[0m\u001b[1;33m:\u001b[0m\u001b[1;36m5\u001b[0m\u001b[1;33m]\u001b[0m\u001b[1;33m)\u001b[0m \u001b[1;33m==\u001b[0m \u001b[0mdata\u001b[0m\u001b[1;33m[\u001b[0m\u001b[0mi\u001b[0m\u001b[1;33m]\u001b[0m\u001b[1;33m)\u001b[0m\u001b[1;33m:\u001b[0m\u001b[1;33m\u001b[0m\u001b[1;33m\u001b[0m\u001b[0m\n\u001b[0;32m      7\u001b[0m \u001b[1;31m#         data.loc[data[1:5].drop(columns=data[i]) > -1] = 0\u001b[0m\u001b[1;33m\u001b[0m\u001b[1;33m\u001b[0m\u001b[1;33m\u001b[0m\u001b[0m\n",
      "\u001b[1;31mTypeError\u001b[0m: '>' not supported between instances of 'int' and 'str'"
     ]
    }
   ],
   "source": [
    "# # data.loc[max(data[1:5]) == data[1], 1] = 1\n",
    "# # data.loc[max(data[1:5]) != data[1], 2:5] = 0\n",
    "# # data\n",
    "# for i in range (1, 6):\n",
    "#     data.loc[max(data[1:5]) == data[i], i] = 1\n",
    "#     if (max(data[1:5]) == data[i]):        \n",
    "# #         data.loc[data[1:5].drop(columns=data[i]) > -1] = 0\n",
    "#         for j in range(1,i):\n",
    "#             data.loc[max(data[1:5]) != data[i], j] = 0\n",
    "#         for j in range((i+1), 6):\n",
    "#             data.loc[max(data[1:5]) != data[i], j] = j\n",
    "# data"
   ]
  },
  {
   "cell_type": "code",
   "execution_count": 43,
   "metadata": {},
   "outputs": [
    {
     "ename": "TypeError",
     "evalue": "cannot convert the series to <class 'int'>",
     "output_type": "error",
     "traceback": [
      "\u001b[1;31m---------------------------------------------------------------------------\u001b[0m",
      "\u001b[1;31mTypeError\u001b[0m                                 Traceback (most recent call last)",
      "\u001b[1;32m<ipython-input-43-22e69165a946>\u001b[0m in \u001b[0;36m<module>\u001b[1;34m\u001b[0m\n\u001b[1;32m----> 1\u001b[1;33m \u001b[0mdata\u001b[0m\u001b[1;33m.\u001b[0m\u001b[0mloc\u001b[0m\u001b[1;33m[\u001b[0m\u001b[0mint\u001b[0m\u001b[1;33m(\u001b[0m\u001b[0mdata\u001b[0m\u001b[1;33m[\u001b[0m\u001b[1;36m1\u001b[0m\u001b[1;33m]\u001b[0m\u001b[1;33m)\u001b[0m \u001b[1;33m==\u001b[0m \u001b[0mmax\u001b[0m\u001b[1;33m(\u001b[0m\u001b[0mdata\u001b[0m\u001b[1;33m[\u001b[0m\u001b[1;36m2\u001b[0m\u001b[1;33m:\u001b[0m\u001b[1;36m5\u001b[0m\u001b[1;33m]\u001b[0m\u001b[1;33m)\u001b[0m\u001b[1;33m,\u001b[0m \u001b[1;36m1\u001b[0m\u001b[1;33m]\u001b[0m \u001b[1;33m=\u001b[0m \u001b[1;36m1\u001b[0m\u001b[1;33m\u001b[0m\u001b[1;33m\u001b[0m\u001b[0m\n\u001b[0m\u001b[0;32m      2\u001b[0m \u001b[0mdata\u001b[0m\u001b[1;33m.\u001b[0m\u001b[0mloc\u001b[0m\u001b[1;33m[\u001b[0m\u001b[0mdata\u001b[0m\u001b[1;33m[\u001b[0m\u001b[1;36m1\u001b[0m\u001b[1;33m]\u001b[0m \u001b[1;33m!=\u001b[0m \u001b[0mmax\u001b[0m\u001b[1;33m(\u001b[0m\u001b[0mdata\u001b[0m\u001b[1;33m[\u001b[0m\u001b[1;36m2\u001b[0m\u001b[1;33m:\u001b[0m\u001b[1;36m5\u001b[0m\u001b[1;33m]\u001b[0m\u001b[1;33m)\u001b[0m\u001b[1;33m,\u001b[0m \u001b[1;36m1\u001b[0m\u001b[1;33m]\u001b[0m \u001b[1;33m=\u001b[0m \u001b[1;36m0\u001b[0m\u001b[1;33m\u001b[0m\u001b[1;33m\u001b[0m\u001b[0m\n\u001b[0;32m      3\u001b[0m \u001b[1;33m\u001b[0m\u001b[0m\n\u001b[0;32m      4\u001b[0m \u001b[0mdata\u001b[0m\u001b[1;33m.\u001b[0m\u001b[0mloc\u001b[0m\u001b[1;33m[\u001b[0m\u001b[0mdata\u001b[0m\u001b[1;33m[\u001b[0m\u001b[1;36m2\u001b[0m\u001b[1;33m]\u001b[0m \u001b[1;33m==\u001b[0m \u001b[0mmax\u001b[0m\u001b[1;33m(\u001b[0m\u001b[0mdata\u001b[0m\u001b[1;33m[\u001b[0m\u001b[1;36m1\u001b[0m\u001b[1;33m:\u001b[0m\u001b[1;36m5\u001b[0m\u001b[1;33m]\u001b[0m\u001b[1;33m.\u001b[0m\u001b[0mdrop\u001b[0m\u001b[1;33m(\u001b[0m\u001b[0mcolumns\u001b[0m \u001b[1;33m=\u001b[0m \u001b[1;33m[\u001b[0m\u001b[1;36m2\u001b[0m\u001b[1;33m]\u001b[0m\u001b[1;33m)\u001b[0m\u001b[1;33m)\u001b[0m\u001b[1;33m,\u001b[0m \u001b[1;36m1\u001b[0m\u001b[1;33m]\u001b[0m \u001b[1;33m=\u001b[0m \u001b[1;36m1\u001b[0m\u001b[1;33m\u001b[0m\u001b[1;33m\u001b[0m\u001b[0m\n\u001b[0;32m      5\u001b[0m \u001b[0mdata\u001b[0m\u001b[1;33m.\u001b[0m\u001b[0mloc\u001b[0m\u001b[1;33m[\u001b[0m\u001b[0mdata\u001b[0m\u001b[1;33m[\u001b[0m\u001b[1;36m2\u001b[0m\u001b[1;33m]\u001b[0m \u001b[1;33m!=\u001b[0m \u001b[0mmax\u001b[0m\u001b[1;33m(\u001b[0m\u001b[0mdata\u001b[0m\u001b[1;33m[\u001b[0m\u001b[1;36m1\u001b[0m\u001b[1;33m:\u001b[0m\u001b[1;36m5\u001b[0m\u001b[1;33m]\u001b[0m\u001b[1;33m.\u001b[0m\u001b[0mdrop\u001b[0m\u001b[1;33m(\u001b[0m\u001b[0mcolumns\u001b[0m \u001b[1;33m=\u001b[0m \u001b[1;33m[\u001b[0m\u001b[1;36m2\u001b[0m\u001b[1;33m]\u001b[0m\u001b[1;33m)\u001b[0m\u001b[1;33m)\u001b[0m\u001b[1;33m,\u001b[0m \u001b[1;36m1\u001b[0m\u001b[1;33m]\u001b[0m \u001b[1;33m=\u001b[0m \u001b[1;36m0\u001b[0m\u001b[1;33m\u001b[0m\u001b[1;33m\u001b[0m\u001b[0m\n",
      "\u001b[1;32mc:\\users\\user\\appdata\\local\\programs\\python\\python37\\lib\\site-packages\\pandas\\core\\series.py\u001b[0m in \u001b[0;36mwrapper\u001b[1;34m(self)\u001b[0m\n\u001b[0;32m    139\u001b[0m         \u001b[1;32mif\u001b[0m \u001b[0mlen\u001b[0m\u001b[1;33m(\u001b[0m\u001b[0mself\u001b[0m\u001b[1;33m)\u001b[0m \u001b[1;33m==\u001b[0m \u001b[1;36m1\u001b[0m\u001b[1;33m:\u001b[0m\u001b[1;33m\u001b[0m\u001b[1;33m\u001b[0m\u001b[0m\n\u001b[0;32m    140\u001b[0m             \u001b[1;32mreturn\u001b[0m \u001b[0mconverter\u001b[0m\u001b[1;33m(\u001b[0m\u001b[0mself\u001b[0m\u001b[1;33m.\u001b[0m\u001b[0miloc\u001b[0m\u001b[1;33m[\u001b[0m\u001b[1;36m0\u001b[0m\u001b[1;33m]\u001b[0m\u001b[1;33m)\u001b[0m\u001b[1;33m\u001b[0m\u001b[1;33m\u001b[0m\u001b[0m\n\u001b[1;32m--> 141\u001b[1;33m         \u001b[1;32mraise\u001b[0m \u001b[0mTypeError\u001b[0m\u001b[1;33m(\u001b[0m\u001b[1;34mf\"cannot convert the series to {converter}\"\u001b[0m\u001b[1;33m)\u001b[0m\u001b[1;33m\u001b[0m\u001b[1;33m\u001b[0m\u001b[0m\n\u001b[0m\u001b[0;32m    142\u001b[0m \u001b[1;33m\u001b[0m\u001b[0m\n\u001b[0;32m    143\u001b[0m     \u001b[0mwrapper\u001b[0m\u001b[1;33m.\u001b[0m\u001b[0m__name__\u001b[0m \u001b[1;33m=\u001b[0m \u001b[1;34mf\"__{converter.__name__}__\"\u001b[0m\u001b[1;33m\u001b[0m\u001b[1;33m\u001b[0m\u001b[0m\n",
      "\u001b[1;31mTypeError\u001b[0m: cannot convert the series to <class 'int'>"
     ]
    }
   ],
   "source": [
    "data.loc[data[1] == max(data[2:5]), 1] = 1\n",
    "data.loc[data[1] != max(data[2:5]), 1] = 0"
   ]
  },
  {
   "cell_type": "code",
   "execution_count": null,
   "metadata": {},
   "outputs": [],
   "source": []
  }
 ],
 "metadata": {
  "kernelspec": {
   "display_name": "Python 3",
   "language": "python",
   "name": "python3"
  },
  "language_info": {
   "codemirror_mode": {
    "name": "ipython",
    "version": 3
   },
   "file_extension": ".py",
   "mimetype": "text/x-python",
   "name": "python",
   "nbconvert_exporter": "python",
   "pygments_lexer": "ipython3",
   "version": "3.7.7"
  }
 },
 "nbformat": 4,
 "nbformat_minor": 4
}
