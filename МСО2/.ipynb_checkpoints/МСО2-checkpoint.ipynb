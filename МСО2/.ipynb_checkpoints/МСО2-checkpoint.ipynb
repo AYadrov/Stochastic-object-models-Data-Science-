{
 "cells": [
  {
   "cell_type": "markdown",
   "id": "european-inclusion",
   "metadata": {},
   "source": [
    "# <center>Практическая работа 1"
   ]
  },
  {
   "cell_type": "markdown",
   "id": "artificial-separation",
   "metadata": {},
   "source": [
    "## <center>Тема:  Предобработка данных"
   ]
  },
  {
   "cell_type": "markdown",
   "id": "respective-trial",
   "metadata": {},
   "source": [
    "## Цель: Получение навыков предварительной обработки данных на языке Python.<br>"
   ]
  },
  {
   "cell_type": "markdown",
   "id": "synthetic-mailman",
   "metadata": {},
   "source": [
    "### <ul>Требования к выполнению практической работы:\n",
    "\n",
    "### <li>1. Соответствие программы и результатов ее работы с полученным заданием.\n",
    "\n",
    "### <li>2. Самостоятельное тестирование и отладка программы.\n",
    "\n",
    "### <li>3. Устойчивость работы программы при любых значениях параметров, задаваемых пользователем через интерфейс программы.\n",
    "\n",
    "### <li>4. Составление отчета, содержащего описание реализованного метода (алгоритма) анализа данных и результаты тестирования этого метода (алгоритма) путем запуска программы с различными входными параметрами. Получаемые зависимости между выходными характеристиками и выбранными параметрами представляются в графической форме."
   ]
  },
  {
   "cell_type": "markdown",
   "id": "structural-copyright",
   "metadata": {},
   "source": [
    "## Вариант 21: cat1_gender, cat3_education, num1_22, num2_22, num3_22"
   ]
  },
  {
   "cell_type": "code",
   "execution_count": 1,
   "id": "arabic-taxation",
   "metadata": {},
   "outputs": [],
   "source": [
    "import matplotlib.pyplot as plt\n",
    "import seaborn as sns\n",
    "\n",
    "import numpy as np\n",
    "import pandas as pd\n",
    "import xlrd\n",
    "\n",
    "from scipy.stats import sigmaclip\n",
    "\n",
    "from sklearn.preprocessing import LabelEncoder, OneHotEncoder, MinMaxScaler, StandardScaler\n",
    "from sklearn.impute import KNNImputer\n",
    "from collections import Counter\n",
    "\n",
    "%matplotlib inline"
   ]
  },
  {
   "cell_type": "code",
   "execution_count": 2,
   "id": "primary-blake",
   "metadata": {},
   "outputs": [],
   "source": [
    "data = pd.read_excel('practice_dataframe.xlsx', engine='openpyxl')"
   ]
  },
  {
   "cell_type": "code",
   "execution_count": 3,
   "id": "saved-tennis",
   "metadata": {},
   "outputs": [
    {
     "data": {
      "text/plain": [
       "True"
      ]
     },
     "execution_count": 3,
     "metadata": {},
     "output_type": "execute_result"
    }
   ],
   "source": [
    "data.isnull().any().any()"
   ]
  },
  {
   "cell_type": "code",
   "execution_count": 4,
   "id": "common-birmingham",
   "metadata": {},
   "outputs": [],
   "source": [
    "data.rename(columns = { \"cat1_gender\": \"Gender\", \n",
    "                       \"cat3_education\": \"Education\"}, inplace = True)"
   ]
  },
  {
   "cell_type": "code",
   "execution_count": 5,
   "id": "pursuant-script",
   "metadata": {},
   "outputs": [
    {
     "data": {
      "text/html": [
       "<div>\n",
       "<style scoped>\n",
       "    .dataframe tbody tr th:only-of-type {\n",
       "        vertical-align: middle;\n",
       "    }\n",
       "\n",
       "    .dataframe tbody tr th {\n",
       "        vertical-align: top;\n",
       "    }\n",
       "\n",
       "    .dataframe thead th {\n",
       "        text-align: right;\n",
       "    }\n",
       "</style>\n",
       "<table border=\"1\" class=\"dataframe\">\n",
       "  <thead>\n",
       "    <tr style=\"text-align: right;\">\n",
       "      <th></th>\n",
       "      <th>Gender</th>\n",
       "      <th>Education</th>\n",
       "      <th>num1_22</th>\n",
       "      <th>num2_22</th>\n",
       "      <th>num3_22</th>\n",
       "    </tr>\n",
       "  </thead>\n",
       "  <tbody>\n",
       "    <tr>\n",
       "      <th>0</th>\n",
       "      <td>male</td>\n",
       "      <td>high school</td>\n",
       "      <td>311.628509</td>\n",
       "      <td>664.606363</td>\n",
       "      <td>648.532</td>\n",
       "    </tr>\n",
       "    <tr>\n",
       "      <th>1</th>\n",
       "      <td>male</td>\n",
       "      <td>phd</td>\n",
       "      <td>88.551646</td>\n",
       "      <td>1001.232482</td>\n",
       "      <td>665.864</td>\n",
       "    </tr>\n",
       "    <tr>\n",
       "      <th>2</th>\n",
       "      <td>male</td>\n",
       "      <td>School SAT</td>\n",
       "      <td>314.105165</td>\n",
       "      <td>806.071418</td>\n",
       "      <td>667.959</td>\n",
       "    </tr>\n",
       "    <tr>\n",
       "      <th>3</th>\n",
       "      <td>NaN</td>\n",
       "      <td>BSc</td>\n",
       "      <td>-168.550590</td>\n",
       "      <td>987.065373</td>\n",
       "      <td>651.231</td>\n",
       "    </tr>\n",
       "    <tr>\n",
       "      <th>4</th>\n",
       "      <td>male</td>\n",
       "      <td>phd</td>\n",
       "      <td>294.298042</td>\n",
       "      <td>1216.844021</td>\n",
       "      <td>645.613</td>\n",
       "    </tr>\n",
       "  </tbody>\n",
       "</table>\n",
       "</div>"
      ],
      "text/plain": [
       "  Gender    Education     num1_22      num2_22  num3_22\n",
       "0   male  high school  311.628509   664.606363  648.532\n",
       "1   male          phd   88.551646  1001.232482  665.864\n",
       "2   male   School SAT  314.105165   806.071418  667.959\n",
       "3    NaN          BSc -168.550590   987.065373  651.231\n",
       "4   male          phd  294.298042  1216.844021  645.613"
      ]
     },
     "execution_count": 5,
     "metadata": {},
     "output_type": "execute_result"
    }
   ],
   "source": [
    "data = data[['Gender', 'Education', 'num1_22', 'num2_22', 'num3_22']]\n",
    "data.head()"
   ]
  },
  {
   "cell_type": "markdown",
   "id": "working-laugh",
   "metadata": {},
   "source": [
    "# 1-2) Визуальный анализ данных + проверка правдоподобности исходных данных"
   ]
  },
  {
   "cell_type": "markdown",
   "id": "close-northeast",
   "metadata": {},
   "source": [
    "## Gender"
   ]
  },
  {
   "cell_type": "code",
   "execution_count": 6,
   "id": "forbidden-florist",
   "metadata": {},
   "outputs": [
    {
     "data": {
      "text/plain": [
       "male      633\n",
       "Male      156\n",
       "female    126\n",
       "Female     28\n",
       "-          20\n",
       "           19\n",
       "Name: Gender, dtype: int64"
      ]
     },
     "execution_count": 6,
     "metadata": {},
     "output_type": "execute_result"
    }
   ],
   "source": [
    "data['Gender'].value_counts()"
   ]
  },
  {
   "cell_type": "code",
   "execution_count": 7,
   "id": "suspended-cliff",
   "metadata": {},
   "outputs": [
    {
     "data": {
      "text/plain": [
       "Male              789\n",
       "Female            154\n",
       "No information     39\n",
       "Name: Gender, dtype: int64"
      ]
     },
     "execution_count": 7,
     "metadata": {},
     "output_type": "execute_result"
    }
   ],
   "source": [
    "data['Gender'] = data['Gender'].apply(lambda i : i if i != 'female' else 'Female')\n",
    "data['Gender'] = data['Gender'].apply(lambda i : i if i != 'male' else 'Male')\n",
    "data['Gender'] = data['Gender'].apply(lambda i : i if i != ' ' else 'No information')\n",
    "data['Gender'] = data['Gender'].apply(lambda i : i if i != '-' else 'No information')\n",
    "data['Gender'].value_counts()"
   ]
  },
  {
   "cell_type": "code",
   "execution_count": 8,
   "id": "favorite-handling",
   "metadata": {},
   "outputs": [
    {
     "data": {
      "text/plain": [
       "<Figure size 720x504 with 0 Axes>"
      ]
     },
     "metadata": {},
     "output_type": "display_data"
    },
    {
     "data": {
      "image/png": "[encoded data removed]",
      "text/plain": [
       "<Figure size 360x360 with 1 Axes>"
      ]
     },
     "metadata": {},
     "output_type": "display_data"
    },
    {
     "data": {
      "image/png": "[encoded data removed]",
      "text/plain": [
       "<Figure size 720x504 with 1 Axes>"
      ]
     },
     "metadata": {},
     "output_type": "display_data"
    }
   ],
   "source": [
    "# Убираем нулевые значения для построения графиков\n",
    "temp = data['Gender'].dropna()\n",
    "\n",
    "plt.figure(figsize=(10,7))\n",
    "sns.set_theme(style=\"whitegrid\")\n",
    "sns.displot(temp)\n",
    "plt.show()\n",
    "\n",
    "plt.figure(figsize=(10,7))\n",
    "temp = temp.value_counts()\n",
    "temp.plot.pie(autopct=\"%.1f%%\")\n",
    "plt.show()"
   ]
  },
  {
   "cell_type": "markdown",
   "id": "simple-release",
   "metadata": {},
   "source": [
    "## Education"
   ]
  },
  {
   "cell_type": "code",
   "execution_count": 9,
   "id": "progressive-china",
   "metadata": {},
   "outputs": [
    {
     "data": {
      "text/plain": [
       "BSc            281\n",
       "phd            237\n",
       "High School    231\n",
       "School SAT     119\n",
       "high school     70\n",
       "-               20\n",
       "                20\n",
       "PhD              3\n",
       "Name: Education, dtype: int64"
      ]
     },
     "execution_count": 9,
     "metadata": {},
     "output_type": "execute_result"
    }
   ],
   "source": [
    "data['Education'].value_counts()"
   ]
  },
  {
   "cell_type": "code",
   "execution_count": 10,
   "id": "assumed-constraint",
   "metadata": {},
   "outputs": [
    {
     "data": {
      "text/plain": [
       "High School       301\n",
       "BSc               281\n",
       "PhD               240\n",
       "School SAT        119\n",
       "No information     40\n",
       "Name: Education, dtype: int64"
      ]
     },
     "execution_count": 10,
     "metadata": {},
     "output_type": "execute_result"
    }
   ],
   "source": [
    "data['Education'] = data['Education'].apply(lambda i : i if i != 'phd' else 'PhD')\n",
    "data['Education'] = data['Education'].apply(lambda i : i if i != 'high school' else 'High School')\n",
    "data['Education'] = data['Education'].apply(lambda i : i if i != '-' else 'No information')\n",
    "data['Education'] = data['Education'].apply(lambda i : i if i != ' ' else 'No information')\n",
    "data['Education'].value_counts()"
   ]
  },
  {
   "cell_type": "code",
   "execution_count": 11,
   "id": "adolescent-hindu",
   "metadata": {},
   "outputs": [
    {
     "data": {
      "text/plain": [
       "True"
      ]
     },
     "execution_count": 11,
     "metadata": {},
     "output_type": "execute_result"
    }
   ],
   "source": [
    "data['Education'].isnull().any()"
   ]
  },
  {
   "cell_type": "code",
   "execution_count": 12,
   "id": "commercial-moisture",
   "metadata": {},
   "outputs": [
    {
     "data": {
      "text/plain": [
       "<Figure size 720x504 with 0 Axes>"
      ]
     },
     "metadata": {},
     "output_type": "display_data"
    },
    {
     "data": {
      "image/png": "[encoded data removed]",
      "text/plain": [
       "<Figure size 360x360 with 1 Axes>"
      ]
     },
     "metadata": {},
     "output_type": "display_data"
    },
    {
     "data": {
      "image/png": "[encoded data removed]",
      "text/plain": [
       "<Figure size 720x504 with 1 Axes>"
      ]
     },
     "metadata": {},
     "output_type": "display_data"
    }
   ],
   "source": [
    "# Убираем нулевые значения для построения графиков\n",
    "temp = data['Education'].dropna()\n",
    "\n",
    "plt.figure(figsize=(10,7))\n",
    "sns.set_theme(style=\"whitegrid\")\n",
    "sns.displot(temp)\n",
    "plt.show()\n",
    "\n",
    "plt.figure(figsize=(10,7))\n",
    "temp = temp.value_counts()\n",
    "temp.plot.pie(autopct=\"%.1f%%\")\n",
    "plt.show()"
   ]
  },
  {
   "cell_type": "markdown",
   "id": "toxic-recall",
   "metadata": {},
   "source": [
    "## num1_22"
   ]
  },
  {
   "cell_type": "code",
   "execution_count": 13,
   "id": "inside-broadcasting",
   "metadata": {},
   "outputs": [
    {
     "data": {
      "text/plain": [
       "False"
      ]
     },
     "execution_count": 13,
     "metadata": {},
     "output_type": "execute_result"
    }
   ],
   "source": [
    "data['num1_22'].isnull().any()"
   ]
  },
  {
   "cell_type": "code",
   "execution_count": 14,
   "id": "taken-interest",
   "metadata": {},
   "outputs": [
    {
     "data": {
      "text/plain": [
       "<Figure size 720x360 with 0 Axes>"
      ]
     },
     "metadata": {},
     "output_type": "display_data"
    },
    {
     "data": {
      "image/png": "[encoded data removed]",
      "text/plain": [
       "<Figure size 360x360 with 1 Axes>"
      ]
     },
     "metadata": {},
     "output_type": "display_data"
    },
    {
     "data": {
      "image/png": "[encoded data removed]",
      "text/plain": [
       "<Figure size 720x360 with 1 Axes>"
      ]
     },
     "metadata": {},
     "output_type": "display_data"
    }
   ],
   "source": [
    "plt.figure(figsize=(10,5))\n",
    "sns.displot(data, x=\"num1_22\", kde=True)\n",
    "plt.show()\n",
    "\n",
    "plt.figure(figsize=(10,5))\n",
    "ax = sns.boxplot(x=data['num1_22'], palette=\"Set2\")\n",
    "plt.show()"
   ]
  },
  {
   "cell_type": "markdown",
   "id": "perfect-camping",
   "metadata": {},
   "source": [
    "## num2_22"
   ]
  },
  {
   "cell_type": "code",
   "execution_count": 15,
   "id": "foreign-advantage",
   "metadata": {},
   "outputs": [
    {
     "data": {
      "text/plain": [
       "True"
      ]
     },
     "execution_count": 15,
     "metadata": {},
     "output_type": "execute_result"
    }
   ],
   "source": [
    "data['num2_22'].isnull().any()"
   ]
  },
  {
   "cell_type": "code",
   "execution_count": 16,
   "id": "duplicate-arthur",
   "metadata": {},
   "outputs": [
    {
     "data": {
      "text/plain": [
       "<Figure size 720x360 with 0 Axes>"
      ]
     },
     "metadata": {},
     "output_type": "display_data"
    },
    {
     "data": {
      "image/png": "[encoded data removed]",
      "text/plain": [
       "<Figure size 360x360 with 1 Axes>"
      ]
     },
     "metadata": {},
     "output_type": "display_data"
    },
    {
     "data": {
      "image/png": "[encoded data removed]",
      "text/plain": [
       "<Figure size 720x360 with 1 Axes>"
      ]
     },
     "metadata": {},
     "output_type": "display_data"
    }
   ],
   "source": [
    "data['num2_22'] = data['num2_22'].apply(lambda i : i if i != '-' else '')\n",
    "data['num2_22'] = data['num2_22'].apply(lambda i : i if i != ' ' else '')\n",
    "\n",
    "temp = data['num2_22']\n",
    "\n",
    "plt.figure(figsize=(10,5))\n",
    "sns.displot(temp.dropna(), kde=True)\n",
    "plt.show() \n",
    "\n",
    "plt.figure(figsize=(10,5))\n",
    "ax = sns.boxplot(x=temp.dropna(), palette=\"Set1\")\n",
    "plt.show()"
   ]
  },
  {
   "cell_type": "markdown",
   "id": "norwegian-warrant",
   "metadata": {},
   "source": [
    "## num3_22"
   ]
  },
  {
   "cell_type": "code",
   "execution_count": 17,
   "id": "swedish-investing",
   "metadata": {},
   "outputs": [
    {
     "data": {
      "text/plain": [
       "True"
      ]
     },
     "execution_count": 17,
     "metadata": {},
     "output_type": "execute_result"
    }
   ],
   "source": [
    "data['num3_22'].isnull().any()"
   ]
  },
  {
   "cell_type": "code",
   "execution_count": 18,
   "id": "popular-return",
   "metadata": {},
   "outputs": [
    {
     "data": {
      "text/plain": [
       "<Figure size 720x360 with 0 Axes>"
      ]
     },
     "metadata": {},
     "output_type": "display_data"
    },
    {
     "data": {
      "image/png": "[encoded data removed]",
      "text/plain": [
       "<Figure size 360x360 with 1 Axes>"
      ]
     },
     "metadata": {},
     "output_type": "display_data"
    },
    {
     "data": {
      "image/png": "[encoded data removed]",
      "text/plain": [
       "<Figure size 720x360 with 1 Axes>"
      ]
     },
     "metadata": {},
     "output_type": "display_data"
    }
   ],
   "source": [
    "data['num3_22'] = data['num3_22'].apply(lambda i : i if i != '-' else '')\n",
    "data['num3_22'] = data['num3_22'].apply(lambda i : i if i != ' ' else '')\n",
    "\n",
    "data['num3_22'] = pd.to_numeric(data['num3_22'])\n",
    "temp = data['num3_22']\n",
    "\n",
    "plt.figure(figsize=(10,5))\n",
    "sns.displot(temp.dropna(), kde=True)\n",
    "plt.show()\n",
    "            \n",
    "plt.figure(figsize=(10,5))\n",
    "ax = sns.boxplot(x=temp.dropna(), palette=\"Set3\")\n",
    "plt.show()"
   ]
  },
  {
   "cell_type": "markdown",
   "id": "indonesian-sociology",
   "metadata": {},
   "source": [
    "# 3) Поиск аномальных значений\n"
   ]
  },
  {
   "cell_type": "markdown",
   "id": "temporal-smart",
   "metadata": {},
   "source": [
    "## num1_22"
   ]
  },
  {
   "cell_type": "markdown",
   "id": "regional-victorian",
   "metadata": {},
   "source": [
    "### Метод сигм (fact = 3)"
   ]
  },
  {
   "cell_type": "code",
   "execution_count": 19,
   "id": "corrected-mathematics",
   "metadata": {},
   "outputs": [
    {
     "name": "stdout",
     "output_type": "stream",
     "text": [
      "Границы метода сигм: [-749.62921611  999.52069201]\n",
      "Кол-во аномальных значений = 61\n"
     ]
    }
   ],
   "source": [
    "c, low, up = sigmaclip(data['num1_22'], 3, 3)\n",
    "sigma_boundaries = np.array([low, up])\n",
    "print(f\"Границы метода сигм: {sigma_boundaries}\")\n",
    "number = len(data['num1_22'][data['num1_22'] > up]) + len(data['num1_22'][data['num1_22'] < low])\n",
    "print(f\"Кол-во аномальных значений = {number}\")"
   ]
  },
  {
   "cell_type": "markdown",
   "id": "convenient-seven",
   "metadata": {},
   "source": [
    "### Метод квартилей"
   ]
  },
  {
   "cell_type": "code",
   "execution_count": 20,
   "id": "alpha-mobile",
   "metadata": {},
   "outputs": [
    {
     "name": "stdout",
     "output_type": "stream",
     "text": [
      "25-quantile = -121.37399\n",
      "Median = 106.96020\n",
      "75-quantile = 315.43938\n"
     ]
    }
   ],
   "source": [
    "q1 = np.quantile(data['num1_22'], 0.25)\n",
    "median = np.median(data['num1_22'])\n",
    "q3 = np.quantile(data['num1_22'], 0.75)\n",
    "\n",
    "print(f\"25-quantile = {q1:.5f}\")\n",
    "print(f\"Median = {median:.5f}\")\n",
    "print(f\"75-quantile = {q3:.5f}\")"
   ]
  },
  {
   "cell_type": "code",
   "execution_count": 21,
   "id": "magnetic-anatomy",
   "metadata": {},
   "outputs": [
    {
     "name": "stdout",
     "output_type": "stream",
     "text": [
      "Внутренние границы метода квартилей: [-776.59403947  970.65942649]\n"
     ]
    }
   ],
   "source": [
    "# Внутренние границы\n",
    "internal_boundaries = np.array([q1 - 1.5 * (q3 - q1), q3 + 1.5 * (q3 - q1)])\n",
    "print(f\"Внутренние границы метода квартилей: {internal_boundaries}\")"
   ]
  },
  {
   "cell_type": "code",
   "execution_count": 22,
   "id": "typical-pursuit",
   "metadata": {},
   "outputs": [
    {
     "name": "stdout",
     "output_type": "stream",
     "text": [
      "Внешние границы метода квартилей: [-1431.8140892   1625.87947622]\n"
     ]
    }
   ],
   "source": [
    "# Внешние границы\n",
    "external_boundaries = np.array([q1 - 3 * (q3 - q1), q3 + 3 * (q3 - q1)])\n",
    "print(f\"Внешние границы метода квартилей: {external_boundaries}\")"
   ]
  },
  {
   "cell_type": "markdown",
   "id": "friendly-corrections",
   "metadata": {},
   "source": [
    "### Вывод можно сделать следующий, что границы метода сигм и квартилей различаются. У сигмы границы похожи на внутренние границы квартилей, но смещены ~ на 27. Считается, что точки, выходящие за границы метода сигмы, скорее всего, будут являться выбросом. Когда у квартилей, выход за внутренние границы ещё не говорит об этом. Нужно изучать природу точки, чтобы сделать вывод. У квартилей выход за внешние границы будет говорить об аномальном значении или выбросе. Но внешние границы уже сильно различаются с границами метода сигм"
   ]
  },
  {
   "cell_type": "code",
   "execution_count": 23,
   "id": "measured-brown",
   "metadata": {},
   "outputs": [],
   "source": [
    "data.drop(data[data['num1_22'] < low].index, inplace=True)\n",
    "data.drop(data[data['num1_22'] > up].index, inplace=True)"
   ]
  },
  {
   "cell_type": "markdown",
   "id": "signed-lesson",
   "metadata": {},
   "source": [
    "## num2_22"
   ]
  },
  {
   "cell_type": "markdown",
   "id": "lasting-flooring",
   "metadata": {},
   "source": [
    "### Метод сигм"
   ]
  },
  {
   "cell_type": "code",
   "execution_count": 24,
   "id": "worth-magnitude",
   "metadata": {},
   "outputs": [
    {
     "name": "stdout",
     "output_type": "stream",
     "text": [
      "Границы метода сигм: [  93.91411671 1763.14100136]\n",
      "Кол-во аномальных значений = 28\n"
     ]
    }
   ],
   "source": [
    "temp = data['num2_22']\n",
    "c, low, up = sigmaclip(temp.dropna(), 3, 3)\n",
    "sigma_boundaries = np.array([low, up])\n",
    "print(f\"Границы метода сигм: {sigma_boundaries}\")\n",
    "number = len(data['num2_22'][data['num2_22'] > up]) + len(data['num2_22'][data['num2_22'] < low])\n",
    "print(f\"Кол-во аномальных значений = {number}\")"
   ]
  },
  {
   "cell_type": "code",
   "execution_count": 25,
   "id": "broke-teacher",
   "metadata": {},
   "outputs": [],
   "source": [
    "data.drop(data[data['num2_22'] < low].index, inplace=True)\n",
    "data.drop(data[data['num2_22'] > up].index, inplace=True)"
   ]
  },
  {
   "cell_type": "markdown",
   "id": "technical-negative",
   "metadata": {},
   "source": [
    "## num3_22"
   ]
  },
  {
   "cell_type": "markdown",
   "id": "earned-mississippi",
   "metadata": {},
   "source": [
    "### Метод сигм"
   ]
  },
  {
   "cell_type": "code",
   "execution_count": 26,
   "id": "registered-entity",
   "metadata": {},
   "outputs": [
    {
     "name": "stdout",
     "output_type": "stream",
     "text": [
      "Границы метода сигм: [567.10004016 726.83684557]\n",
      "Кол-во аномальных значений = 18\n"
     ]
    }
   ],
   "source": [
    "temp = data['num3_22']\n",
    "c, low, up = sigmaclip(temp.dropna(), 3, 3)\n",
    "sigma_boundaries = np.array([low, up])\n",
    "print(f\"Границы метода сигм: {sigma_boundaries}\")\n",
    "number = len(data['num3_22'][data['num3_22'] > up]) + len(data['num3_22'][data['num3_22'] < low])\n",
    "print(f\"Кол-во аномальных значений = {number}\")"
   ]
  },
  {
   "cell_type": "code",
   "execution_count": 27,
   "id": "flush-lawyer",
   "metadata": {},
   "outputs": [],
   "source": [
    "data.drop(data[data['num3_22'] < low].index, inplace=True)\n",
    "data.drop(data[data['num3_22'] > up].index, inplace=True)"
   ]
  },
  {
   "cell_type": "markdown",
   "id": "united-reunion",
   "metadata": {},
   "source": [
    "# 4) Поиск и восстановление пропущенных значений"
   ]
  },
  {
   "cell_type": "markdown",
   "id": "ordinary-motion",
   "metadata": {},
   "source": [
    "### Column Gender, метод k-ближайших соседей"
   ]
  },
  {
   "cell_type": "code",
   "execution_count": 28,
   "id": "velvet-feedback",
   "metadata": {},
   "outputs": [
    {
     "data": {
      "text/plain": [
       "Male      699\n",
       "Female    140\n",
       "           54\n",
       "Name: Gender, dtype: int64"
      ]
     },
     "execution_count": 28,
     "metadata": {},
     "output_type": "execute_result"
    }
   ],
   "source": [
    "data['Gender'] = data['Gender'].replace({'No information': None})\n",
    "data['Gender'] = data['Gender'].replace({np.nan: None})\n",
    "data['Gender'] = data['Gender'].replace({None: ''})\n",
    "data['Gender'].value_counts()"
   ]
  },
  {
   "cell_type": "code",
   "execution_count": 29,
   "id": "organic-three",
   "metadata": {},
   "outputs": [
    {
     "data": {
      "text/html": [
       "<div>\n",
       "<style scoped>\n",
       "    .dataframe tbody tr th:only-of-type {\n",
       "        vertical-align: middle;\n",
       "    }\n",
       "\n",
       "    .dataframe tbody tr th {\n",
       "        vertical-align: top;\n",
       "    }\n",
       "\n",
       "    .dataframe thead th {\n",
       "        text-align: right;\n",
       "    }\n",
       "</style>\n",
       "<table border=\"1\" class=\"dataframe\">\n",
       "  <thead>\n",
       "    <tr style=\"text-align: right;\">\n",
       "      <th></th>\n",
       "      <th>Gender</th>\n",
       "      <th>Education</th>\n",
       "      <th>num1_22</th>\n",
       "      <th>num2_22</th>\n",
       "      <th>num3_22</th>\n",
       "      <th>0</th>\n",
       "      <th>1</th>\n",
       "      <th>2</th>\n",
       "    </tr>\n",
       "  </thead>\n",
       "  <tbody>\n",
       "    <tr>\n",
       "      <th>0</th>\n",
       "      <td>Male</td>\n",
       "      <td>High School</td>\n",
       "      <td>311.628509</td>\n",
       "      <td>664.606363</td>\n",
       "      <td>648.531900</td>\n",
       "      <td>0.0</td>\n",
       "      <td>0.0</td>\n",
       "      <td>1.0</td>\n",
       "    </tr>\n",
       "    <tr>\n",
       "      <th>1</th>\n",
       "      <td>Male</td>\n",
       "      <td>PhD</td>\n",
       "      <td>88.551646</td>\n",
       "      <td>1001.232482</td>\n",
       "      <td>665.864398</td>\n",
       "      <td>0.0</td>\n",
       "      <td>0.0</td>\n",
       "      <td>1.0</td>\n",
       "    </tr>\n",
       "    <tr>\n",
       "      <th>2</th>\n",
       "      <td>Male</td>\n",
       "      <td>School SAT</td>\n",
       "      <td>314.105165</td>\n",
       "      <td>806.071418</td>\n",
       "      <td>667.958668</td>\n",
       "      <td>0.0</td>\n",
       "      <td>0.0</td>\n",
       "      <td>1.0</td>\n",
       "    </tr>\n",
       "    <tr>\n",
       "      <th>3</th>\n",
       "      <td></td>\n",
       "      <td>BSc</td>\n",
       "      <td>-168.550590</td>\n",
       "      <td>987.065373</td>\n",
       "      <td>651.231183</td>\n",
       "      <td>1.0</td>\n",
       "      <td>0.0</td>\n",
       "      <td>0.0</td>\n",
       "    </tr>\n",
       "    <tr>\n",
       "      <th>4</th>\n",
       "      <td>Male</td>\n",
       "      <td>PhD</td>\n",
       "      <td>294.298042</td>\n",
       "      <td>1216.844021</td>\n",
       "      <td>645.612568</td>\n",
       "      <td>0.0</td>\n",
       "      <td>0.0</td>\n",
       "      <td>1.0</td>\n",
       "    </tr>\n",
       "    <tr>\n",
       "      <th>...</th>\n",
       "      <td>...</td>\n",
       "      <td>...</td>\n",
       "      <td>...</td>\n",
       "      <td>...</td>\n",
       "      <td>...</td>\n",
       "      <td>...</td>\n",
       "      <td>...</td>\n",
       "      <td>...</td>\n",
       "    </tr>\n",
       "    <tr>\n",
       "      <th>994</th>\n",
       "      <td>Male</td>\n",
       "      <td>School SAT</td>\n",
       "      <td>3.329050</td>\n",
       "      <td>NaN</td>\n",
       "      <td>649.647338</td>\n",
       "      <td>NaN</td>\n",
       "      <td>NaN</td>\n",
       "      <td>NaN</td>\n",
       "    </tr>\n",
       "    <tr>\n",
       "      <th>995</th>\n",
       "      <td>Male</td>\n",
       "      <td>PhD</td>\n",
       "      <td>-34.721255</td>\n",
       "      <td>NaN</td>\n",
       "      <td>619.945966</td>\n",
       "      <td>NaN</td>\n",
       "      <td>NaN</td>\n",
       "      <td>NaN</td>\n",
       "    </tr>\n",
       "    <tr>\n",
       "      <th>996</th>\n",
       "      <td>Male</td>\n",
       "      <td>PhD</td>\n",
       "      <td>-55.516395</td>\n",
       "      <td>858.140616</td>\n",
       "      <td>637.922461</td>\n",
       "      <td>NaN</td>\n",
       "      <td>NaN</td>\n",
       "      <td>NaN</td>\n",
       "    </tr>\n",
       "    <tr>\n",
       "      <th>997</th>\n",
       "      <td>Male</td>\n",
       "      <td>PhD</td>\n",
       "      <td>-43.164240</td>\n",
       "      <td>717.465601</td>\n",
       "      <td>675.808990</td>\n",
       "      <td>NaN</td>\n",
       "      <td>NaN</td>\n",
       "      <td>NaN</td>\n",
       "    </tr>\n",
       "    <tr>\n",
       "      <th>998</th>\n",
       "      <td></td>\n",
       "      <td>PhD</td>\n",
       "      <td>-220.999640</td>\n",
       "      <td>1001.632875</td>\n",
       "      <td>NaN</td>\n",
       "      <td>NaN</td>\n",
       "      <td>NaN</td>\n",
       "      <td>NaN</td>\n",
       "    </tr>\n",
       "  </tbody>\n",
       "</table>\n",
       "<p>893 rows × 8 columns</p>\n",
       "</div>"
      ],
      "text/plain": [
       "    Gender    Education     num1_22      num2_22     num3_22    0    1    2\n",
       "0     Male  High School  311.628509   664.606363  648.531900  0.0  0.0  1.0\n",
       "1     Male          PhD   88.551646  1001.232482  665.864398  0.0  0.0  1.0\n",
       "2     Male   School SAT  314.105165   806.071418  667.958668  0.0  0.0  1.0\n",
       "3                   BSc -168.550590   987.065373  651.231183  1.0  0.0  0.0\n",
       "4     Male          PhD  294.298042  1216.844021  645.612568  0.0  0.0  1.0\n",
       "..     ...          ...         ...          ...         ...  ...  ...  ...\n",
       "994   Male   School SAT    3.329050          NaN  649.647338  NaN  NaN  NaN\n",
       "995   Male          PhD  -34.721255          NaN  619.945966  NaN  NaN  NaN\n",
       "996   Male          PhD  -55.516395   858.140616  637.922461  NaN  NaN  NaN\n",
       "997   Male          PhD  -43.164240   717.465601  675.808990  NaN  NaN  NaN\n",
       "998                 PhD -220.999640  1001.632875         NaN  NaN  NaN  NaN\n",
       "\n",
       "[893 rows x 8 columns]"
      ]
     },
     "execution_count": 29,
     "metadata": {},
     "output_type": "execute_result"
    }
   ],
   "source": [
    "enc = OneHotEncoder()\n",
    "enc_df = pd.DataFrame(enc.fit_transform(data[['Gender']]).toarray())\n",
    "data = data.join(enc_df)\n",
    "data"
   ]
  },
  {
   "cell_type": "code",
   "execution_count": 30,
   "id": "major-wallace",
   "metadata": {},
   "outputs": [
    {
     "data": {
      "text/html": [
       "<div>\n",
       "<style scoped>\n",
       "    .dataframe tbody tr th:only-of-type {\n",
       "        vertical-align: middle;\n",
       "    }\n",
       "\n",
       "    .dataframe tbody tr th {\n",
       "        vertical-align: top;\n",
       "    }\n",
       "\n",
       "    .dataframe thead th {\n",
       "        text-align: right;\n",
       "    }\n",
       "</style>\n",
       "<table border=\"1\" class=\"dataframe\">\n",
       "  <thead>\n",
       "    <tr style=\"text-align: right;\">\n",
       "      <th></th>\n",
       "      <th>Gender</th>\n",
       "      <th>Education</th>\n",
       "      <th>num1_22</th>\n",
       "      <th>num2_22</th>\n",
       "      <th>num3_22</th>\n",
       "      <th>0</th>\n",
       "      <th>1</th>\n",
       "      <th>2</th>\n",
       "    </tr>\n",
       "  </thead>\n",
       "  <tbody>\n",
       "    <tr>\n",
       "      <th>0</th>\n",
       "      <td>Male</td>\n",
       "      <td>High School</td>\n",
       "      <td>311.628509</td>\n",
       "      <td>664.606363</td>\n",
       "      <td>648.531900</td>\n",
       "      <td>0.0</td>\n",
       "      <td>0</td>\n",
       "      <td>1</td>\n",
       "    </tr>\n",
       "    <tr>\n",
       "      <th>1</th>\n",
       "      <td>Male</td>\n",
       "      <td>PhD</td>\n",
       "      <td>88.551646</td>\n",
       "      <td>1001.232482</td>\n",
       "      <td>665.864398</td>\n",
       "      <td>0.0</td>\n",
       "      <td>0</td>\n",
       "      <td>1</td>\n",
       "    </tr>\n",
       "    <tr>\n",
       "      <th>2</th>\n",
       "      <td>Male</td>\n",
       "      <td>School SAT</td>\n",
       "      <td>314.105165</td>\n",
       "      <td>806.071418</td>\n",
       "      <td>667.958668</td>\n",
       "      <td>0.0</td>\n",
       "      <td>0</td>\n",
       "      <td>1</td>\n",
       "    </tr>\n",
       "    <tr>\n",
       "      <th>3</th>\n",
       "      <td></td>\n",
       "      <td>BSc</td>\n",
       "      <td>-168.550590</td>\n",
       "      <td>987.065373</td>\n",
       "      <td>651.231183</td>\n",
       "      <td>1.0</td>\n",
       "      <td>None</td>\n",
       "      <td>None</td>\n",
       "    </tr>\n",
       "    <tr>\n",
       "      <th>4</th>\n",
       "      <td>Male</td>\n",
       "      <td>PhD</td>\n",
       "      <td>294.298042</td>\n",
       "      <td>1216.844021</td>\n",
       "      <td>645.612568</td>\n",
       "      <td>0.0</td>\n",
       "      <td>0</td>\n",
       "      <td>1</td>\n",
       "    </tr>\n",
       "    <tr>\n",
       "      <th>...</th>\n",
       "      <td>...</td>\n",
       "      <td>...</td>\n",
       "      <td>...</td>\n",
       "      <td>...</td>\n",
       "      <td>...</td>\n",
       "      <td>...</td>\n",
       "      <td>...</td>\n",
       "      <td>...</td>\n",
       "    </tr>\n",
       "    <tr>\n",
       "      <th>994</th>\n",
       "      <td>Male</td>\n",
       "      <td>School SAT</td>\n",
       "      <td>3.329050</td>\n",
       "      <td>NaN</td>\n",
       "      <td>649.647338</td>\n",
       "      <td>NaN</td>\n",
       "      <td>None</td>\n",
       "      <td>None</td>\n",
       "    </tr>\n",
       "    <tr>\n",
       "      <th>995</th>\n",
       "      <td>Male</td>\n",
       "      <td>PhD</td>\n",
       "      <td>-34.721255</td>\n",
       "      <td>NaN</td>\n",
       "      <td>619.945966</td>\n",
       "      <td>NaN</td>\n",
       "      <td>None</td>\n",
       "      <td>None</td>\n",
       "    </tr>\n",
       "    <tr>\n",
       "      <th>996</th>\n",
       "      <td>Male</td>\n",
       "      <td>PhD</td>\n",
       "      <td>-55.516395</td>\n",
       "      <td>858.140616</td>\n",
       "      <td>637.922461</td>\n",
       "      <td>NaN</td>\n",
       "      <td>None</td>\n",
       "      <td>None</td>\n",
       "    </tr>\n",
       "    <tr>\n",
       "      <th>997</th>\n",
       "      <td>Male</td>\n",
       "      <td>PhD</td>\n",
       "      <td>-43.164240</td>\n",
       "      <td>717.465601</td>\n",
       "      <td>675.808990</td>\n",
       "      <td>NaN</td>\n",
       "      <td>None</td>\n",
       "      <td>None</td>\n",
       "    </tr>\n",
       "    <tr>\n",
       "      <th>998</th>\n",
       "      <td></td>\n",
       "      <td>PhD</td>\n",
       "      <td>-220.999640</td>\n",
       "      <td>1001.632875</td>\n",
       "      <td>NaN</td>\n",
       "      <td>NaN</td>\n",
       "      <td>None</td>\n",
       "      <td>None</td>\n",
       "    </tr>\n",
       "  </tbody>\n",
       "</table>\n",
       "<p>893 rows × 8 columns</p>\n",
       "</div>"
      ],
      "text/plain": [
       "    Gender    Education     num1_22      num2_22     num3_22    0     1     2\n",
       "0     Male  High School  311.628509   664.606363  648.531900  0.0     0     1\n",
       "1     Male          PhD   88.551646  1001.232482  665.864398  0.0     0     1\n",
       "2     Male   School SAT  314.105165   806.071418  667.958668  0.0     0     1\n",
       "3                   BSc -168.550590   987.065373  651.231183  1.0  None  None\n",
       "4     Male          PhD  294.298042  1216.844021  645.612568  0.0     0     1\n",
       "..     ...          ...         ...          ...         ...  ...   ...   ...\n",
       "994   Male   School SAT    3.329050          NaN  649.647338  NaN  None  None\n",
       "995   Male          PhD  -34.721255          NaN  619.945966  NaN  None  None\n",
       "996   Male          PhD  -55.516395   858.140616  637.922461  NaN  None  None\n",
       "997   Male          PhD  -43.164240   717.465601  675.808990  NaN  None  None\n",
       "998                 PhD -220.999640  1001.632875         NaN  NaN  None  None\n",
       "\n",
       "[893 rows x 8 columns]"
      ]
     },
     "execution_count": 30,
     "metadata": {},
     "output_type": "execute_result"
    }
   ],
   "source": [
    "# Где поле 0 = 1 - ставим None в полях 1 и 2\n",
    "data.loc[data[0] == 1, [1, 2]] = None\n",
    "# Где NaN - ставим тоже None для дальнейшей корректной работы\n",
    "data[1] = data[1].replace({np.nan: None})\n",
    "data[2] = data[2].replace({np.nan: None})\n",
    "data"
   ]
  },
  {
   "cell_type": "code",
   "execution_count": 31,
   "id": "suffering-amazon",
   "metadata": {},
   "outputs": [],
   "source": [
    "# Столбец 0 больше не нужен\n",
    "data = data.drop(0, 1) # 0 - название столбца, 1 - axis"
   ]
  },
  {
   "cell_type": "code",
   "execution_count": 32,
   "id": "pressing-manor",
   "metadata": {},
   "outputs": [
    {
     "data": {
      "text/html": [
       "<div>\n",
       "<style scoped>\n",
       "    .dataframe tbody tr th:only-of-type {\n",
       "        vertical-align: middle;\n",
       "    }\n",
       "\n",
       "    .dataframe tbody tr th {\n",
       "        vertical-align: top;\n",
       "    }\n",
       "\n",
       "    .dataframe thead th {\n",
       "        text-align: right;\n",
       "    }\n",
       "</style>\n",
       "<table border=\"1\" class=\"dataframe\">\n",
       "  <thead>\n",
       "    <tr style=\"text-align: right;\">\n",
       "      <th></th>\n",
       "      <th>Gender</th>\n",
       "      <th>Education</th>\n",
       "      <th>num1_22</th>\n",
       "      <th>num2_22</th>\n",
       "      <th>num3_22</th>\n",
       "      <th>1</th>\n",
       "      <th>2</th>\n",
       "    </tr>\n",
       "  </thead>\n",
       "  <tbody>\n",
       "    <tr>\n",
       "      <th>0</th>\n",
       "      <td>Male</td>\n",
       "      <td>High School</td>\n",
       "      <td>311.628509</td>\n",
       "      <td>664.606363</td>\n",
       "      <td>648.531900</td>\n",
       "      <td>0.000</td>\n",
       "      <td>1.000</td>\n",
       "    </tr>\n",
       "    <tr>\n",
       "      <th>1</th>\n",
       "      <td>Male</td>\n",
       "      <td>PhD</td>\n",
       "      <td>88.551646</td>\n",
       "      <td>1001.232482</td>\n",
       "      <td>665.864398</td>\n",
       "      <td>0.000</td>\n",
       "      <td>1.000</td>\n",
       "    </tr>\n",
       "    <tr>\n",
       "      <th>2</th>\n",
       "      <td>Male</td>\n",
       "      <td>School SAT</td>\n",
       "      <td>314.105165</td>\n",
       "      <td>806.071418</td>\n",
       "      <td>667.958668</td>\n",
       "      <td>0.000</td>\n",
       "      <td>1.000</td>\n",
       "    </tr>\n",
       "    <tr>\n",
       "      <th>3</th>\n",
       "      <td></td>\n",
       "      <td>BSc</td>\n",
       "      <td>-168.550590</td>\n",
       "      <td>987.065373</td>\n",
       "      <td>651.231183</td>\n",
       "      <td>0.156</td>\n",
       "      <td>0.844</td>\n",
       "    </tr>\n",
       "    <tr>\n",
       "      <th>4</th>\n",
       "      <td>Male</td>\n",
       "      <td>PhD</td>\n",
       "      <td>294.298042</td>\n",
       "      <td>1216.844021</td>\n",
       "      <td>645.612568</td>\n",
       "      <td>0.000</td>\n",
       "      <td>1.000</td>\n",
       "    </tr>\n",
       "    <tr>\n",
       "      <th>...</th>\n",
       "      <td>...</td>\n",
       "      <td>...</td>\n",
       "      <td>...</td>\n",
       "      <td>...</td>\n",
       "      <td>...</td>\n",
       "      <td>...</td>\n",
       "      <td>...</td>\n",
       "    </tr>\n",
       "    <tr>\n",
       "      <th>994</th>\n",
       "      <td>Male</td>\n",
       "      <td>School SAT</td>\n",
       "      <td>3.329050</td>\n",
       "      <td>NaN</td>\n",
       "      <td>649.647338</td>\n",
       "      <td>0.156</td>\n",
       "      <td>0.844</td>\n",
       "    </tr>\n",
       "    <tr>\n",
       "      <th>995</th>\n",
       "      <td>Male</td>\n",
       "      <td>PhD</td>\n",
       "      <td>-34.721255</td>\n",
       "      <td>NaN</td>\n",
       "      <td>619.945966</td>\n",
       "      <td>0.156</td>\n",
       "      <td>0.844</td>\n",
       "    </tr>\n",
       "    <tr>\n",
       "      <th>996</th>\n",
       "      <td>Male</td>\n",
       "      <td>PhD</td>\n",
       "      <td>-55.516395</td>\n",
       "      <td>858.140616</td>\n",
       "      <td>637.922461</td>\n",
       "      <td>0.156</td>\n",
       "      <td>0.844</td>\n",
       "    </tr>\n",
       "    <tr>\n",
       "      <th>997</th>\n",
       "      <td>Male</td>\n",
       "      <td>PhD</td>\n",
       "      <td>-43.164240</td>\n",
       "      <td>717.465601</td>\n",
       "      <td>675.808990</td>\n",
       "      <td>0.156</td>\n",
       "      <td>0.844</td>\n",
       "    </tr>\n",
       "    <tr>\n",
       "      <th>998</th>\n",
       "      <td></td>\n",
       "      <td>PhD</td>\n",
       "      <td>-220.999640</td>\n",
       "      <td>1001.632875</td>\n",
       "      <td>NaN</td>\n",
       "      <td>0.156</td>\n",
       "      <td>0.844</td>\n",
       "    </tr>\n",
       "  </tbody>\n",
       "</table>\n",
       "<p>893 rows × 7 columns</p>\n",
       "</div>"
      ],
      "text/plain": [
       "    Gender    Education     num1_22      num2_22     num3_22      1      2\n",
       "0     Male  High School  311.628509   664.606363  648.531900  0.000  1.000\n",
       "1     Male          PhD   88.551646  1001.232482  665.864398  0.000  1.000\n",
       "2     Male   School SAT  314.105165   806.071418  667.958668  0.000  1.000\n",
       "3                   BSc -168.550590   987.065373  651.231183  0.156  0.844\n",
       "4     Male          PhD  294.298042  1216.844021  645.612568  0.000  1.000\n",
       "..     ...          ...         ...          ...         ...    ...    ...\n",
       "994   Male   School SAT    3.329050          NaN  649.647338  0.156  0.844\n",
       "995   Male          PhD  -34.721255          NaN  619.945966  0.156  0.844\n",
       "996   Male          PhD  -55.516395   858.140616  637.922461  0.156  0.844\n",
       "997   Male          PhD  -43.164240   717.465601  675.808990  0.156  0.844\n",
       "998                 PhD -220.999640  1001.632875         NaN  0.156  0.844\n",
       "\n",
       "[893 rows x 7 columns]"
      ]
     },
     "execution_count": 32,
     "metadata": {},
     "output_type": "execute_result"
    }
   ],
   "source": [
    "knn_imputer = KNNImputer()\n",
    "inputed_df = knn_imputer.fit_transform(data[[1, 2]])\n",
    "data[1] = inputed_df[:, 0] # нулевая колонка у нас v1_scaled, которую и хотим заполнить\n",
    "data[2] = inputed_df[:, 1]\n",
    "data"
   ]
  },
  {
   "cell_type": "code",
   "execution_count": 33,
   "id": "encouraging-prisoner",
   "metadata": {},
   "outputs": [
    {
     "data": {
      "text/html": [
       "<div>\n",
       "<style scoped>\n",
       "    .dataframe tbody tr th:only-of-type {\n",
       "        vertical-align: middle;\n",
       "    }\n",
       "\n",
       "    .dataframe tbody tr th {\n",
       "        vertical-align: top;\n",
       "    }\n",
       "\n",
       "    .dataframe thead th {\n",
       "        text-align: right;\n",
       "    }\n",
       "</style>\n",
       "<table border=\"1\" class=\"dataframe\">\n",
       "  <thead>\n",
       "    <tr style=\"text-align: right;\">\n",
       "      <th></th>\n",
       "      <th>Gender</th>\n",
       "      <th>Education</th>\n",
       "      <th>num1_22</th>\n",
       "      <th>num2_22</th>\n",
       "      <th>num3_22</th>\n",
       "      <th>1</th>\n",
       "      <th>2</th>\n",
       "    </tr>\n",
       "  </thead>\n",
       "  <tbody>\n",
       "    <tr>\n",
       "      <th>0</th>\n",
       "      <td>Male</td>\n",
       "      <td>High School</td>\n",
       "      <td>311.628509</td>\n",
       "      <td>664.606363</td>\n",
       "      <td>648.531900</td>\n",
       "      <td>0.0</td>\n",
       "      <td>1.0</td>\n",
       "    </tr>\n",
       "    <tr>\n",
       "      <th>1</th>\n",
       "      <td>Male</td>\n",
       "      <td>PhD</td>\n",
       "      <td>88.551646</td>\n",
       "      <td>1001.232482</td>\n",
       "      <td>665.864398</td>\n",
       "      <td>0.0</td>\n",
       "      <td>1.0</td>\n",
       "    </tr>\n",
       "    <tr>\n",
       "      <th>2</th>\n",
       "      <td>Male</td>\n",
       "      <td>School SAT</td>\n",
       "      <td>314.105165</td>\n",
       "      <td>806.071418</td>\n",
       "      <td>667.958668</td>\n",
       "      <td>0.0</td>\n",
       "      <td>1.0</td>\n",
       "    </tr>\n",
       "    <tr>\n",
       "      <th>3</th>\n",
       "      <td></td>\n",
       "      <td>BSc</td>\n",
       "      <td>-168.550590</td>\n",
       "      <td>987.065373</td>\n",
       "      <td>651.231183</td>\n",
       "      <td>0.0</td>\n",
       "      <td>1.0</td>\n",
       "    </tr>\n",
       "    <tr>\n",
       "      <th>4</th>\n",
       "      <td>Male</td>\n",
       "      <td>PhD</td>\n",
       "      <td>294.298042</td>\n",
       "      <td>1216.844021</td>\n",
       "      <td>645.612568</td>\n",
       "      <td>0.0</td>\n",
       "      <td>1.0</td>\n",
       "    </tr>\n",
       "    <tr>\n",
       "      <th>...</th>\n",
       "      <td>...</td>\n",
       "      <td>...</td>\n",
       "      <td>...</td>\n",
       "      <td>...</td>\n",
       "      <td>...</td>\n",
       "      <td>...</td>\n",
       "      <td>...</td>\n",
       "    </tr>\n",
       "    <tr>\n",
       "      <th>994</th>\n",
       "      <td>Male</td>\n",
       "      <td>School SAT</td>\n",
       "      <td>3.329050</td>\n",
       "      <td>NaN</td>\n",
       "      <td>649.647338</td>\n",
       "      <td>0.0</td>\n",
       "      <td>1.0</td>\n",
       "    </tr>\n",
       "    <tr>\n",
       "      <th>995</th>\n",
       "      <td>Male</td>\n",
       "      <td>PhD</td>\n",
       "      <td>-34.721255</td>\n",
       "      <td>NaN</td>\n",
       "      <td>619.945966</td>\n",
       "      <td>0.0</td>\n",
       "      <td>1.0</td>\n",
       "    </tr>\n",
       "    <tr>\n",
       "      <th>996</th>\n",
       "      <td>Male</td>\n",
       "      <td>PhD</td>\n",
       "      <td>-55.516395</td>\n",
       "      <td>858.140616</td>\n",
       "      <td>637.922461</td>\n",
       "      <td>0.0</td>\n",
       "      <td>1.0</td>\n",
       "    </tr>\n",
       "    <tr>\n",
       "      <th>997</th>\n",
       "      <td>Male</td>\n",
       "      <td>PhD</td>\n",
       "      <td>-43.164240</td>\n",
       "      <td>717.465601</td>\n",
       "      <td>675.808990</td>\n",
       "      <td>0.0</td>\n",
       "      <td>1.0</td>\n",
       "    </tr>\n",
       "    <tr>\n",
       "      <th>998</th>\n",
       "      <td></td>\n",
       "      <td>PhD</td>\n",
       "      <td>-220.999640</td>\n",
       "      <td>1001.632875</td>\n",
       "      <td>NaN</td>\n",
       "      <td>0.0</td>\n",
       "      <td>1.0</td>\n",
       "    </tr>\n",
       "  </tbody>\n",
       "</table>\n",
       "<p>893 rows × 7 columns</p>\n",
       "</div>"
      ],
      "text/plain": [
       "    Gender    Education     num1_22      num2_22     num3_22    1    2\n",
       "0     Male  High School  311.628509   664.606363  648.531900  0.0  1.0\n",
       "1     Male          PhD   88.551646  1001.232482  665.864398  0.0  1.0\n",
       "2     Male   School SAT  314.105165   806.071418  667.958668  0.0  1.0\n",
       "3                   BSc -168.550590   987.065373  651.231183  0.0  1.0\n",
       "4     Male          PhD  294.298042  1216.844021  645.612568  0.0  1.0\n",
       "..     ...          ...         ...          ...         ...  ...  ...\n",
       "994   Male   School SAT    3.329050          NaN  649.647338  0.0  1.0\n",
       "995   Male          PhD  -34.721255          NaN  619.945966  0.0  1.0\n",
       "996   Male          PhD  -55.516395   858.140616  637.922461  0.0  1.0\n",
       "997   Male          PhD  -43.164240   717.465601  675.808990  0.0  1.0\n",
       "998                 PhD -220.999640  1001.632875         NaN  0.0  1.0\n",
       "\n",
       "[893 rows x 7 columns]"
      ]
     },
     "execution_count": 33,
     "metadata": {},
     "output_type": "execute_result"
    }
   ],
   "source": [
    "# Где значение 1>2 ставим 1, иначе 0\n",
    "data.loc[data[1] > data[2], 1] = 1\n",
    "data.loc[data[1] < data[2], 1] = 0\n",
    "data.loc[data[2] > data[1], 2] = 1\n",
    "data.loc[data[2] < data[1], 2] = 0\n",
    "data"
   ]
  },
  {
   "cell_type": "code",
   "execution_count": 34,
   "id": "operational-involvement",
   "metadata": {},
   "outputs": [
    {
     "data": {
      "text/plain": [
       "False"
      ]
     },
     "execution_count": 34,
     "metadata": {},
     "output_type": "execute_result"
    }
   ],
   "source": [
    "# Вручную обновляем столбец Gender\n",
    "data.loc[data[2] == 1, 'Gender'] = 'Male'\n",
    "data.loc[data[1] == 1, 'Gender'] = 'Female'\n",
    "data['Gender'].isnull().any()"
   ]
  },
  {
   "cell_type": "code",
   "execution_count": 35,
   "id": "usual-symphony",
   "metadata": {},
   "outputs": [
    {
     "data": {
      "text/html": [
       "<div>\n",
       "<style scoped>\n",
       "    .dataframe tbody tr th:only-of-type {\n",
       "        vertical-align: middle;\n",
       "    }\n",
       "\n",
       "    .dataframe tbody tr th {\n",
       "        vertical-align: top;\n",
       "    }\n",
       "\n",
       "    .dataframe thead th {\n",
       "        text-align: right;\n",
       "    }\n",
       "</style>\n",
       "<table border=\"1\" class=\"dataframe\">\n",
       "  <thead>\n",
       "    <tr style=\"text-align: right;\">\n",
       "      <th></th>\n",
       "      <th>Gender</th>\n",
       "      <th>Education</th>\n",
       "      <th>num1_22</th>\n",
       "      <th>num2_22</th>\n",
       "      <th>num3_22</th>\n",
       "    </tr>\n",
       "  </thead>\n",
       "  <tbody>\n",
       "    <tr>\n",
       "      <th>0</th>\n",
       "      <td>Male</td>\n",
       "      <td>High School</td>\n",
       "      <td>311.628509</td>\n",
       "      <td>664.606363</td>\n",
       "      <td>648.531900</td>\n",
       "    </tr>\n",
       "    <tr>\n",
       "      <th>1</th>\n",
       "      <td>Male</td>\n",
       "      <td>PhD</td>\n",
       "      <td>88.551646</td>\n",
       "      <td>1001.232482</td>\n",
       "      <td>665.864398</td>\n",
       "    </tr>\n",
       "    <tr>\n",
       "      <th>2</th>\n",
       "      <td>Male</td>\n",
       "      <td>School SAT</td>\n",
       "      <td>314.105165</td>\n",
       "      <td>806.071418</td>\n",
       "      <td>667.958668</td>\n",
       "    </tr>\n",
       "    <tr>\n",
       "      <th>3</th>\n",
       "      <td>Male</td>\n",
       "      <td>BSc</td>\n",
       "      <td>-168.550590</td>\n",
       "      <td>987.065373</td>\n",
       "      <td>651.231183</td>\n",
       "    </tr>\n",
       "    <tr>\n",
       "      <th>4</th>\n",
       "      <td>Male</td>\n",
       "      <td>PhD</td>\n",
       "      <td>294.298042</td>\n",
       "      <td>1216.844021</td>\n",
       "      <td>645.612568</td>\n",
       "    </tr>\n",
       "    <tr>\n",
       "      <th>...</th>\n",
       "      <td>...</td>\n",
       "      <td>...</td>\n",
       "      <td>...</td>\n",
       "      <td>...</td>\n",
       "      <td>...</td>\n",
       "    </tr>\n",
       "    <tr>\n",
       "      <th>994</th>\n",
       "      <td>Male</td>\n",
       "      <td>School SAT</td>\n",
       "      <td>3.329050</td>\n",
       "      <td>NaN</td>\n",
       "      <td>649.647338</td>\n",
       "    </tr>\n",
       "    <tr>\n",
       "      <th>995</th>\n",
       "      <td>Male</td>\n",
       "      <td>PhD</td>\n",
       "      <td>-34.721255</td>\n",
       "      <td>NaN</td>\n",
       "      <td>619.945966</td>\n",
       "    </tr>\n",
       "    <tr>\n",
       "      <th>996</th>\n",
       "      <td>Male</td>\n",
       "      <td>PhD</td>\n",
       "      <td>-55.516395</td>\n",
       "      <td>858.140616</td>\n",
       "      <td>637.922461</td>\n",
       "    </tr>\n",
       "    <tr>\n",
       "      <th>997</th>\n",
       "      <td>Male</td>\n",
       "      <td>PhD</td>\n",
       "      <td>-43.164240</td>\n",
       "      <td>717.465601</td>\n",
       "      <td>675.808990</td>\n",
       "    </tr>\n",
       "    <tr>\n",
       "      <th>998</th>\n",
       "      <td>Male</td>\n",
       "      <td>PhD</td>\n",
       "      <td>-220.999640</td>\n",
       "      <td>1001.632875</td>\n",
       "      <td>NaN</td>\n",
       "    </tr>\n",
       "  </tbody>\n",
       "</table>\n",
       "<p>893 rows × 5 columns</p>\n",
       "</div>"
      ],
      "text/plain": [
       "    Gender    Education     num1_22      num2_22     num3_22\n",
       "0     Male  High School  311.628509   664.606363  648.531900\n",
       "1     Male          PhD   88.551646  1001.232482  665.864398\n",
       "2     Male   School SAT  314.105165   806.071418  667.958668\n",
       "3     Male          BSc -168.550590   987.065373  651.231183\n",
       "4     Male          PhD  294.298042  1216.844021  645.612568\n",
       "..     ...          ...         ...          ...         ...\n",
       "994   Male   School SAT    3.329050          NaN  649.647338\n",
       "995   Male          PhD  -34.721255          NaN  619.945966\n",
       "996   Male          PhD  -55.516395   858.140616  637.922461\n",
       "997   Male          PhD  -43.164240   717.465601  675.808990\n",
       "998   Male          PhD -220.999640  1001.632875         NaN\n",
       "\n",
       "[893 rows x 5 columns]"
      ]
     },
     "execution_count": 35,
     "metadata": {},
     "output_type": "execute_result"
    }
   ],
   "source": [
    "data = data.drop(1, 1)\n",
    "data = data.drop(2, 1)\n",
    "data"
   ]
  },
  {
   "cell_type": "markdown",
   "id": "hourly-bradford",
   "metadata": {},
   "source": [
    "### Education, замена пропущенных значений самым популярным значением"
   ]
  },
  {
   "cell_type": "code",
   "execution_count": 36,
   "id": "japanese-participant",
   "metadata": {},
   "outputs": [
    {
     "data": {
      "text/plain": [
       "High School    269\n",
       "BSc            254\n",
       "PhD            211\n",
       "School SAT     106\n",
       "Name: Education, dtype: int64"
      ]
     },
     "execution_count": 36,
     "metadata": {},
     "output_type": "execute_result"
    }
   ],
   "source": [
    "data['Education'] = data['Education'].replace({'No information': None})\n",
    "data['Education'].value_counts()"
   ]
  },
  {
   "cell_type": "code",
   "execution_count": 37,
   "id": "unsigned-citation",
   "metadata": {},
   "outputs": [
    {
     "data": {
      "text/plain": [
       "High School    322\n",
       "BSc            254\n",
       "PhD            211\n",
       "School SAT     106\n",
       "Name: Education, dtype: int64"
      ]
     },
     "execution_count": 37,
     "metadata": {},
     "output_type": "execute_result"
    }
   ],
   "source": [
    "data_temp = Counter(data['Education'].dropna())\n",
    "mode = data_temp.most_common(1)[0][0]\n",
    "data['Education'].fillna(mode, inplace=True)\n",
    "data['Education'].value_counts()"
   ]
  },
  {
   "cell_type": "markdown",
   "id": "checked-dress",
   "metadata": {},
   "source": [
    "### num1_22 - среднее значение"
   ]
  },
  {
   "cell_type": "code",
   "execution_count": 38,
   "id": "chief-popularity",
   "metadata": {},
   "outputs": [
    {
     "data": {
      "text/plain": [
       "False"
      ]
     },
     "execution_count": 38,
     "metadata": {},
     "output_type": "execute_result"
    }
   ],
   "source": [
    "data['num1_22'].isnull().any()"
   ]
  },
  {
   "cell_type": "code",
   "execution_count": 39,
   "id": "devoted-testing",
   "metadata": {},
   "outputs": [
    {
     "data": {
      "text/plain": [
       "False"
      ]
     },
     "execution_count": 39,
     "metadata": {},
     "output_type": "execute_result"
    }
   ],
   "source": [
    "data['num1_22'].fillna(data['num1_22'].dropna().mean(), inplace=True)\n",
    "data['num1_22'].isnull().any()"
   ]
  },
  {
   "cell_type": "markdown",
   "id": "informational-maldives",
   "metadata": {},
   "source": [
    "### num3_22 - метод k-ближайших соседей"
   ]
  },
  {
   "cell_type": "code",
   "execution_count": 40,
   "id": "incredible-sheep",
   "metadata": {},
   "outputs": [
    {
     "name": "stdout",
     "output_type": "stream",
     "text": [
      "Кол-во NaN в атрибуте num3_22 = 79\n"
     ]
    },
    {
     "data": {
      "text/html": [
       "<div>\n",
       "<style scoped>\n",
       "    .dataframe tbody tr th:only-of-type {\n",
       "        vertical-align: middle;\n",
       "    }\n",
       "\n",
       "    .dataframe tbody tr th {\n",
       "        vertical-align: top;\n",
       "    }\n",
       "\n",
       "    .dataframe thead th {\n",
       "        text-align: right;\n",
       "    }\n",
       "</style>\n",
       "<table border=\"1\" class=\"dataframe\">\n",
       "  <thead>\n",
       "    <tr style=\"text-align: right;\">\n",
       "      <th></th>\n",
       "      <th>Gender</th>\n",
       "      <th>Education</th>\n",
       "      <th>num1_22</th>\n",
       "      <th>num2_22</th>\n",
       "      <th>num3_22</th>\n",
       "    </tr>\n",
       "  </thead>\n",
       "  <tbody>\n",
       "    <tr>\n",
       "      <th>0</th>\n",
       "      <td>Male</td>\n",
       "      <td>High School</td>\n",
       "      <td>311.628509</td>\n",
       "      <td>664.606363</td>\n",
       "      <td>648.531900</td>\n",
       "    </tr>\n",
       "    <tr>\n",
       "      <th>1</th>\n",
       "      <td>Male</td>\n",
       "      <td>PhD</td>\n",
       "      <td>88.551646</td>\n",
       "      <td>1001.232482</td>\n",
       "      <td>665.864398</td>\n",
       "    </tr>\n",
       "    <tr>\n",
       "      <th>2</th>\n",
       "      <td>Male</td>\n",
       "      <td>School SAT</td>\n",
       "      <td>314.105165</td>\n",
       "      <td>806.071418</td>\n",
       "      <td>667.958668</td>\n",
       "    </tr>\n",
       "    <tr>\n",
       "      <th>3</th>\n",
       "      <td>Male</td>\n",
       "      <td>BSc</td>\n",
       "      <td>-168.550590</td>\n",
       "      <td>987.065373</td>\n",
       "      <td>651.231183</td>\n",
       "    </tr>\n",
       "    <tr>\n",
       "      <th>4</th>\n",
       "      <td>Male</td>\n",
       "      <td>PhD</td>\n",
       "      <td>294.298042</td>\n",
       "      <td>1216.844021</td>\n",
       "      <td>645.612568</td>\n",
       "    </tr>\n",
       "    <tr>\n",
       "      <th>...</th>\n",
       "      <td>...</td>\n",
       "      <td>...</td>\n",
       "      <td>...</td>\n",
       "      <td>...</td>\n",
       "      <td>...</td>\n",
       "    </tr>\n",
       "    <tr>\n",
       "      <th>994</th>\n",
       "      <td>Male</td>\n",
       "      <td>School SAT</td>\n",
       "      <td>3.329050</td>\n",
       "      <td>NaN</td>\n",
       "      <td>649.647338</td>\n",
       "    </tr>\n",
       "    <tr>\n",
       "      <th>995</th>\n",
       "      <td>Male</td>\n",
       "      <td>PhD</td>\n",
       "      <td>-34.721255</td>\n",
       "      <td>NaN</td>\n",
       "      <td>619.945966</td>\n",
       "    </tr>\n",
       "    <tr>\n",
       "      <th>996</th>\n",
       "      <td>Male</td>\n",
       "      <td>PhD</td>\n",
       "      <td>-55.516395</td>\n",
       "      <td>858.140616</td>\n",
       "      <td>637.922461</td>\n",
       "    </tr>\n",
       "    <tr>\n",
       "      <th>997</th>\n",
       "      <td>Male</td>\n",
       "      <td>PhD</td>\n",
       "      <td>-43.164240</td>\n",
       "      <td>717.465601</td>\n",
       "      <td>675.808990</td>\n",
       "    </tr>\n",
       "    <tr>\n",
       "      <th>998</th>\n",
       "      <td>Male</td>\n",
       "      <td>PhD</td>\n",
       "      <td>-220.999640</td>\n",
       "      <td>1001.632875</td>\n",
       "      <td>NaN</td>\n",
       "    </tr>\n",
       "  </tbody>\n",
       "</table>\n",
       "<p>893 rows × 5 columns</p>\n",
       "</div>"
      ],
      "text/plain": [
       "    Gender    Education     num1_22      num2_22     num3_22\n",
       "0     Male  High School  311.628509   664.606363  648.531900\n",
       "1     Male          PhD   88.551646  1001.232482  665.864398\n",
       "2     Male   School SAT  314.105165   806.071418  667.958668\n",
       "3     Male          BSc -168.550590   987.065373  651.231183\n",
       "4     Male          PhD  294.298042  1216.844021  645.612568\n",
       "..     ...          ...         ...          ...         ...\n",
       "994   Male   School SAT    3.329050          NaN  649.647338\n",
       "995   Male          PhD  -34.721255          NaN  619.945966\n",
       "996   Male          PhD  -55.516395   858.140616  637.922461\n",
       "997   Male          PhD  -43.164240   717.465601  675.808990\n",
       "998   Male          PhD -220.999640  1001.632875         NaN\n",
       "\n",
       "[893 rows x 5 columns]"
      ]
     },
     "execution_count": 40,
     "metadata": {},
     "output_type": "execute_result"
    }
   ],
   "source": [
    "print(f\"Кол-во NaN в атрибуте num3_22 = {str(len(data['num3_22'][pd.isnull(data['num3_22'])]))}\")\n",
    "data"
   ]
  },
  {
   "cell_type": "code",
   "execution_count": 41,
   "id": "american-foster",
   "metadata": {},
   "outputs": [
    {
     "name": "stdout",
     "output_type": "stream",
     "text": [
      "Кол-во NaN в атрибуте num3_22 = 0\n"
     ]
    },
    {
     "data": {
      "text/html": [
       "<div>\n",
       "<style scoped>\n",
       "    .dataframe tbody tr th:only-of-type {\n",
       "        vertical-align: middle;\n",
       "    }\n",
       "\n",
       "    .dataframe tbody tr th {\n",
       "        vertical-align: top;\n",
       "    }\n",
       "\n",
       "    .dataframe thead th {\n",
       "        text-align: right;\n",
       "    }\n",
       "</style>\n",
       "<table border=\"1\" class=\"dataframe\">\n",
       "  <thead>\n",
       "    <tr style=\"text-align: right;\">\n",
       "      <th></th>\n",
       "      <th>Gender</th>\n",
       "      <th>Education</th>\n",
       "      <th>num1_22</th>\n",
       "      <th>num2_22</th>\n",
       "      <th>num3_22</th>\n",
       "    </tr>\n",
       "  </thead>\n",
       "  <tbody>\n",
       "    <tr>\n",
       "      <th>0</th>\n",
       "      <td>Male</td>\n",
       "      <td>High School</td>\n",
       "      <td>311.628509</td>\n",
       "      <td>664.606363</td>\n",
       "      <td>648.531900</td>\n",
       "    </tr>\n",
       "    <tr>\n",
       "      <th>1</th>\n",
       "      <td>Male</td>\n",
       "      <td>PhD</td>\n",
       "      <td>88.551646</td>\n",
       "      <td>1001.232482</td>\n",
       "      <td>665.864398</td>\n",
       "    </tr>\n",
       "    <tr>\n",
       "      <th>2</th>\n",
       "      <td>Male</td>\n",
       "      <td>School SAT</td>\n",
       "      <td>314.105165</td>\n",
       "      <td>806.071418</td>\n",
       "      <td>667.958668</td>\n",
       "    </tr>\n",
       "    <tr>\n",
       "      <th>3</th>\n",
       "      <td>Male</td>\n",
       "      <td>BSc</td>\n",
       "      <td>-168.550590</td>\n",
       "      <td>987.065373</td>\n",
       "      <td>651.231183</td>\n",
       "    </tr>\n",
       "    <tr>\n",
       "      <th>4</th>\n",
       "      <td>Male</td>\n",
       "      <td>PhD</td>\n",
       "      <td>294.298042</td>\n",
       "      <td>1216.844021</td>\n",
       "      <td>645.612568</td>\n",
       "    </tr>\n",
       "    <tr>\n",
       "      <th>...</th>\n",
       "      <td>...</td>\n",
       "      <td>...</td>\n",
       "      <td>...</td>\n",
       "      <td>...</td>\n",
       "      <td>...</td>\n",
       "    </tr>\n",
       "    <tr>\n",
       "      <th>994</th>\n",
       "      <td>Male</td>\n",
       "      <td>School SAT</td>\n",
       "      <td>3.329050</td>\n",
       "      <td>NaN</td>\n",
       "      <td>649.647338</td>\n",
       "    </tr>\n",
       "    <tr>\n",
       "      <th>995</th>\n",
       "      <td>Male</td>\n",
       "      <td>PhD</td>\n",
       "      <td>-34.721255</td>\n",
       "      <td>NaN</td>\n",
       "      <td>619.945966</td>\n",
       "    </tr>\n",
       "    <tr>\n",
       "      <th>996</th>\n",
       "      <td>Male</td>\n",
       "      <td>PhD</td>\n",
       "      <td>-55.516395</td>\n",
       "      <td>858.140616</td>\n",
       "      <td>637.922461</td>\n",
       "    </tr>\n",
       "    <tr>\n",
       "      <th>997</th>\n",
       "      <td>Male</td>\n",
       "      <td>PhD</td>\n",
       "      <td>-43.164240</td>\n",
       "      <td>717.465601</td>\n",
       "      <td>675.808990</td>\n",
       "    </tr>\n",
       "    <tr>\n",
       "      <th>998</th>\n",
       "      <td>Male</td>\n",
       "      <td>PhD</td>\n",
       "      <td>-220.999640</td>\n",
       "      <td>1001.632875</td>\n",
       "      <td>662.304941</td>\n",
       "    </tr>\n",
       "  </tbody>\n",
       "</table>\n",
       "<p>893 rows × 5 columns</p>\n",
       "</div>"
      ],
      "text/plain": [
       "    Gender    Education     num1_22      num2_22     num3_22\n",
       "0     Male  High School  311.628509   664.606363  648.531900\n",
       "1     Male          PhD   88.551646  1001.232482  665.864398\n",
       "2     Male   School SAT  314.105165   806.071418  667.958668\n",
       "3     Male          BSc -168.550590   987.065373  651.231183\n",
       "4     Male          PhD  294.298042  1216.844021  645.612568\n",
       "..     ...          ...         ...          ...         ...\n",
       "994   Male   School SAT    3.329050          NaN  649.647338\n",
       "995   Male          PhD  -34.721255          NaN  619.945966\n",
       "996   Male          PhD  -55.516395   858.140616  637.922461\n",
       "997   Male          PhD  -43.164240   717.465601  675.808990\n",
       "998   Male          PhD -220.999640  1001.632875  662.304941\n",
       "\n",
       "[893 rows x 5 columns]"
      ]
     },
     "execution_count": 41,
     "metadata": {},
     "output_type": "execute_result"
    }
   ],
   "source": [
    "knn_imputer = KNNImputer()\n",
    "inputed_df = knn_imputer.fit_transform(data[['num2_22', 'num3_22']])\n",
    "data['num3_22'] = inputed_df[:, 1]\n",
    "print(f\"Кол-во NaN в атрибуте num3_22 = {str(len(data['num3_22'][pd.isnull(data['num3_22'])]))}\")\n",
    "data"
   ]
  },
  {
   "cell_type": "markdown",
   "id": "tired-april",
   "metadata": {},
   "source": [
    "### num2_22 - медиана"
   ]
  },
  {
   "cell_type": "markdown",
   "id": "imposed-comparative",
   "metadata": {},
   "source": [
    "#### num2_22 после num3_22, чтобы значение статистик num2_22 не полвияло на работу knn "
   ]
  },
  {
   "cell_type": "code",
   "execution_count": 42,
   "id": "fixed-berry",
   "metadata": {},
   "outputs": [
    {
     "name": "stdout",
     "output_type": "stream",
     "text": [
      "Кол-во NaN в атрибуте num2_22 = 44\n"
     ]
    }
   ],
   "source": [
    "print(f\"Кол-во NaN в атрибуте num2_22 = {str(len(data['num2_22'][pd.isnull(data['num2_22'])]))}\")"
   ]
  },
  {
   "cell_type": "code",
   "execution_count": 43,
   "id": "crazy-renewal",
   "metadata": {},
   "outputs": [
    {
     "name": "stdout",
     "output_type": "stream",
     "text": [
      "Кол-во NaN в атрибуте num2_22 = 0\n"
     ]
    }
   ],
   "source": [
    "data['num2_22'].fillna(np.median(data['num2_22'].dropna()), inplace=True)\n",
    "print(f\"Кол-во NaN в атрибуте num2_22 = {str(len(data['num2_22'][pd.isnull(data['num2_22'])]))}\")"
   ]
  },
  {
   "cell_type": "markdown",
   "id": "sitting-discharge",
   "metadata": {},
   "source": [
    "## Повторно рисуем графики из 3 шага"
   ]
  },
  {
   "cell_type": "markdown",
   "id": "naval-light",
   "metadata": {},
   "source": [
    "### Gender"
   ]
  },
  {
   "cell_type": "code",
   "execution_count": 44,
   "id": "numeric-strip",
   "metadata": {},
   "outputs": [
    {
     "data": {
      "text/plain": [
       "<Figure size 720x504 with 0 Axes>"
      ]
     },
     "metadata": {},
     "output_type": "display_data"
    },
    {
     "data": {
      "image/png": "[encoded data removed]",
      "text/plain": [
       "<Figure size 360x360 with 1 Axes>"
      ]
     },
     "metadata": {},
     "output_type": "display_data"
    },
    {
     "data": {
      "image/png": "[encoded data removed]",
      "text/plain": [
       "<Figure size 720x504 with 1 Axes>"
      ]
     },
     "metadata": {},
     "output_type": "display_data"
    }
   ],
   "source": [
    "plt.figure(figsize=(10,7))\n",
    "sns.set_theme(style=\"whitegrid\")\n",
    "sns.displot(data['Gender'])\n",
    "plt.show()\n",
    "\n",
    "plt.figure(figsize=(10,7))\n",
    "temp = data['Gender'].value_counts()\n",
    "temp.plot.pie(autopct=\"%.1f%%\")\n",
    "plt.show()"
   ]
  },
  {
   "cell_type": "markdown",
   "id": "noticed-michael",
   "metadata": {},
   "source": [
    "### Education"
   ]
  },
  {
   "cell_type": "code",
   "execution_count": 45,
   "id": "about-hypothesis",
   "metadata": {},
   "outputs": [
    {
     "data": {
      "text/plain": [
       "<Figure size 720x504 with 0 Axes>"
      ]
     },
     "metadata": {},
     "output_type": "display_data"
    },
    {
     "data": {
      "image/png": "[encoded data removed]",
      "text/plain": [
       "<Figure size 360x360 with 1 Axes>"
      ]
     },
     "metadata": {},
     "output_type": "display_data"
    },
    {
     "data": {
      "image/png": "[encoded data removed]",
      "text/plain": [
       "<Figure size 720x504 with 1 Axes>"
      ]
     },
     "metadata": {},
     "output_type": "display_data"
    }
   ],
   "source": [
    "plt.figure(figsize=(10,7))\n",
    "sns.set_theme(style=\"whitegrid\")\n",
    "sns.displot(data['Education'])\n",
    "plt.show()\n",
    "\n",
    "plt.figure(figsize=(10,7))\n",
    "temp = data['Education'].value_counts()\n",
    "temp.plot.pie(autopct=\"%.1f%%\")\n",
    "plt.show()"
   ]
  },
  {
   "cell_type": "markdown",
   "id": "curious-rehabilitation",
   "metadata": {},
   "source": [
    "### num1_22"
   ]
  },
  {
   "cell_type": "code",
   "execution_count": 46,
   "id": "homeless-today",
   "metadata": {},
   "outputs": [
    {
     "data": {
      "text/plain": [
       "<Figure size 720x360 with 0 Axes>"
      ]
     },
     "metadata": {},
     "output_type": "display_data"
    },
    {
     "data": {
      "image/png": "[encoded data removed]",
      "text/plain": [
       "<Figure size 360x360 with 1 Axes>"
      ]
     },
     "metadata": {},
     "output_type": "display_data"
    },
    {
     "data": {
      "image/png": "[encoded data removed]",
      "text/plain": [
       "<Figure size 720x360 with 1 Axes>"
      ]
     },
     "metadata": {},
     "output_type": "display_data"
    }
   ],
   "source": [
    "plt.figure(figsize=(10,5))\n",
    "sns.displot(data, x=\"num1_22\", kde=True)\n",
    "plt.show()\n",
    "\n",
    "plt.figure(figsize=(10,5))\n",
    "ax = sns.boxplot(x=data['num1_22'], palette=\"Set2\")\n",
    "plt.show()"
   ]
  },
  {
   "cell_type": "markdown",
   "id": "acceptable-glance",
   "metadata": {},
   "source": [
    "### num2_22"
   ]
  },
  {
   "cell_type": "code",
   "execution_count": 47,
   "id": "inclusive-service",
   "metadata": {},
   "outputs": [
    {
     "data": {
      "text/plain": [
       "<Figure size 720x360 with 0 Axes>"
      ]
     },
     "metadata": {},
     "output_type": "display_data"
    },
    {
     "data": {
      "image/png": "[encoded data removed]",
      "text/plain": [
       "<Figure size 360x360 with 1 Axes>"
      ]
     },
     "metadata": {},
     "output_type": "display_data"
    },
    {
     "data": {
      "image/png": "[encoded data removed]",
      "text/plain": [
       "<Figure size 720x360 with 1 Axes>"
      ]
     },
     "metadata": {},
     "output_type": "display_data"
    }
   ],
   "source": [
    "plt.figure(figsize=(10,5))\n",
    "sns.displot(data['num2_22'], kde=True)\n",
    "plt.show() \n",
    "\n",
    "plt.figure(figsize=(10,5))\n",
    "ax = sns.boxplot(x=data['num2_22'], palette=\"Set1\")\n",
    "plt.show()"
   ]
  },
  {
   "cell_type": "markdown",
   "id": "independent-financing",
   "metadata": {},
   "source": [
    "### num3_22"
   ]
  },
  {
   "cell_type": "code",
   "execution_count": 48,
   "id": "liquid-humanitarian",
   "metadata": {},
   "outputs": [
    {
     "data": {
      "text/plain": [
       "<Figure size 720x360 with 0 Axes>"
      ]
     },
     "metadata": {},
     "output_type": "display_data"
    },
    {
     "data": {
      "image/png": "[encoded data removed]",
      "text/plain": [
       "<Figure size 360x360 with 1 Axes>"
      ]
     },
     "metadata": {},
     "output_type": "display_data"
    },
    {
     "data": {
      "image/png": "[encoded data removed]",
      "text/plain": [
       "<Figure size 720x360 with 1 Axes>"
      ]
     },
     "metadata": {},
     "output_type": "display_data"
    }
   ],
   "source": [
    "plt.figure(figsize=(10,5))\n",
    "sns.displot(data['num3_22'], kde=True)\n",
    "plt.show() \n",
    "\n",
    "plt.figure(figsize=(10,5))\n",
    "ax = sns.boxplot(x=data['num3_22'], palette=\"Set3\")\n",
    "plt.show()"
   ]
  },
  {
   "cell_type": "markdown",
   "id": "received-bolivia",
   "metadata": {},
   "source": [
    "## Labelconding"
   ]
  },
  {
   "cell_type": "code",
   "execution_count": 49,
   "id": "continental-exclusion",
   "metadata": {},
   "outputs": [
    {
     "data": {
      "text/html": [
       "<div>\n",
       "<style scoped>\n",
       "    .dataframe tbody tr th:only-of-type {\n",
       "        vertical-align: middle;\n",
       "    }\n",
       "\n",
       "    .dataframe tbody tr th {\n",
       "        vertical-align: top;\n",
       "    }\n",
       "\n",
       "    .dataframe thead th {\n",
       "        text-align: right;\n",
       "    }\n",
       "</style>\n",
       "<table border=\"1\" class=\"dataframe\">\n",
       "  <thead>\n",
       "    <tr style=\"text-align: right;\">\n",
       "      <th></th>\n",
       "      <th>Gender</th>\n",
       "      <th>Education</th>\n",
       "      <th>num1_22</th>\n",
       "      <th>num2_22</th>\n",
       "      <th>num3_22</th>\n",
       "    </tr>\n",
       "  </thead>\n",
       "  <tbody>\n",
       "    <tr>\n",
       "      <th>0</th>\n",
       "      <td>1</td>\n",
       "      <td>High School</td>\n",
       "      <td>311.628509</td>\n",
       "      <td>664.606363</td>\n",
       "      <td>648.531900</td>\n",
       "    </tr>\n",
       "    <tr>\n",
       "      <th>1</th>\n",
       "      <td>1</td>\n",
       "      <td>PhD</td>\n",
       "      <td>88.551646</td>\n",
       "      <td>1001.232482</td>\n",
       "      <td>665.864398</td>\n",
       "    </tr>\n",
       "    <tr>\n",
       "      <th>2</th>\n",
       "      <td>1</td>\n",
       "      <td>School SAT</td>\n",
       "      <td>314.105165</td>\n",
       "      <td>806.071418</td>\n",
       "      <td>667.958668</td>\n",
       "    </tr>\n",
       "    <tr>\n",
       "      <th>3</th>\n",
       "      <td>1</td>\n",
       "      <td>BSc</td>\n",
       "      <td>-168.550590</td>\n",
       "      <td>987.065373</td>\n",
       "      <td>651.231183</td>\n",
       "    </tr>\n",
       "    <tr>\n",
       "      <th>4</th>\n",
       "      <td>1</td>\n",
       "      <td>PhD</td>\n",
       "      <td>294.298042</td>\n",
       "      <td>1216.844021</td>\n",
       "      <td>645.612568</td>\n",
       "    </tr>\n",
       "    <tr>\n",
       "      <th>...</th>\n",
       "      <td>...</td>\n",
       "      <td>...</td>\n",
       "      <td>...</td>\n",
       "      <td>...</td>\n",
       "      <td>...</td>\n",
       "    </tr>\n",
       "    <tr>\n",
       "      <th>994</th>\n",
       "      <td>1</td>\n",
       "      <td>School SAT</td>\n",
       "      <td>3.329050</td>\n",
       "      <td>936.861148</td>\n",
       "      <td>649.647338</td>\n",
       "    </tr>\n",
       "    <tr>\n",
       "      <th>995</th>\n",
       "      <td>1</td>\n",
       "      <td>PhD</td>\n",
       "      <td>-34.721255</td>\n",
       "      <td>936.861148</td>\n",
       "      <td>619.945966</td>\n",
       "    </tr>\n",
       "    <tr>\n",
       "      <th>996</th>\n",
       "      <td>1</td>\n",
       "      <td>PhD</td>\n",
       "      <td>-55.516395</td>\n",
       "      <td>858.140616</td>\n",
       "      <td>637.922461</td>\n",
       "    </tr>\n",
       "    <tr>\n",
       "      <th>997</th>\n",
       "      <td>1</td>\n",
       "      <td>PhD</td>\n",
       "      <td>-43.164240</td>\n",
       "      <td>717.465601</td>\n",
       "      <td>675.808990</td>\n",
       "    </tr>\n",
       "    <tr>\n",
       "      <th>998</th>\n",
       "      <td>1</td>\n",
       "      <td>PhD</td>\n",
       "      <td>-220.999640</td>\n",
       "      <td>1001.632875</td>\n",
       "      <td>662.304941</td>\n",
       "    </tr>\n",
       "  </tbody>\n",
       "</table>\n",
       "<p>893 rows × 5 columns</p>\n",
       "</div>"
      ],
      "text/plain": [
       "     Gender    Education     num1_22      num2_22     num3_22\n",
       "0         1  High School  311.628509   664.606363  648.531900\n",
       "1         1          PhD   88.551646  1001.232482  665.864398\n",
       "2         1   School SAT  314.105165   806.071418  667.958668\n",
       "3         1          BSc -168.550590   987.065373  651.231183\n",
       "4         1          PhD  294.298042  1216.844021  645.612568\n",
       "..      ...          ...         ...          ...         ...\n",
       "994       1   School SAT    3.329050   936.861148  649.647338\n",
       "995       1          PhD  -34.721255   936.861148  619.945966\n",
       "996       1          PhD  -55.516395   858.140616  637.922461\n",
       "997       1          PhD  -43.164240   717.465601  675.808990\n",
       "998       1          PhD -220.999640  1001.632875  662.304941\n",
       "\n",
       "[893 rows x 5 columns]"
      ]
     },
     "execution_count": 49,
     "metadata": {},
     "output_type": "execute_result"
    }
   ],
   "source": [
    "le = LabelEncoder()\n",
    "data['Gender'] = le.fit_transform(data['Gender'])\n",
    "data"
   ]
  },
  {
   "cell_type": "code",
   "execution_count": 50,
   "id": "shared-toddler",
   "metadata": {},
   "outputs": [
    {
     "data": {
      "text/html": [
       "<div>\n",
       "<style scoped>\n",
       "    .dataframe tbody tr th:only-of-type {\n",
       "        vertical-align: middle;\n",
       "    }\n",
       "\n",
       "    .dataframe tbody tr th {\n",
       "        vertical-align: top;\n",
       "    }\n",
       "\n",
       "    .dataframe thead th {\n",
       "        text-align: right;\n",
       "    }\n",
       "</style>\n",
       "<table border=\"1\" class=\"dataframe\">\n",
       "  <thead>\n",
       "    <tr style=\"text-align: right;\">\n",
       "      <th></th>\n",
       "      <th>Gender</th>\n",
       "      <th>Education</th>\n",
       "      <th>num1_22</th>\n",
       "      <th>num2_22</th>\n",
       "      <th>num3_22</th>\n",
       "    </tr>\n",
       "  </thead>\n",
       "  <tbody>\n",
       "    <tr>\n",
       "      <th>0</th>\n",
       "      <td>1</td>\n",
       "      <td>1</td>\n",
       "      <td>311.628509</td>\n",
       "      <td>664.606363</td>\n",
       "      <td>648.531900</td>\n",
       "    </tr>\n",
       "    <tr>\n",
       "      <th>1</th>\n",
       "      <td>1</td>\n",
       "      <td>2</td>\n",
       "      <td>88.551646</td>\n",
       "      <td>1001.232482</td>\n",
       "      <td>665.864398</td>\n",
       "    </tr>\n",
       "    <tr>\n",
       "      <th>2</th>\n",
       "      <td>1</td>\n",
       "      <td>3</td>\n",
       "      <td>314.105165</td>\n",
       "      <td>806.071418</td>\n",
       "      <td>667.958668</td>\n",
       "    </tr>\n",
       "    <tr>\n",
       "      <th>3</th>\n",
       "      <td>1</td>\n",
       "      <td>0</td>\n",
       "      <td>-168.550590</td>\n",
       "      <td>987.065373</td>\n",
       "      <td>651.231183</td>\n",
       "    </tr>\n",
       "    <tr>\n",
       "      <th>4</th>\n",
       "      <td>1</td>\n",
       "      <td>2</td>\n",
       "      <td>294.298042</td>\n",
       "      <td>1216.844021</td>\n",
       "      <td>645.612568</td>\n",
       "    </tr>\n",
       "    <tr>\n",
       "      <th>...</th>\n",
       "      <td>...</td>\n",
       "      <td>...</td>\n",
       "      <td>...</td>\n",
       "      <td>...</td>\n",
       "      <td>...</td>\n",
       "    </tr>\n",
       "    <tr>\n",
       "      <th>994</th>\n",
       "      <td>1</td>\n",
       "      <td>3</td>\n",
       "      <td>3.329050</td>\n",
       "      <td>936.861148</td>\n",
       "      <td>649.647338</td>\n",
       "    </tr>\n",
       "    <tr>\n",
       "      <th>995</th>\n",
       "      <td>1</td>\n",
       "      <td>2</td>\n",
       "      <td>-34.721255</td>\n",
       "      <td>936.861148</td>\n",
       "      <td>619.945966</td>\n",
       "    </tr>\n",
       "    <tr>\n",
       "      <th>996</th>\n",
       "      <td>1</td>\n",
       "      <td>2</td>\n",
       "      <td>-55.516395</td>\n",
       "      <td>858.140616</td>\n",
       "      <td>637.922461</td>\n",
       "    </tr>\n",
       "    <tr>\n",
       "      <th>997</th>\n",
       "      <td>1</td>\n",
       "      <td>2</td>\n",
       "      <td>-43.164240</td>\n",
       "      <td>717.465601</td>\n",
       "      <td>675.808990</td>\n",
       "    </tr>\n",
       "    <tr>\n",
       "      <th>998</th>\n",
       "      <td>1</td>\n",
       "      <td>2</td>\n",
       "      <td>-220.999640</td>\n",
       "      <td>1001.632875</td>\n",
       "      <td>662.304941</td>\n",
       "    </tr>\n",
       "  </tbody>\n",
       "</table>\n",
       "<p>893 rows × 5 columns</p>\n",
       "</div>"
      ],
      "text/plain": [
       "     Gender  Education     num1_22      num2_22     num3_22\n",
       "0         1          1  311.628509   664.606363  648.531900\n",
       "1         1          2   88.551646  1001.232482  665.864398\n",
       "2         1          3  314.105165   806.071418  667.958668\n",
       "3         1          0 -168.550590   987.065373  651.231183\n",
       "4         1          2  294.298042  1216.844021  645.612568\n",
       "..      ...        ...         ...          ...         ...\n",
       "994       1          3    3.329050   936.861148  649.647338\n",
       "995       1          2  -34.721255   936.861148  619.945966\n",
       "996       1          2  -55.516395   858.140616  637.922461\n",
       "997       1          2  -43.164240   717.465601  675.808990\n",
       "998       1          2 -220.999640  1001.632875  662.304941\n",
       "\n",
       "[893 rows x 5 columns]"
      ]
     },
     "execution_count": 50,
     "metadata": {},
     "output_type": "execute_result"
    }
   ],
   "source": [
    "data['Education'] = le.fit_transform(data['Education'])\n",
    "data"
   ]
  },
  {
   "cell_type": "markdown",
   "id": "covered-vintage",
   "metadata": {},
   "source": [
    "## Преобразование данных"
   ]
  },
  {
   "cell_type": "code",
   "execution_count": 51,
   "id": "faced-framing",
   "metadata": {
    "scrolled": true
   },
   "outputs": [
    {
     "data": {
      "text/html": [
       "<div>\n",
       "<style scoped>\n",
       "    .dataframe tbody tr th:only-of-type {\n",
       "        vertical-align: middle;\n",
       "    }\n",
       "\n",
       "    .dataframe tbody tr th {\n",
       "        vertical-align: top;\n",
       "    }\n",
       "\n",
       "    .dataframe thead th {\n",
       "        text-align: right;\n",
       "    }\n",
       "</style>\n",
       "<table border=\"1\" class=\"dataframe\">\n",
       "  <thead>\n",
       "    <tr style=\"text-align: right;\">\n",
       "      <th></th>\n",
       "      <th>Gender</th>\n",
       "      <th>Education</th>\n",
       "      <th>num1_22</th>\n",
       "      <th>num2_22</th>\n",
       "      <th>num3_22</th>\n",
       "    </tr>\n",
       "  </thead>\n",
       "  <tbody>\n",
       "    <tr>\n",
       "      <th>0</th>\n",
       "      <td>1</td>\n",
       "      <td>1</td>\n",
       "      <td>0.629187</td>\n",
       "      <td>0.355773</td>\n",
       "      <td>0.510758</td>\n",
       "    </tr>\n",
       "    <tr>\n",
       "      <th>1</th>\n",
       "      <td>1</td>\n",
       "      <td>2</td>\n",
       "      <td>0.495883</td>\n",
       "      <td>0.577079</td>\n",
       "      <td>0.701484</td>\n",
       "    </tr>\n",
       "    <tr>\n",
       "      <th>2</th>\n",
       "      <td>1</td>\n",
       "      <td>3</td>\n",
       "      <td>0.630667</td>\n",
       "      <td>0.448775</td>\n",
       "      <td>0.724529</td>\n",
       "    </tr>\n",
       "    <tr>\n",
       "      <th>3</th>\n",
       "      <td>1</td>\n",
       "      <td>0</td>\n",
       "      <td>0.342247</td>\n",
       "      <td>0.567765</td>\n",
       "      <td>0.540460</td>\n",
       "    </tr>\n",
       "    <tr>\n",
       "      <th>4</th>\n",
       "      <td>1</td>\n",
       "      <td>2</td>\n",
       "      <td>0.618831</td>\n",
       "      <td>0.718827</td>\n",
       "      <td>0.478633</td>\n",
       "    </tr>\n",
       "    <tr>\n",
       "      <th>...</th>\n",
       "      <td>...</td>\n",
       "      <td>...</td>\n",
       "      <td>...</td>\n",
       "      <td>...</td>\n",
       "      <td>...</td>\n",
       "    </tr>\n",
       "    <tr>\n",
       "      <th>994</th>\n",
       "      <td>1</td>\n",
       "      <td>3</td>\n",
       "      <td>0.444957</td>\n",
       "      <td>0.534759</td>\n",
       "      <td>0.523032</td>\n",
       "    </tr>\n",
       "    <tr>\n",
       "      <th>995</th>\n",
       "      <td>1</td>\n",
       "      <td>2</td>\n",
       "      <td>0.422219</td>\n",
       "      <td>0.534759</td>\n",
       "      <td>0.196199</td>\n",
       "    </tr>\n",
       "    <tr>\n",
       "      <th>996</th>\n",
       "      <td>1</td>\n",
       "      <td>2</td>\n",
       "      <td>0.409792</td>\n",
       "      <td>0.483007</td>\n",
       "      <td>0.394012</td>\n",
       "    </tr>\n",
       "    <tr>\n",
       "      <th>997</th>\n",
       "      <td>1</td>\n",
       "      <td>2</td>\n",
       "      <td>0.417174</td>\n",
       "      <td>0.390523</td>\n",
       "      <td>0.810914</td>\n",
       "    </tr>\n",
       "    <tr>\n",
       "      <th>998</th>\n",
       "      <td>1</td>\n",
       "      <td>2</td>\n",
       "      <td>0.310905</td>\n",
       "      <td>0.577342</td>\n",
       "      <td>0.662316</td>\n",
       "    </tr>\n",
       "  </tbody>\n",
       "</table>\n",
       "<p>893 rows × 5 columns</p>\n",
       "</div>"
      ],
      "text/plain": [
       "     Gender  Education   num1_22   num2_22   num3_22\n",
       "0         1          1  0.629187  0.355773  0.510758\n",
       "1         1          2  0.495883  0.577079  0.701484\n",
       "2         1          3  0.630667  0.448775  0.724529\n",
       "3         1          0  0.342247  0.567765  0.540460\n",
       "4         1          2  0.618831  0.718827  0.478633\n",
       "..      ...        ...       ...       ...       ...\n",
       "994       1          3  0.444957  0.534759  0.523032\n",
       "995       1          2  0.422219  0.534759  0.196199\n",
       "996       1          2  0.409792  0.483007  0.394012\n",
       "997       1          2  0.417174  0.390523  0.810914\n",
       "998       1          2  0.310905  0.577342  0.662316\n",
       "\n",
       "[893 rows x 5 columns]"
      ]
     },
     "execution_count": 51,
     "metadata": {},
     "output_type": "execute_result"
    }
   ],
   "source": [
    "scaler = MinMaxScaler()\n",
    "scaled_values = scaler.fit_transform(data[['num1_22', 'num2_22', 'num3_22']])\n",
    "data[['num1_22', 'num2_22', 'num3_22']] = scaled_values\n",
    "data"
   ]
  },
  {
   "cell_type": "code",
   "execution_count": 52,
   "id": "extensive-shannon",
   "metadata": {},
   "outputs": [
    {
     "data": {
      "text/plain": [
       "<Figure size 720x360 with 0 Axes>"
      ]
     },
     "metadata": {},
     "output_type": "display_data"
    },
    {
     "data": {
      "image/png": "[encoded data removed]",
      "text/plain": [
       "<Figure size 360x360 with 1 Axes>"
      ]
     },
     "metadata": {},
     "output_type": "display_data"
    },
    {
     "data": {
      "image/png": "[encoded data removed]",
      "text/plain": [
       "<Figure size 720x360 with 1 Axes>"
      ]
     },
     "metadata": {},
     "output_type": "display_data"
    }
   ],
   "source": [
    "plt.figure(figsize=(10,5))\n",
    "sns.displot(data['num2_22'], kde=True)\n",
    "plt.show() \n",
    "\n",
    "plt.figure(figsize=(10,5))\n",
    "ax = sns.boxplot(x=data['num2_22'], palette=\"Set1\")\n",
    "plt.show()\n"
   ]
  }
 ],
 "metadata": {
  "kernelspec": {
   "display_name": "Python 3",
   "language": "python",
   "name": "python3"
  },
  "language_info": {
   "codemirror_mode": {
    "name": "ipython",
    "version": 3
   },
   "file_extension": ".py",
   "mimetype": "text/x-python",
   "name": "python",
   "nbconvert_exporter": "python",
   "pygments_lexer": "ipython3",
   "version": "3.8.2"
  }
 },
 "nbformat": 4,
 "nbformat_minor": 5
}
